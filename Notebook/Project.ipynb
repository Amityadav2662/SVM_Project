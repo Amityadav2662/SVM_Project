{
 "cells": [
  {
   "cell_type": "markdown",
   "id": "1ad73cb4-d007-4914-a0dc-c02909109a3b",
   "metadata": {},
   "source": [
    "# End_to_End Project using logistic, SVM, Naive_bayes, Desicion_Tree"
   ]
  },
  {
   "cell_type": "code",
   "execution_count": 1,
   "id": "c59205b3-9ec7-4fb2-9f6b-450642ba8a05",
   "metadata": {},
   "outputs": [],
   "source": [
    "import pandas as pd\n",
    "import matplotlib.pyplot as plt\n",
    "import seaborn as sns\n",
    "import numpy as np\n",
    "from sklearn.preprocessing import StandardScaler\n",
    "from sklearn.model_selection import train_test_split\n",
    "from sklearn.tree import DecisionTreeClassifier\n",
    "from sklearn.linear_model import LogisticRegression\n",
    "from sklearn.svm import SVC\n",
    "from sklearn.naive_bayes import BernoulliNB\n",
    "from sklearn.metrics import accuracy_score,confusion_matrix,classification_report"
   ]
  },
  {
   "cell_type": "code",
   "execution_count": 2,
   "id": "2186acbd-f94d-4db8-99d1-64b8a04f59a0",
   "metadata": {},
   "outputs": [
    {
     "data": {
      "text/html": [
       "<div>\n",
       "<style scoped>\n",
       "    .dataframe tbody tr th:only-of-type {\n",
       "        vertical-align: middle;\n",
       "    }\n",
       "\n",
       "    .dataframe tbody tr th {\n",
       "        vertical-align: top;\n",
       "    }\n",
       "\n",
       "    .dataframe thead th {\n",
       "        text-align: right;\n",
       "    }\n",
       "</style>\n",
       "<table border=\"1\" class=\"dataframe\">\n",
       "  <thead>\n",
       "    <tr style=\"text-align: right;\">\n",
       "      <th></th>\n",
       "      <th>Pregnancies</th>\n",
       "      <th>Glucose</th>\n",
       "      <th>BloodPressure</th>\n",
       "      <th>SkinThickness</th>\n",
       "      <th>Insulin</th>\n",
       "      <th>BMI</th>\n",
       "      <th>DiabetesPedigreeFunction</th>\n",
       "      <th>Age</th>\n",
       "      <th>Outcome</th>\n",
       "    </tr>\n",
       "  </thead>\n",
       "  <tbody>\n",
       "    <tr>\n",
       "      <th>0</th>\n",
       "      <td>6</td>\n",
       "      <td>148</td>\n",
       "      <td>72</td>\n",
       "      <td>35</td>\n",
       "      <td>0</td>\n",
       "      <td>33.6</td>\n",
       "      <td>0.627</td>\n",
       "      <td>50</td>\n",
       "      <td>1</td>\n",
       "    </tr>\n",
       "    <tr>\n",
       "      <th>1</th>\n",
       "      <td>1</td>\n",
       "      <td>85</td>\n",
       "      <td>66</td>\n",
       "      <td>29</td>\n",
       "      <td>0</td>\n",
       "      <td>26.6</td>\n",
       "      <td>0.351</td>\n",
       "      <td>31</td>\n",
       "      <td>0</td>\n",
       "    </tr>\n",
       "    <tr>\n",
       "      <th>2</th>\n",
       "      <td>8</td>\n",
       "      <td>183</td>\n",
       "      <td>64</td>\n",
       "      <td>0</td>\n",
       "      <td>0</td>\n",
       "      <td>23.3</td>\n",
       "      <td>0.672</td>\n",
       "      <td>32</td>\n",
       "      <td>1</td>\n",
       "    </tr>\n",
       "    <tr>\n",
       "      <th>3</th>\n",
       "      <td>1</td>\n",
       "      <td>89</td>\n",
       "      <td>66</td>\n",
       "      <td>23</td>\n",
       "      <td>94</td>\n",
       "      <td>28.1</td>\n",
       "      <td>0.167</td>\n",
       "      <td>21</td>\n",
       "      <td>0</td>\n",
       "    </tr>\n",
       "    <tr>\n",
       "      <th>4</th>\n",
       "      <td>0</td>\n",
       "      <td>137</td>\n",
       "      <td>40</td>\n",
       "      <td>35</td>\n",
       "      <td>168</td>\n",
       "      <td>43.1</td>\n",
       "      <td>2.288</td>\n",
       "      <td>33</td>\n",
       "      <td>1</td>\n",
       "    </tr>\n",
       "  </tbody>\n",
       "</table>\n",
       "</div>"
      ],
      "text/plain": [
       "   Pregnancies  Glucose  BloodPressure  SkinThickness  Insulin   BMI  \\\n",
       "0            6      148             72             35        0  33.6   \n",
       "1            1       85             66             29        0  26.6   \n",
       "2            8      183             64              0        0  23.3   \n",
       "3            1       89             66             23       94  28.1   \n",
       "4            0      137             40             35      168  43.1   \n",
       "\n",
       "   DiabetesPedigreeFunction  Age  Outcome  \n",
       "0                     0.627   50        1  \n",
       "1                     0.351   31        0  \n",
       "2                     0.672   32        1  \n",
       "3                     0.167   21        0  \n",
       "4                     2.288   33        1  "
      ]
     },
     "execution_count": 2,
     "metadata": {},
     "output_type": "execute_result"
    }
   ],
   "source": [
    "df = pd.read_csv('diabetes.csv')\n",
    "df.head()"
   ]
  },
  {
   "cell_type": "code",
   "execution_count": 3,
   "id": "e3904462-939a-4583-9e04-03cddaa537a8",
   "metadata": {},
   "outputs": [
    {
     "data": {
      "text/html": [
       "<div>\n",
       "<style scoped>\n",
       "    .dataframe tbody tr th:only-of-type {\n",
       "        vertical-align: middle;\n",
       "    }\n",
       "\n",
       "    .dataframe tbody tr th {\n",
       "        vertical-align: top;\n",
       "    }\n",
       "\n",
       "    .dataframe thead th {\n",
       "        text-align: right;\n",
       "    }\n",
       "</style>\n",
       "<table border=\"1\" class=\"dataframe\">\n",
       "  <thead>\n",
       "    <tr style=\"text-align: right;\">\n",
       "      <th></th>\n",
       "      <th>Pregnancies</th>\n",
       "      <th>Glucose</th>\n",
       "      <th>BloodPressure</th>\n",
       "      <th>SkinThickness</th>\n",
       "      <th>Insulin</th>\n",
       "      <th>BMI</th>\n",
       "      <th>DiabetesPedigreeFunction</th>\n",
       "      <th>Age</th>\n",
       "      <th>Outcome</th>\n",
       "    </tr>\n",
       "  </thead>\n",
       "  <tbody>\n",
       "    <tr>\n",
       "      <th>763</th>\n",
       "      <td>10</td>\n",
       "      <td>101</td>\n",
       "      <td>76</td>\n",
       "      <td>48</td>\n",
       "      <td>180</td>\n",
       "      <td>32.9</td>\n",
       "      <td>0.171</td>\n",
       "      <td>63</td>\n",
       "      <td>0</td>\n",
       "    </tr>\n",
       "    <tr>\n",
       "      <th>764</th>\n",
       "      <td>2</td>\n",
       "      <td>122</td>\n",
       "      <td>70</td>\n",
       "      <td>27</td>\n",
       "      <td>0</td>\n",
       "      <td>36.8</td>\n",
       "      <td>0.340</td>\n",
       "      <td>27</td>\n",
       "      <td>0</td>\n",
       "    </tr>\n",
       "    <tr>\n",
       "      <th>765</th>\n",
       "      <td>5</td>\n",
       "      <td>121</td>\n",
       "      <td>72</td>\n",
       "      <td>23</td>\n",
       "      <td>112</td>\n",
       "      <td>26.2</td>\n",
       "      <td>0.245</td>\n",
       "      <td>30</td>\n",
       "      <td>0</td>\n",
       "    </tr>\n",
       "    <tr>\n",
       "      <th>766</th>\n",
       "      <td>1</td>\n",
       "      <td>126</td>\n",
       "      <td>60</td>\n",
       "      <td>0</td>\n",
       "      <td>0</td>\n",
       "      <td>30.1</td>\n",
       "      <td>0.349</td>\n",
       "      <td>47</td>\n",
       "      <td>1</td>\n",
       "    </tr>\n",
       "    <tr>\n",
       "      <th>767</th>\n",
       "      <td>1</td>\n",
       "      <td>93</td>\n",
       "      <td>70</td>\n",
       "      <td>31</td>\n",
       "      <td>0</td>\n",
       "      <td>30.4</td>\n",
       "      <td>0.315</td>\n",
       "      <td>23</td>\n",
       "      <td>0</td>\n",
       "    </tr>\n",
       "  </tbody>\n",
       "</table>\n",
       "</div>"
      ],
      "text/plain": [
       "     Pregnancies  Glucose  BloodPressure  SkinThickness  Insulin   BMI  \\\n",
       "763           10      101             76             48      180  32.9   \n",
       "764            2      122             70             27        0  36.8   \n",
       "765            5      121             72             23      112  26.2   \n",
       "766            1      126             60              0        0  30.1   \n",
       "767            1       93             70             31        0  30.4   \n",
       "\n",
       "     DiabetesPedigreeFunction  Age  Outcome  \n",
       "763                     0.171   63        0  \n",
       "764                     0.340   27        0  \n",
       "765                     0.245   30        0  \n",
       "766                     0.349   47        1  \n",
       "767                     0.315   23        0  "
      ]
     },
     "execution_count": 3,
     "metadata": {},
     "output_type": "execute_result"
    }
   ],
   "source": [
    "df.tail()"
   ]
  },
  {
   "cell_type": "code",
   "execution_count": 4,
   "id": "40b6bb4d-b9a1-42b7-b3ce-999fff91b9ae",
   "metadata": {},
   "outputs": [
    {
     "data": {
      "text/plain": [
       "(768, 9)"
      ]
     },
     "execution_count": 4,
     "metadata": {},
     "output_type": "execute_result"
    }
   ],
   "source": [
    "df.shape"
   ]
  },
  {
   "cell_type": "code",
   "execution_count": 5,
   "id": "6719550d-d784-4d91-aca5-1a761d2b6d63",
   "metadata": {},
   "outputs": [
    {
     "name": "stdout",
     "output_type": "stream",
     "text": [
      "<class 'pandas.core.frame.DataFrame'>\n",
      "RangeIndex: 768 entries, 0 to 767\n",
      "Data columns (total 9 columns):\n",
      " #   Column                    Non-Null Count  Dtype  \n",
      "---  ------                    --------------  -----  \n",
      " 0   Pregnancies               768 non-null    int64  \n",
      " 1   Glucose                   768 non-null    int64  \n",
      " 2   BloodPressure             768 non-null    int64  \n",
      " 3   SkinThickness             768 non-null    int64  \n",
      " 4   Insulin                   768 non-null    int64  \n",
      " 5   BMI                       768 non-null    float64\n",
      " 6   DiabetesPedigreeFunction  768 non-null    float64\n",
      " 7   Age                       768 non-null    int64  \n",
      " 8   Outcome                   768 non-null    int64  \n",
      "dtypes: float64(2), int64(7)\n",
      "memory usage: 54.1 KB\n"
     ]
    }
   ],
   "source": [
    "df.info()"
   ]
  },
  {
   "cell_type": "code",
   "execution_count": 6,
   "id": "c0e6263d-cf56-4b4c-9b01-8375a3318f31",
   "metadata": {},
   "outputs": [
    {
     "data": {
      "text/plain": [
       "Pregnancies                 0\n",
       "Glucose                     0\n",
       "BloodPressure               0\n",
       "SkinThickness               0\n",
       "Insulin                     0\n",
       "BMI                         0\n",
       "DiabetesPedigreeFunction    0\n",
       "Age                         0\n",
       "Outcome                     0\n",
       "dtype: int64"
      ]
     },
     "execution_count": 6,
     "metadata": {},
     "output_type": "execute_result"
    }
   ],
   "source": [
    "df.isnull().sum()"
   ]
  },
  {
   "cell_type": "code",
   "execution_count": 7,
   "id": "f489d2b5-6599-4dbc-aec8-6b50b4e98a15",
   "metadata": {},
   "outputs": [
    {
     "data": {
      "text/plain": [
       "0"
      ]
     },
     "execution_count": 7,
     "metadata": {},
     "output_type": "execute_result"
    }
   ],
   "source": [
    "df.duplicated().sum()"
   ]
  },
  {
   "cell_type": "code",
   "execution_count": 8,
   "id": "7ff098e3-e1a2-4786-98b6-6d78c90c6925",
   "metadata": {},
   "outputs": [
    {
     "data": {
      "text/html": [
       "<div>\n",
       "<style scoped>\n",
       "    .dataframe tbody tr th:only-of-type {\n",
       "        vertical-align: middle;\n",
       "    }\n",
       "\n",
       "    .dataframe tbody tr th {\n",
       "        vertical-align: top;\n",
       "    }\n",
       "\n",
       "    .dataframe thead th {\n",
       "        text-align: right;\n",
       "    }\n",
       "</style>\n",
       "<table border=\"1\" class=\"dataframe\">\n",
       "  <thead>\n",
       "    <tr style=\"text-align: right;\">\n",
       "      <th></th>\n",
       "      <th>Pregnancies</th>\n",
       "      <th>Glucose</th>\n",
       "      <th>BloodPressure</th>\n",
       "      <th>SkinThickness</th>\n",
       "      <th>Insulin</th>\n",
       "      <th>BMI</th>\n",
       "      <th>DiabetesPedigreeFunction</th>\n",
       "      <th>Age</th>\n",
       "      <th>Outcome</th>\n",
       "    </tr>\n",
       "  </thead>\n",
       "  <tbody>\n",
       "    <tr>\n",
       "      <th>count</th>\n",
       "      <td>768.000000</td>\n",
       "      <td>768.000000</td>\n",
       "      <td>768.000000</td>\n",
       "      <td>768.000000</td>\n",
       "      <td>768.000000</td>\n",
       "      <td>768.000000</td>\n",
       "      <td>768.000000</td>\n",
       "      <td>768.000000</td>\n",
       "      <td>768.000000</td>\n",
       "    </tr>\n",
       "    <tr>\n",
       "      <th>mean</th>\n",
       "      <td>3.845052</td>\n",
       "      <td>120.894531</td>\n",
       "      <td>69.105469</td>\n",
       "      <td>20.536458</td>\n",
       "      <td>79.799479</td>\n",
       "      <td>31.992578</td>\n",
       "      <td>0.471876</td>\n",
       "      <td>33.240885</td>\n",
       "      <td>0.348958</td>\n",
       "    </tr>\n",
       "    <tr>\n",
       "      <th>std</th>\n",
       "      <td>3.369578</td>\n",
       "      <td>31.972618</td>\n",
       "      <td>19.355807</td>\n",
       "      <td>15.952218</td>\n",
       "      <td>115.244002</td>\n",
       "      <td>7.884160</td>\n",
       "      <td>0.331329</td>\n",
       "      <td>11.760232</td>\n",
       "      <td>0.476951</td>\n",
       "    </tr>\n",
       "    <tr>\n",
       "      <th>min</th>\n",
       "      <td>0.000000</td>\n",
       "      <td>0.000000</td>\n",
       "      <td>0.000000</td>\n",
       "      <td>0.000000</td>\n",
       "      <td>0.000000</td>\n",
       "      <td>0.000000</td>\n",
       "      <td>0.078000</td>\n",
       "      <td>21.000000</td>\n",
       "      <td>0.000000</td>\n",
       "    </tr>\n",
       "    <tr>\n",
       "      <th>25%</th>\n",
       "      <td>1.000000</td>\n",
       "      <td>99.000000</td>\n",
       "      <td>62.000000</td>\n",
       "      <td>0.000000</td>\n",
       "      <td>0.000000</td>\n",
       "      <td>27.300000</td>\n",
       "      <td>0.243750</td>\n",
       "      <td>24.000000</td>\n",
       "      <td>0.000000</td>\n",
       "    </tr>\n",
       "    <tr>\n",
       "      <th>50%</th>\n",
       "      <td>3.000000</td>\n",
       "      <td>117.000000</td>\n",
       "      <td>72.000000</td>\n",
       "      <td>23.000000</td>\n",
       "      <td>30.500000</td>\n",
       "      <td>32.000000</td>\n",
       "      <td>0.372500</td>\n",
       "      <td>29.000000</td>\n",
       "      <td>0.000000</td>\n",
       "    </tr>\n",
       "    <tr>\n",
       "      <th>75%</th>\n",
       "      <td>6.000000</td>\n",
       "      <td>140.250000</td>\n",
       "      <td>80.000000</td>\n",
       "      <td>32.000000</td>\n",
       "      <td>127.250000</td>\n",
       "      <td>36.600000</td>\n",
       "      <td>0.626250</td>\n",
       "      <td>41.000000</td>\n",
       "      <td>1.000000</td>\n",
       "    </tr>\n",
       "    <tr>\n",
       "      <th>max</th>\n",
       "      <td>17.000000</td>\n",
       "      <td>199.000000</td>\n",
       "      <td>122.000000</td>\n",
       "      <td>99.000000</td>\n",
       "      <td>846.000000</td>\n",
       "      <td>67.100000</td>\n",
       "      <td>2.420000</td>\n",
       "      <td>81.000000</td>\n",
       "      <td>1.000000</td>\n",
       "    </tr>\n",
       "  </tbody>\n",
       "</table>\n",
       "</div>"
      ],
      "text/plain": [
       "       Pregnancies     Glucose  BloodPressure  SkinThickness     Insulin  \\\n",
       "count   768.000000  768.000000     768.000000     768.000000  768.000000   \n",
       "mean      3.845052  120.894531      69.105469      20.536458   79.799479   \n",
       "std       3.369578   31.972618      19.355807      15.952218  115.244002   \n",
       "min       0.000000    0.000000       0.000000       0.000000    0.000000   \n",
       "25%       1.000000   99.000000      62.000000       0.000000    0.000000   \n",
       "50%       3.000000  117.000000      72.000000      23.000000   30.500000   \n",
       "75%       6.000000  140.250000      80.000000      32.000000  127.250000   \n",
       "max      17.000000  199.000000     122.000000      99.000000  846.000000   \n",
       "\n",
       "              BMI  DiabetesPedigreeFunction         Age     Outcome  \n",
       "count  768.000000                768.000000  768.000000  768.000000  \n",
       "mean    31.992578                  0.471876   33.240885    0.348958  \n",
       "std      7.884160                  0.331329   11.760232    0.476951  \n",
       "min      0.000000                  0.078000   21.000000    0.000000  \n",
       "25%     27.300000                  0.243750   24.000000    0.000000  \n",
       "50%     32.000000                  0.372500   29.000000    0.000000  \n",
       "75%     36.600000                  0.626250   41.000000    1.000000  \n",
       "max     67.100000                  2.420000   81.000000    1.000000  "
      ]
     },
     "execution_count": 8,
     "metadata": {},
     "output_type": "execute_result"
    }
   ],
   "source": [
    "df.describe()"
   ]
  },
  {
   "cell_type": "code",
   "execution_count": 9,
   "id": "fceab67a-4586-4f6e-8326-df8cbb74c1d0",
   "metadata": {},
   "outputs": [
    {
     "data": {
      "image/png": "[encoded data removed]",
      "text/plain": [
       "<Figure size 1500x1000 with 1 Axes>"
      ]
     },
     "metadata": {},
     "output_type": "display_data"
    }
   ],
   "source": [
    "fig = plt.subplots(figsize = (15,10))\n",
    "sns.boxplot(data=df)\n",
    "plt.tight_layout()"
   ]
  },
  {
   "cell_type": "code",
   "execution_count": 10,
   "id": "9faf8ca4-4b31-4d1a-9b4a-fdd2484b6d88",
   "metadata": {},
   "outputs": [],
   "source": [
    "df['Glucose'] = df['Glucose'].replace(0,df['Glucose'].mean()) \n",
    "df['BloodPressure'] = df['BloodPressure'].replace(0,df['BloodPressure'].mean())\n",
    "df['SkinThickness'] = df['SkinThickness'].replace(0,df['SkinThickness'].mean())\n",
    "df['Insulin'] = df['Insulin'].replace(0,df['Insulin'].median())\n",
    "df['BMI'] = df['BMI'].replace(0,df['BMI'].mean())\t\t"
   ]
  },
  {
   "cell_type": "code",
   "execution_count": 11,
   "id": "8a9a105a-a37f-4340-8105-a4a03c54acef",
   "metadata": {},
   "outputs": [
    {
     "data": {
      "text/html": [
       "<div>\n",
       "<style scoped>\n",
       "    .dataframe tbody tr th:only-of-type {\n",
       "        vertical-align: middle;\n",
       "    }\n",
       "\n",
       "    .dataframe tbody tr th {\n",
       "        vertical-align: top;\n",
       "    }\n",
       "\n",
       "    .dataframe thead th {\n",
       "        text-align: right;\n",
       "    }\n",
       "</style>\n",
       "<table border=\"1\" class=\"dataframe\">\n",
       "  <thead>\n",
       "    <tr style=\"text-align: right;\">\n",
       "      <th></th>\n",
       "      <th>Pregnancies</th>\n",
       "      <th>Glucose</th>\n",
       "      <th>BloodPressure</th>\n",
       "      <th>SkinThickness</th>\n",
       "      <th>Insulin</th>\n",
       "      <th>BMI</th>\n",
       "      <th>DiabetesPedigreeFunction</th>\n",
       "      <th>Age</th>\n",
       "      <th>Outcome</th>\n",
       "    </tr>\n",
       "  </thead>\n",
       "  <tbody>\n",
       "    <tr>\n",
       "      <th>count</th>\n",
       "      <td>768.000000</td>\n",
       "      <td>768.000000</td>\n",
       "      <td>768.000000</td>\n",
       "      <td>768.000000</td>\n",
       "      <td>768.000000</td>\n",
       "      <td>768.000000</td>\n",
       "      <td>768.000000</td>\n",
       "      <td>768.000000</td>\n",
       "      <td>768.000000</td>\n",
       "    </tr>\n",
       "    <tr>\n",
       "      <th>mean</th>\n",
       "      <td>3.845052</td>\n",
       "      <td>121.681605</td>\n",
       "      <td>72.254807</td>\n",
       "      <td>26.606479</td>\n",
       "      <td>94.652344</td>\n",
       "      <td>32.450805</td>\n",
       "      <td>0.471876</td>\n",
       "      <td>33.240885</td>\n",
       "      <td>0.348958</td>\n",
       "    </tr>\n",
       "    <tr>\n",
       "      <th>std</th>\n",
       "      <td>3.369578</td>\n",
       "      <td>30.436016</td>\n",
       "      <td>12.115932</td>\n",
       "      <td>9.631241</td>\n",
       "      <td>105.547598</td>\n",
       "      <td>6.875374</td>\n",
       "      <td>0.331329</td>\n",
       "      <td>11.760232</td>\n",
       "      <td>0.476951</td>\n",
       "    </tr>\n",
       "    <tr>\n",
       "      <th>min</th>\n",
       "      <td>0.000000</td>\n",
       "      <td>44.000000</td>\n",
       "      <td>24.000000</td>\n",
       "      <td>7.000000</td>\n",
       "      <td>14.000000</td>\n",
       "      <td>18.200000</td>\n",
       "      <td>0.078000</td>\n",
       "      <td>21.000000</td>\n",
       "      <td>0.000000</td>\n",
       "    </tr>\n",
       "    <tr>\n",
       "      <th>25%</th>\n",
       "      <td>1.000000</td>\n",
       "      <td>99.750000</td>\n",
       "      <td>64.000000</td>\n",
       "      <td>20.536458</td>\n",
       "      <td>30.500000</td>\n",
       "      <td>27.500000</td>\n",
       "      <td>0.243750</td>\n",
       "      <td>24.000000</td>\n",
       "      <td>0.000000</td>\n",
       "    </tr>\n",
       "    <tr>\n",
       "      <th>50%</th>\n",
       "      <td>3.000000</td>\n",
       "      <td>117.000000</td>\n",
       "      <td>72.000000</td>\n",
       "      <td>23.000000</td>\n",
       "      <td>31.250000</td>\n",
       "      <td>32.000000</td>\n",
       "      <td>0.372500</td>\n",
       "      <td>29.000000</td>\n",
       "      <td>0.000000</td>\n",
       "    </tr>\n",
       "    <tr>\n",
       "      <th>75%</th>\n",
       "      <td>6.000000</td>\n",
       "      <td>140.250000</td>\n",
       "      <td>80.000000</td>\n",
       "      <td>32.000000</td>\n",
       "      <td>127.250000</td>\n",
       "      <td>36.600000</td>\n",
       "      <td>0.626250</td>\n",
       "      <td>41.000000</td>\n",
       "      <td>1.000000</td>\n",
       "    </tr>\n",
       "    <tr>\n",
       "      <th>max</th>\n",
       "      <td>17.000000</td>\n",
       "      <td>199.000000</td>\n",
       "      <td>122.000000</td>\n",
       "      <td>99.000000</td>\n",
       "      <td>846.000000</td>\n",
       "      <td>67.100000</td>\n",
       "      <td>2.420000</td>\n",
       "      <td>81.000000</td>\n",
       "      <td>1.000000</td>\n",
       "    </tr>\n",
       "  </tbody>\n",
       "</table>\n",
       "</div>"
      ],
      "text/plain": [
       "       Pregnancies     Glucose  BloodPressure  SkinThickness     Insulin  \\\n",
       "count   768.000000  768.000000     768.000000     768.000000  768.000000   \n",
       "mean      3.845052  121.681605      72.254807      26.606479   94.652344   \n",
       "std       3.369578   30.436016      12.115932       9.631241  105.547598   \n",
       "min       0.000000   44.000000      24.000000       7.000000   14.000000   \n",
       "25%       1.000000   99.750000      64.000000      20.536458   30.500000   \n",
       "50%       3.000000  117.000000      72.000000      23.000000   31.250000   \n",
       "75%       6.000000  140.250000      80.000000      32.000000  127.250000   \n",
       "max      17.000000  199.000000     122.000000      99.000000  846.000000   \n",
       "\n",
       "              BMI  DiabetesPedigreeFunction         Age     Outcome  \n",
       "count  768.000000                768.000000  768.000000  768.000000  \n",
       "mean    32.450805                  0.471876   33.240885    0.348958  \n",
       "std      6.875374                  0.331329   11.760232    0.476951  \n",
       "min     18.200000                  0.078000   21.000000    0.000000  \n",
       "25%     27.500000                  0.243750   24.000000    0.000000  \n",
       "50%     32.000000                  0.372500   29.000000    0.000000  \n",
       "75%     36.600000                  0.626250   41.000000    1.000000  \n",
       "max     67.100000                  2.420000   81.000000    1.000000  "
      ]
     },
     "execution_count": 11,
     "metadata": {},
     "output_type": "execute_result"
    }
   ],
   "source": [
    "df.describe()"
   ]
  },
  {
   "cell_type": "code",
   "execution_count": 12,
   "id": "d95904e7-b354-4705-b7d7-602eb1ad86aa",
   "metadata": {},
   "outputs": [],
   "source": [
    "# independent and dependent variable\n",
    "X = df.drop(labels='Outcome',axis=1)\n",
    "y = df.Outcome"
   ]
  },
  {
   "cell_type": "code",
   "execution_count": 13,
   "id": "ca1111a5-10eb-4592-9114-b1d237c674fe",
   "metadata": {},
   "outputs": [
    {
     "data": {
      "text/html": [
       "<div>\n",
       "<style scoped>\n",
       "    .dataframe tbody tr th:only-of-type {\n",
       "        vertical-align: middle;\n",
       "    }\n",
       "\n",
       "    .dataframe tbody tr th {\n",
       "        vertical-align: top;\n",
       "    }\n",
       "\n",
       "    .dataframe thead th {\n",
       "        text-align: right;\n",
       "    }\n",
       "</style>\n",
       "<table border=\"1\" class=\"dataframe\">\n",
       "  <thead>\n",
       "    <tr style=\"text-align: right;\">\n",
       "      <th></th>\n",
       "      <th>Pregnancies</th>\n",
       "      <th>Glucose</th>\n",
       "      <th>BloodPressure</th>\n",
       "      <th>SkinThickness</th>\n",
       "      <th>Insulin</th>\n",
       "      <th>BMI</th>\n",
       "      <th>DiabetesPedigreeFunction</th>\n",
       "      <th>Age</th>\n",
       "    </tr>\n",
       "  </thead>\n",
       "  <tbody>\n",
       "    <tr>\n",
       "      <th>0</th>\n",
       "      <td>6</td>\n",
       "      <td>148.0</td>\n",
       "      <td>72.0</td>\n",
       "      <td>35.000000</td>\n",
       "      <td>30.5</td>\n",
       "      <td>33.6</td>\n",
       "      <td>0.627</td>\n",
       "      <td>50</td>\n",
       "    </tr>\n",
       "    <tr>\n",
       "      <th>1</th>\n",
       "      <td>1</td>\n",
       "      <td>85.0</td>\n",
       "      <td>66.0</td>\n",
       "      <td>29.000000</td>\n",
       "      <td>30.5</td>\n",
       "      <td>26.6</td>\n",
       "      <td>0.351</td>\n",
       "      <td>31</td>\n",
       "    </tr>\n",
       "    <tr>\n",
       "      <th>2</th>\n",
       "      <td>8</td>\n",
       "      <td>183.0</td>\n",
       "      <td>64.0</td>\n",
       "      <td>20.536458</td>\n",
       "      <td>30.5</td>\n",
       "      <td>23.3</td>\n",
       "      <td>0.672</td>\n",
       "      <td>32</td>\n",
       "    </tr>\n",
       "    <tr>\n",
       "      <th>3</th>\n",
       "      <td>1</td>\n",
       "      <td>89.0</td>\n",
       "      <td>66.0</td>\n",
       "      <td>23.000000</td>\n",
       "      <td>94.0</td>\n",
       "      <td>28.1</td>\n",
       "      <td>0.167</td>\n",
       "      <td>21</td>\n",
       "    </tr>\n",
       "    <tr>\n",
       "      <th>4</th>\n",
       "      <td>0</td>\n",
       "      <td>137.0</td>\n",
       "      <td>40.0</td>\n",
       "      <td>35.000000</td>\n",
       "      <td>168.0</td>\n",
       "      <td>43.1</td>\n",
       "      <td>2.288</td>\n",
       "      <td>33</td>\n",
       "    </tr>\n",
       "  </tbody>\n",
       "</table>\n",
       "</div>"
      ],
      "text/plain": [
       "   Pregnancies  Glucose  BloodPressure  SkinThickness  Insulin   BMI  \\\n",
       "0            6    148.0           72.0      35.000000     30.5  33.6   \n",
       "1            1     85.0           66.0      29.000000     30.5  26.6   \n",
       "2            8    183.0           64.0      20.536458     30.5  23.3   \n",
       "3            1     89.0           66.0      23.000000     94.0  28.1   \n",
       "4            0    137.0           40.0      35.000000    168.0  43.1   \n",
       "\n",
       "   DiabetesPedigreeFunction  Age  \n",
       "0                     0.627   50  \n",
       "1                     0.351   31  \n",
       "2                     0.672   32  \n",
       "3                     0.167   21  \n",
       "4                     2.288   33  "
      ]
     },
     "execution_count": 13,
     "metadata": {},
     "output_type": "execute_result"
    }
   ],
   "source": [
    "X.head()"
   ]
  },
  {
   "cell_type": "code",
   "execution_count": 14,
   "id": "b69a1068-3be3-43c1-8f6d-321c6188e6bc",
   "metadata": {},
   "outputs": [
    {
     "data": {
      "text/plain": [
       "0      1\n",
       "1      0\n",
       "2      1\n",
       "3      0\n",
       "4      1\n",
       "      ..\n",
       "763    0\n",
       "764    0\n",
       "765    0\n",
       "766    1\n",
       "767    0\n",
       "Name: Outcome, Length: 768, dtype: int64"
      ]
     },
     "execution_count": 14,
     "metadata": {},
     "output_type": "execute_result"
    }
   ],
   "source": [
    "y"
   ]
  },
  {
   "cell_type": "code",
   "execution_count": 15,
   "id": "bcf60219-9764-4850-a4c1-521fbf3396ea",
   "metadata": {},
   "outputs": [],
   "source": [
    "X_train,X_test,y_train,y_test = train_test_split(X,y,test_size=0.33,random_state=42)"
   ]
  },
  {
   "cell_type": "code",
   "execution_count": 16,
   "id": "a8083a92-94d2-4504-a0a0-7471011ba9ea",
   "metadata": {},
   "outputs": [
    {
     "data": {
      "text/plain": [
       "((514, 8), (254, 8), (514,), (254,))"
      ]
     },
     "execution_count": 16,
     "metadata": {},
     "output_type": "execute_result"
    }
   ],
   "source": [
    "X_train.shape,X_test.shape,y_train.shape,y_test.shape"
   ]
  },
  {
   "cell_type": "code",
   "execution_count": 17,
   "id": "fde859ac-6dd3-49cb-a155-1edaabeeb619",
   "metadata": {},
   "outputs": [],
   "source": [
    "import pickle\n",
    "def Standard_Scalar(X_train,X_test):\n",
    "    scaler = StandardScaler()\n",
    "    X_train_scaled = scaler.fit_transform(X_train)\n",
    "    X_test_scaled = scaler.transform(X_test)\n",
    "    \n",
    "    # Make Pickle file\n",
    "    file = open('Standard_Scaler.pkl','wb')\n",
    "    pickle.dump(scaler,file)\n",
    "    file.close()\n",
    "    \n",
    "    return X_train_scaled,X_test_scaled"
   ]
  },
  {
   "cell_type": "code",
   "execution_count": 18,
   "id": "18f6a5dc-794e-4520-b571-dc59a3a31814",
   "metadata": {},
   "outputs": [],
   "source": [
    "X_train_scaled,X_test_scaled = Standard_Scalar(X_train,X_test)"
   ]
  },
  {
   "cell_type": "code",
   "execution_count": 19,
   "id": "98ff4c62-7782-4215-977f-be98b4085122",
   "metadata": {},
   "outputs": [
    {
     "data": {
      "text/plain": [
       "array([[ 1.89917664, -0.23733894,  2.11586747, ..., -1.19084557,\n",
       "         1.60661512,  0.06905859],\n",
       "       [ 0.98286551,  0.64818885, -1.02542201, ..., -0.50058836,\n",
       "         0.62609815,  2.37289284],\n",
       "       [ 0.06655438, -0.20454161, -0.03343586, ..., -1.46407238,\n",
       "        -0.02953111,  0.32504017],\n",
       "       ...,\n",
       "       [ 1.89917664, -0.6965015 ,  1.12388132, ...,  1.91531186,\n",
       "         1.94028358,  0.41036736],\n",
       "       [-1.1551938 ,  0.61539153, -0.27271377, ...,  1.45514039,\n",
       "        -0.78467552, -0.35757739],\n",
       "       [-1.1551938 ,  0.09063432,  1.95053644, ..., -1.40655095,\n",
       "        -0.61784129, -1.04019494]])"
      ]
     },
     "execution_count": 19,
     "metadata": {},
     "output_type": "execute_result"
    }
   ],
   "source": [
    "X_train_scaled"
   ]
  },
  {
   "cell_type": "code",
   "execution_count": 20,
   "id": "9c25f7de-3e26-41c0-befc-b2f39ebfc4cd",
   "metadata": {},
   "outputs": [
    {
     "data": {
      "text/plain": [
       "array([[ 0.67742846, -0.79489347, -1.19075303, ...,  0.24719028,\n",
       "        -0.12611934,  0.83700334],\n",
       "       [-0.54431971, -0.33573092,  0.21456068, ...,  0.49165637,\n",
       "        -0.95150975, -1.04019494],\n",
       "       [-0.54431971, -0.46692022, -0.69475996, ..., -0.21298119,\n",
       "        -0.92224058, -1.04019494],\n",
       "       ...,\n",
       "       [-0.84975676, -0.04401408,  0.13189517, ..., -0.65877231,\n",
       "        -0.50954538, -1.04019494],\n",
       "       [ 1.28830255,  0.68098618, -0.52942893, ...,  0.37661351,\n",
       "        -1.00712116,  0.66634895],\n",
       "       [-0.54431971, -0.6965015 , -1.19075303, ..., -1.16208485,\n",
       "         0.41243326, -0.86954055]])"
      ]
     },
     "execution_count": 20,
     "metadata": {},
     "output_type": "execute_result"
    }
   ],
   "source": [
    "X_test_scaled"
   ]
  },
  {
   "cell_type": "markdown",
   "id": "fc81962c-30e1-43a2-b601-38f8c378b6f7",
   "metadata": {},
   "source": [
    "# Perfoming Logistic Regression using Hyperparameter tunning"
   ]
  },
  {
   "cell_type": "code",
   "execution_count": 21,
   "id": "814a48f0-4de8-4423-b471-1f517eb819f0",
   "metadata": {},
   "outputs": [
    {
     "data": {
      "text/html": [
       "<style>#sk-container-id-1 {color: black;background-color: white;}#sk-container-id-1 pre{padding: 0;}#sk-container-id-1 div.sk-toggleable {background-color: white;}#sk-container-id-1 label.sk-toggleable__label {cursor: pointer;display: block;width: 100%;margin-bottom: 0;padding: 0.3em;box-sizing: border-box;text-align: center;}#sk-container-id-1 label.sk-toggleable__label-arrow:before {content: \"▸\";float: left;margin-right: 0.25em;color: #696969;}#sk-container-id-1 label.sk-toggleable__label-arrow:hover:before {color: black;}#sk-container-id-1 div.sk-estimator:hover label.sk-toggleable__label-arrow:before {color: black;}#sk-container-id-1 div.sk-toggleable__content {max-height: 0;max-width: 0;overflow: hidden;text-align: left;background-color: #f0f8ff;}#sk-container-id-1 div.sk-toggleable__content pre {margin: 0.2em;color: black;border-radius: 0.25em;background-color: #f0f8ff;}#sk-container-id-1 input.sk-toggleable__control:checked~div.sk-toggleable__content {max-height: 200px;max-width: 100%;overflow: auto;}#sk-container-id-1 input.sk-toggleable__control:checked~label.sk-toggleable__label-arrow:before {content: \"▾\";}#sk-container-id-1 div.sk-estimator input.sk-toggleable__control:checked~label.sk-toggleable__label {background-color: #d4ebff;}#sk-container-id-1 div.sk-label input.sk-toggleable__control:checked~label.sk-toggleable__label {background-color: #d4ebff;}#sk-container-id-1 input.sk-hidden--visually {border: 0;clip: rect(1px 1px 1px 1px);clip: rect(1px, 1px, 1px, 1px);height: 1px;margin: -1px;overflow: hidden;padding: 0;position: absolute;width: 1px;}#sk-container-id-1 div.sk-estimator {font-family: monospace;background-color: #f0f8ff;border: 1px dotted black;border-radius: 0.25em;box-sizing: border-box;margin-bottom: 0.5em;}#sk-container-id-1 div.sk-estimator:hover {background-color: #d4ebff;}#sk-container-id-1 div.sk-parallel-item::after {content: \"\";width: 100%;border-bottom: 1px solid gray;flex-grow: 1;}#sk-container-id-1 div.sk-label:hover label.sk-toggleable__label {background-color: #d4ebff;}#sk-container-id-1 div.sk-serial::before {content: \"\";position: absolute;border-left: 1px solid gray;box-sizing: border-box;top: 0;bottom: 0;left: 50%;z-index: 0;}#sk-container-id-1 div.sk-serial {display: flex;flex-direction: column;align-items: center;background-color: white;padding-right: 0.2em;padding-left: 0.2em;position: relative;}#sk-container-id-1 div.sk-item {position: relative;z-index: 1;}#sk-container-id-1 div.sk-parallel {display: flex;align-items: stretch;justify-content: center;background-color: white;position: relative;}#sk-container-id-1 div.sk-item::before, #sk-container-id-1 div.sk-parallel-item::before {content: \"\";position: absolute;border-left: 1px solid gray;box-sizing: border-box;top: 0;bottom: 0;left: 50%;z-index: -1;}#sk-container-id-1 div.sk-parallel-item {display: flex;flex-direction: column;z-index: 1;position: relative;background-color: white;}#sk-container-id-1 div.sk-parallel-item:first-child::after {align-self: flex-end;width: 50%;}#sk-container-id-1 div.sk-parallel-item:last-child::after {align-self: flex-start;width: 50%;}#sk-container-id-1 div.sk-parallel-item:only-child::after {width: 0;}#sk-container-id-1 div.sk-dashed-wrapped {border: 1px dashed gray;margin: 0 0.4em 0.5em 0.4em;box-sizing: border-box;padding-bottom: 0.4em;background-color: white;}#sk-container-id-1 div.sk-label label {font-family: monospace;font-weight: bold;display: inline-block;line-height: 1.2em;}#sk-container-id-1 div.sk-label-container {text-align: center;}#sk-container-id-1 div.sk-container {/* jupyter's `normalize.less` sets `[hidden] { display: none; }` but bootstrap.min.css set `[hidden] { display: none !important; }` so we also need the `!important` here to be able to override the default hidden behavior on the sphinx rendered scikit-learn.org. See: https://github.com/scikit-learn/scikit-learn/issues/21755 */display: inline-block !important;position: relative;}#sk-container-id-1 div.sk-text-repr-fallback {display: none;}</style><div id=\"sk-container-id-1\" class=\"sk-top-container\"><div class=\"sk-text-repr-fallback\"><pre>LogisticRegression()</pre><b>In a Jupyter environment, please rerun this cell to show the HTML representation or trust the notebook. <br />On GitHub, the HTML representation is unable to render, please try loading this page with nbviewer.org.</b></div><div class=\"sk-container\" hidden><div class=\"sk-item\"><div class=\"sk-estimator sk-toggleable\"><input class=\"sk-toggleable__control sk-hidden--visually\" id=\"sk-estimator-id-1\" type=\"checkbox\" checked><label for=\"sk-estimator-id-1\" class=\"sk-toggleable__label sk-toggleable__label-arrow\">LogisticRegression</label><div class=\"sk-toggleable__content\"><pre>LogisticRegression()</pre></div></div></div></div></div>"
      ],
      "text/plain": [
       "LogisticRegression()"
      ]
     },
     "execution_count": 21,
     "metadata": {},
     "output_type": "execute_result"
    }
   ],
   "source": [
    "logclassifier = LogisticRegression()\n",
    "logclassifier.fit(X_train_scaled,y_train)"
   ]
  },
  {
   "cell_type": "markdown",
   "id": "b3ff310e-a6d5-44d2-8af6-4cfc013450ce",
   "metadata": {},
   "source": [
    "# Performing Decision Tree using Hyperparameter tunning"
   ]
  },
  {
   "cell_type": "code",
   "execution_count": 22,
   "id": "2d053e92-c305-4a4c-b52d-1c4828518dd3",
   "metadata": {},
   "outputs": [
    {
     "data": {
      "text/html": [
       "<style>#sk-container-id-2 {color: black;background-color: white;}#sk-container-id-2 pre{padding: 0;}#sk-container-id-2 div.sk-toggleable {background-color: white;}#sk-container-id-2 label.sk-toggleable__label {cursor: pointer;display: block;width: 100%;margin-bottom: 0;padding: 0.3em;box-sizing: border-box;text-align: center;}#sk-container-id-2 label.sk-toggleable__label-arrow:before {content: \"▸\";float: left;margin-right: 0.25em;color: #696969;}#sk-container-id-2 label.sk-toggleable__label-arrow:hover:before {color: black;}#sk-container-id-2 div.sk-estimator:hover label.sk-toggleable__label-arrow:before {color: black;}#sk-container-id-2 div.sk-toggleable__content {max-height: 0;max-width: 0;overflow: hidden;text-align: left;background-color: #f0f8ff;}#sk-container-id-2 div.sk-toggleable__content pre {margin: 0.2em;color: black;border-radius: 0.25em;background-color: #f0f8ff;}#sk-container-id-2 input.sk-toggleable__control:checked~div.sk-toggleable__content {max-height: 200px;max-width: 100%;overflow: auto;}#sk-container-id-2 input.sk-toggleable__control:checked~label.sk-toggleable__label-arrow:before {content: \"▾\";}#sk-container-id-2 div.sk-estimator input.sk-toggleable__control:checked~label.sk-toggleable__label {background-color: #d4ebff;}#sk-container-id-2 div.sk-label input.sk-toggleable__control:checked~label.sk-toggleable__label {background-color: #d4ebff;}#sk-container-id-2 input.sk-hidden--visually {border: 0;clip: rect(1px 1px 1px 1px);clip: rect(1px, 1px, 1px, 1px);height: 1px;margin: -1px;overflow: hidden;padding: 0;position: absolute;width: 1px;}#sk-container-id-2 div.sk-estimator {font-family: monospace;background-color: #f0f8ff;border: 1px dotted black;border-radius: 0.25em;box-sizing: border-box;margin-bottom: 0.5em;}#sk-container-id-2 div.sk-estimator:hover {background-color: #d4ebff;}#sk-container-id-2 div.sk-parallel-item::after {content: \"\";width: 100%;border-bottom: 1px solid gray;flex-grow: 1;}#sk-container-id-2 div.sk-label:hover label.sk-toggleable__label {background-color: #d4ebff;}#sk-container-id-2 div.sk-serial::before {content: \"\";position: absolute;border-left: 1px solid gray;box-sizing: border-box;top: 0;bottom: 0;left: 50%;z-index: 0;}#sk-container-id-2 div.sk-serial {display: flex;flex-direction: column;align-items: center;background-color: white;padding-right: 0.2em;padding-left: 0.2em;position: relative;}#sk-container-id-2 div.sk-item {position: relative;z-index: 1;}#sk-container-id-2 div.sk-parallel {display: flex;align-items: stretch;justify-content: center;background-color: white;position: relative;}#sk-container-id-2 div.sk-item::before, #sk-container-id-2 div.sk-parallel-item::before {content: \"\";position: absolute;border-left: 1px solid gray;box-sizing: border-box;top: 0;bottom: 0;left: 50%;z-index: -1;}#sk-container-id-2 div.sk-parallel-item {display: flex;flex-direction: column;z-index: 1;position: relative;background-color: white;}#sk-container-id-2 div.sk-parallel-item:first-child::after {align-self: flex-end;width: 50%;}#sk-container-id-2 div.sk-parallel-item:last-child::after {align-self: flex-start;width: 50%;}#sk-container-id-2 div.sk-parallel-item:only-child::after {width: 0;}#sk-container-id-2 div.sk-dashed-wrapped {border: 1px dashed gray;margin: 0 0.4em 0.5em 0.4em;box-sizing: border-box;padding-bottom: 0.4em;background-color: white;}#sk-container-id-2 div.sk-label label {font-family: monospace;font-weight: bold;display: inline-block;line-height: 1.2em;}#sk-container-id-2 div.sk-label-container {text-align: center;}#sk-container-id-2 div.sk-container {/* jupyter's `normalize.less` sets `[hidden] { display: none; }` but bootstrap.min.css set `[hidden] { display: none !important; }` so we also need the `!important` here to be able to override the default hidden behavior on the sphinx rendered scikit-learn.org. See: https://github.com/scikit-learn/scikit-learn/issues/21755 */display: inline-block !important;position: relative;}#sk-container-id-2 div.sk-text-repr-fallback {display: none;}</style><div id=\"sk-container-id-2\" class=\"sk-top-container\"><div class=\"sk-text-repr-fallback\"><pre>DecisionTreeClassifier()</pre><b>In a Jupyter environment, please rerun this cell to show the HTML representation or trust the notebook. <br />On GitHub, the HTML representation is unable to render, please try loading this page with nbviewer.org.</b></div><div class=\"sk-container\" hidden><div class=\"sk-item\"><div class=\"sk-estimator sk-toggleable\"><input class=\"sk-toggleable__control sk-hidden--visually\" id=\"sk-estimator-id-2\" type=\"checkbox\" checked><label for=\"sk-estimator-id-2\" class=\"sk-toggleable__label sk-toggleable__label-arrow\">DecisionTreeClassifier</label><div class=\"sk-toggleable__content\"><pre>DecisionTreeClassifier()</pre></div></div></div></div></div>"
      ],
      "text/plain": [
       "DecisionTreeClassifier()"
      ]
     },
     "execution_count": 22,
     "metadata": {},
     "output_type": "execute_result"
    }
   ],
   "source": [
    "Dtclassifier = DecisionTreeClassifier()\n",
    "Dtclassifier.fit(X_train_scaled,y_train)"
   ]
  },
  {
   "cell_type": "markdown",
   "id": "fb298f2a-4e2c-4a88-9c47-2a6f033016b1",
   "metadata": {},
   "source": [
    "# Performing SVM using Hypermeter tunning"
   ]
  },
  {
   "cell_type": "code",
   "execution_count": 23,
   "id": "657218ac-10ad-4723-9a5c-30d3e234f86b",
   "metadata": {},
   "outputs": [
    {
     "data": {
      "text/html": [
       "<style>#sk-container-id-3 {color: black;background-color: white;}#sk-container-id-3 pre{padding: 0;}#sk-container-id-3 div.sk-toggleable {background-color: white;}#sk-container-id-3 label.sk-toggleable__label {cursor: pointer;display: block;width: 100%;margin-bottom: 0;padding: 0.3em;box-sizing: border-box;text-align: center;}#sk-container-id-3 label.sk-toggleable__label-arrow:before {content: \"▸\";float: left;margin-right: 0.25em;color: #696969;}#sk-container-id-3 label.sk-toggleable__label-arrow:hover:before {color: black;}#sk-container-id-3 div.sk-estimator:hover label.sk-toggleable__label-arrow:before {color: black;}#sk-container-id-3 div.sk-toggleable__content {max-height: 0;max-width: 0;overflow: hidden;text-align: left;background-color: #f0f8ff;}#sk-container-id-3 div.sk-toggleable__content pre {margin: 0.2em;color: black;border-radius: 0.25em;background-color: #f0f8ff;}#sk-container-id-3 input.sk-toggleable__control:checked~div.sk-toggleable__content {max-height: 200px;max-width: 100%;overflow: auto;}#sk-container-id-3 input.sk-toggleable__control:checked~label.sk-toggleable__label-arrow:before {content: \"▾\";}#sk-container-id-3 div.sk-estimator input.sk-toggleable__control:checked~label.sk-toggleable__label {background-color: #d4ebff;}#sk-container-id-3 div.sk-label input.sk-toggleable__control:checked~label.sk-toggleable__label {background-color: #d4ebff;}#sk-container-id-3 input.sk-hidden--visually {border: 0;clip: rect(1px 1px 1px 1px);clip: rect(1px, 1px, 1px, 1px);height: 1px;margin: -1px;overflow: hidden;padding: 0;position: absolute;width: 1px;}#sk-container-id-3 div.sk-estimator {font-family: monospace;background-color: #f0f8ff;border: 1px dotted black;border-radius: 0.25em;box-sizing: border-box;margin-bottom: 0.5em;}#sk-container-id-3 div.sk-estimator:hover {background-color: #d4ebff;}#sk-container-id-3 div.sk-parallel-item::after {content: \"\";width: 100%;border-bottom: 1px solid gray;flex-grow: 1;}#sk-container-id-3 div.sk-label:hover label.sk-toggleable__label {background-color: #d4ebff;}#sk-container-id-3 div.sk-serial::before {content: \"\";position: absolute;border-left: 1px solid gray;box-sizing: border-box;top: 0;bottom: 0;left: 50%;z-index: 0;}#sk-container-id-3 div.sk-serial {display: flex;flex-direction: column;align-items: center;background-color: white;padding-right: 0.2em;padding-left: 0.2em;position: relative;}#sk-container-id-3 div.sk-item {position: relative;z-index: 1;}#sk-container-id-3 div.sk-parallel {display: flex;align-items: stretch;justify-content: center;background-color: white;position: relative;}#sk-container-id-3 div.sk-item::before, #sk-container-id-3 div.sk-parallel-item::before {content: \"\";position: absolute;border-left: 1px solid gray;box-sizing: border-box;top: 0;bottom: 0;left: 50%;z-index: -1;}#sk-container-id-3 div.sk-parallel-item {display: flex;flex-direction: column;z-index: 1;position: relative;background-color: white;}#sk-container-id-3 div.sk-parallel-item:first-child::after {align-self: flex-end;width: 50%;}#sk-container-id-3 div.sk-parallel-item:last-child::after {align-self: flex-start;width: 50%;}#sk-container-id-3 div.sk-parallel-item:only-child::after {width: 0;}#sk-container-id-3 div.sk-dashed-wrapped {border: 1px dashed gray;margin: 0 0.4em 0.5em 0.4em;box-sizing: border-box;padding-bottom: 0.4em;background-color: white;}#sk-container-id-3 div.sk-label label {font-family: monospace;font-weight: bold;display: inline-block;line-height: 1.2em;}#sk-container-id-3 div.sk-label-container {text-align: center;}#sk-container-id-3 div.sk-container {/* jupyter's `normalize.less` sets `[hidden] { display: none; }` but bootstrap.min.css set `[hidden] { display: none !important; }` so we also need the `!important` here to be able to override the default hidden behavior on the sphinx rendered scikit-learn.org. See: https://github.com/scikit-learn/scikit-learn/issues/21755 */display: inline-block !important;position: relative;}#sk-container-id-3 div.sk-text-repr-fallback {display: none;}</style><div id=\"sk-container-id-3\" class=\"sk-top-container\"><div class=\"sk-text-repr-fallback\"><pre>SVC()</pre><b>In a Jupyter environment, please rerun this cell to show the HTML representation or trust the notebook. <br />On GitHub, the HTML representation is unable to render, please try loading this page with nbviewer.org.</b></div><div class=\"sk-container\" hidden><div class=\"sk-item\"><div class=\"sk-estimator sk-toggleable\"><input class=\"sk-toggleable__control sk-hidden--visually\" id=\"sk-estimator-id-3\" type=\"checkbox\" checked><label for=\"sk-estimator-id-3\" class=\"sk-toggleable__label sk-toggleable__label-arrow\">SVC</label><div class=\"sk-toggleable__content\"><pre>SVC()</pre></div></div></div></div></div>"
      ],
      "text/plain": [
       "SVC()"
      ]
     },
     "execution_count": 23,
     "metadata": {},
     "output_type": "execute_result"
    }
   ],
   "source": [
    "svcclassifier = SVC()\n",
    "svcclassifier.fit(X_train_scaled,y_train)"
   ]
  },
  {
   "cell_type": "markdown",
   "id": "0ce54cdb-4a9c-4304-a20d-c6c5389b3db1",
   "metadata": {},
   "source": [
    "# Performing Naive Baye's with BernuolliNB using Hypermeter tunning"
   ]
  },
  {
   "cell_type": "code",
   "execution_count": 24,
   "id": "ae159027-56ab-4d69-a966-a4fc82a3ff18",
   "metadata": {},
   "outputs": [
    {
     "data": {
      "text/html": [
       "<style>#sk-container-id-4 {color: black;background-color: white;}#sk-container-id-4 pre{padding: 0;}#sk-container-id-4 div.sk-toggleable {background-color: white;}#sk-container-id-4 label.sk-toggleable__label {cursor: pointer;display: block;width: 100%;margin-bottom: 0;padding: 0.3em;box-sizing: border-box;text-align: center;}#sk-container-id-4 label.sk-toggleable__label-arrow:before {content: \"▸\";float: left;margin-right: 0.25em;color: #696969;}#sk-container-id-4 label.sk-toggleable__label-arrow:hover:before {color: black;}#sk-container-id-4 div.sk-estimator:hover label.sk-toggleable__label-arrow:before {color: black;}#sk-container-id-4 div.sk-toggleable__content {max-height: 0;max-width: 0;overflow: hidden;text-align: left;background-color: #f0f8ff;}#sk-container-id-4 div.sk-toggleable__content pre {margin: 0.2em;color: black;border-radius: 0.25em;background-color: #f0f8ff;}#sk-container-id-4 input.sk-toggleable__control:checked~div.sk-toggleable__content {max-height: 200px;max-width: 100%;overflow: auto;}#sk-container-id-4 input.sk-toggleable__control:checked~label.sk-toggleable__label-arrow:before {content: \"▾\";}#sk-container-id-4 div.sk-estimator input.sk-toggleable__control:checked~label.sk-toggleable__label {background-color: #d4ebff;}#sk-container-id-4 div.sk-label input.sk-toggleable__control:checked~label.sk-toggleable__label {background-color: #d4ebff;}#sk-container-id-4 input.sk-hidden--visually {border: 0;clip: rect(1px 1px 1px 1px);clip: rect(1px, 1px, 1px, 1px);height: 1px;margin: -1px;overflow: hidden;padding: 0;position: absolute;width: 1px;}#sk-container-id-4 div.sk-estimator {font-family: monospace;background-color: #f0f8ff;border: 1px dotted black;border-radius: 0.25em;box-sizing: border-box;margin-bottom: 0.5em;}#sk-container-id-4 div.sk-estimator:hover {background-color: #d4ebff;}#sk-container-id-4 div.sk-parallel-item::after {content: \"\";width: 100%;border-bottom: 1px solid gray;flex-grow: 1;}#sk-container-id-4 div.sk-label:hover label.sk-toggleable__label {background-color: #d4ebff;}#sk-container-id-4 div.sk-serial::before {content: \"\";position: absolute;border-left: 1px solid gray;box-sizing: border-box;top: 0;bottom: 0;left: 50%;z-index: 0;}#sk-container-id-4 div.sk-serial {display: flex;flex-direction: column;align-items: center;background-color: white;padding-right: 0.2em;padding-left: 0.2em;position: relative;}#sk-container-id-4 div.sk-item {position: relative;z-index: 1;}#sk-container-id-4 div.sk-parallel {display: flex;align-items: stretch;justify-content: center;background-color: white;position: relative;}#sk-container-id-4 div.sk-item::before, #sk-container-id-4 div.sk-parallel-item::before {content: \"\";position: absolute;border-left: 1px solid gray;box-sizing: border-box;top: 0;bottom: 0;left: 50%;z-index: -1;}#sk-container-id-4 div.sk-parallel-item {display: flex;flex-direction: column;z-index: 1;position: relative;background-color: white;}#sk-container-id-4 div.sk-parallel-item:first-child::after {align-self: flex-end;width: 50%;}#sk-container-id-4 div.sk-parallel-item:last-child::after {align-self: flex-start;width: 50%;}#sk-container-id-4 div.sk-parallel-item:only-child::after {width: 0;}#sk-container-id-4 div.sk-dashed-wrapped {border: 1px dashed gray;margin: 0 0.4em 0.5em 0.4em;box-sizing: border-box;padding-bottom: 0.4em;background-color: white;}#sk-container-id-4 div.sk-label label {font-family: monospace;font-weight: bold;display: inline-block;line-height: 1.2em;}#sk-container-id-4 div.sk-label-container {text-align: center;}#sk-container-id-4 div.sk-container {/* jupyter's `normalize.less` sets `[hidden] { display: none; }` but bootstrap.min.css set `[hidden] { display: none !important; }` so we also need the `!important` here to be able to override the default hidden behavior on the sphinx rendered scikit-learn.org. See: https://github.com/scikit-learn/scikit-learn/issues/21755 */display: inline-block !important;position: relative;}#sk-container-id-4 div.sk-text-repr-fallback {display: none;}</style><div id=\"sk-container-id-4\" class=\"sk-top-container\"><div class=\"sk-text-repr-fallback\"><pre>BernoulliNB()</pre><b>In a Jupyter environment, please rerun this cell to show the HTML representation or trust the notebook. <br />On GitHub, the HTML representation is unable to render, please try loading this page with nbviewer.org.</b></div><div class=\"sk-container\" hidden><div class=\"sk-item\"><div class=\"sk-estimator sk-toggleable\"><input class=\"sk-toggleable__control sk-hidden--visually\" id=\"sk-estimator-id-4\" type=\"checkbox\" checked><label for=\"sk-estimator-id-4\" class=\"sk-toggleable__label sk-toggleable__label-arrow\">BernoulliNB</label><div class=\"sk-toggleable__content\"><pre>BernoulliNB()</pre></div></div></div></div></div>"
      ],
      "text/plain": [
       "BernoulliNB()"
      ]
     },
     "execution_count": 24,
     "metadata": {},
     "output_type": "execute_result"
    }
   ],
   "source": [
    "bnb = BernoulliNB()\n",
    "bnb.fit(X_train_scaled,y_train)"
   ]
  },
  {
   "cell_type": "code",
   "execution_count": 25,
   "id": "dcf813f7-f2f9-467a-9d3b-eae1fa49d2ce",
   "metadata": {},
   "outputs": [],
   "source": [
    "# Hyperparameter tunning for Logistic regression\n",
    "from sklearn.model_selection import GridSearchCV\n",
    "import warnings\n",
    "warnings.filterwarnings('ignore')\n",
    "parameter = {\n",
    "    'penalty' : ['l1','l2','elasticnet',None],\n",
    "    'C' : [1.0,0.1,0.01],\n",
    "    'solver' : ['lbfgs','liblinear','newton-cg']\n",
    "}"
   ]
  },
  {
   "cell_type": "code",
   "execution_count": 26,
   "id": "c83c23c8-2bb5-4eb0-a862-9791eb11555a",
   "metadata": {},
   "outputs": [],
   "source": [
    "# Hyperparameter tunning for Decision tree\n",
    "parameter_dt = {\n",
    "    'criterion' :['gini','entropy','log_loss'],\n",
    "    'max_depth' : [10,20,30,40,50,60],\n",
    "    'min_samples_split' : [2,3,4,8,10]\n",
    "}"
   ]
  },
  {
   "cell_type": "code",
   "execution_count": 27,
   "id": "a7eae453-6539-4017-9814-8832a5978cb4",
   "metadata": {},
   "outputs": [],
   "source": [
    "# Hyperparameter tunning for SVM\n",
    "parameter_svm = {\n",
    "    'C' : [1.0,0.001,0.01],\n",
    "    'kernel' : ['linear','poly','rbf','sigmoid'],\n",
    "    'gamma' : ['scale','auto']\n",
    "}"
   ]
  },
  {
   "cell_type": "code",
   "execution_count": 28,
   "id": "c05d63d7-1bb1-4438-9d80-5748b9968059",
   "metadata": {},
   "outputs": [],
   "source": [
    "# Hyperparameter tunning for naive bayes using bernoulliNB\n",
    "parameter_bnb = {\n",
    "    'alpha' : [1.0,0.1,0.01,0.001],\n",
    "    'force_alpha' : [True,False],\n",
    "    'binarize' : [0.0,0.001,None]\n",
    "}"
   ]
  },
  {
   "cell_type": "code",
   "execution_count": 29,
   "id": "41aa1476-1444-4be4-a11e-de83999c1abf",
   "metadata": {},
   "outputs": [
    {
     "name": "stdout",
     "output_type": "stream",
     "text": [
      "Fitting 5 folds for each of 36 candidates, totalling 180 fits\n",
      "[CV 1/5] END .....C=1.0, penalty=l1, solver=lbfgs;, score=nan total time=   0.0s\n",
      "[CV 2/5] END .....C=1.0, penalty=l1, solver=lbfgs;, score=nan total time=   0.0s\n",
      "[CV 3/5] END .....C=1.0, penalty=l1, solver=lbfgs;, score=nan total time=   0.0s\n",
      "[CV 4/5] END .....C=1.0, penalty=l1, solver=lbfgs;, score=nan total time=   0.0s\n",
      "[CV 5/5] END .....C=1.0, penalty=l1, solver=lbfgs;, score=nan total time=   0.0s\n",
      "[CV 1/5] END C=1.0, penalty=l1, solver=liblinear;, score=0.845 total time=   0.0s\n",
      "[CV 2/5] END C=1.0, penalty=l1, solver=liblinear;, score=0.718 total time=   0.0s\n",
      "[CV 3/5] END C=1.0, penalty=l1, solver=liblinear;, score=0.816 total time=   0.0s\n",
      "[CV 4/5] END C=1.0, penalty=l1, solver=liblinear;, score=0.718 total time=   0.0s\n",
      "[CV 5/5] END C=1.0, penalty=l1, solver=liblinear;, score=0.745 total time=   0.0s\n",
      "[CV 1/5] END .C=1.0, penalty=l1, solver=newton-cg;, score=nan total time=   0.0s\n",
      "[CV 2/5] END .C=1.0, penalty=l1, solver=newton-cg;, score=nan total time=   0.0s\n",
      "[CV 3/5] END .C=1.0, penalty=l1, solver=newton-cg;, score=nan total time=   0.0s\n",
      "[CV 4/5] END .C=1.0, penalty=l1, solver=newton-cg;, score=nan total time=   0.0s\n",
      "[CV 5/5] END .C=1.0, penalty=l1, solver=newton-cg;, score=nan total time=   0.0s\n",
      "[CV 1/5] END ...C=1.0, penalty=l2, solver=lbfgs;, score=0.845 total time=   0.0s\n",
      "[CV 2/5] END ...C=1.0, penalty=l2, solver=lbfgs;, score=0.718 total time=   0.0s\n",
      "[CV 3/5] END ...C=1.0, penalty=l2, solver=lbfgs;, score=0.806 total time=   0.0s\n",
      "[CV 4/5] END ...C=1.0, penalty=l2, solver=lbfgs;, score=0.718 total time=   0.0s\n",
      "[CV 5/5] END ...C=1.0, penalty=l2, solver=lbfgs;, score=0.745 total time=   0.0s\n",
      "[CV 1/5] END C=1.0, penalty=l2, solver=liblinear;, score=0.845 total time=   0.0s\n",
      "[CV 2/5] END C=1.0, penalty=l2, solver=liblinear;, score=0.718 total time=   0.0s\n",
      "[CV 3/5] END C=1.0, penalty=l2, solver=liblinear;, score=0.806 total time=   0.0s\n",
      "[CV 4/5] END C=1.0, penalty=l2, solver=liblinear;, score=0.709 total time=   0.0s\n",
      "[CV 5/5] END C=1.0, penalty=l2, solver=liblinear;, score=0.755 total time=   0.0s\n",
      "[CV 1/5] END C=1.0, penalty=l2, solver=newton-cg;, score=0.845 total time=   0.0s\n",
      "[CV 2/5] END C=1.0, penalty=l2, solver=newton-cg;, score=0.718 total time=   0.0s\n",
      "[CV 3/5] END C=1.0, penalty=l2, solver=newton-cg;, score=0.806 total time=   0.0s\n",
      "[CV 4/5] END C=1.0, penalty=l2, solver=newton-cg;, score=0.718 total time=   0.0s\n",
      "[CV 5/5] END C=1.0, penalty=l2, solver=newton-cg;, score=0.745 total time=   0.0s\n",
      "[CV 1/5] END C=1.0, penalty=elasticnet, solver=lbfgs;, score=nan total time=   0.0s\n",
      "[CV 2/5] END C=1.0, penalty=elasticnet, solver=lbfgs;, score=nan total time=   0.0s\n",
      "[CV 3/5] END C=1.0, penalty=elasticnet, solver=lbfgs;, score=nan total time=   0.0s\n",
      "[CV 4/5] END C=1.0, penalty=elasticnet, solver=lbfgs;, score=nan total time=   0.0s\n",
      "[CV 5/5] END C=1.0, penalty=elasticnet, solver=lbfgs;, score=nan total time=   0.0s\n",
      "[CV 1/5] END C=1.0, penalty=elasticnet, solver=liblinear;, score=nan total time=   0.0s\n",
      "[CV 2/5] END C=1.0, penalty=elasticnet, solver=liblinear;, score=nan total time=   0.0s\n",
      "[CV 3/5] END C=1.0, penalty=elasticnet, solver=liblinear;, score=nan total time=   0.0s\n",
      "[CV 4/5] END C=1.0, penalty=elasticnet, solver=liblinear;, score=nan total time=   0.0s\n",
      "[CV 5/5] END C=1.0, penalty=elasticnet, solver=liblinear;, score=nan total time=   0.0s\n",
      "[CV 1/5] END C=1.0, penalty=elasticnet, solver=newton-cg;, score=nan total time=   0.0s\n",
      "[CV 2/5] END C=1.0, penalty=elasticnet, solver=newton-cg;, score=nan total time=   0.0s\n",
      "[CV 3/5] END C=1.0, penalty=elasticnet, solver=newton-cg;, score=nan total time=   0.0s\n",
      "[CV 4/5] END C=1.0, penalty=elasticnet, solver=newton-cg;, score=nan total time=   0.0s\n",
      "[CV 5/5] END C=1.0, penalty=elasticnet, solver=newton-cg;, score=nan total time=   0.0s\n",
      "[CV 1/5] END .C=1.0, penalty=None, solver=lbfgs;, score=0.845 total time=   0.0s\n",
      "[CV 2/5] END .C=1.0, penalty=None, solver=lbfgs;, score=0.718 total time=   0.0s\n",
      "[CV 3/5] END .C=1.0, penalty=None, solver=lbfgs;, score=0.806 total time=   0.0s\n",
      "[CV 4/5] END .C=1.0, penalty=None, solver=lbfgs;, score=0.709 total time=   0.0s\n",
      "[CV 5/5] END .C=1.0, penalty=None, solver=lbfgs;, score=0.745 total time=   0.0s\n",
      "[CV 1/5] END C=1.0, penalty=None, solver=liblinear;, score=nan total time=   0.0s\n",
      "[CV 2/5] END C=1.0, penalty=None, solver=liblinear;, score=nan total time=   0.0s\n",
      "[CV 3/5] END C=1.0, penalty=None, solver=liblinear;, score=nan total time=   0.0s\n",
      "[CV 4/5] END C=1.0, penalty=None, solver=liblinear;, score=nan total time=   0.0s\n",
      "[CV 5/5] END C=1.0, penalty=None, solver=liblinear;, score=nan total time=   0.0s\n",
      "[CV 1/5] END C=1.0, penalty=None, solver=newton-cg;, score=0.845 total time=   0.0s\n",
      "[CV 2/5] END C=1.0, penalty=None, solver=newton-cg;, score=0.718 total time=   0.0s\n",
      "[CV 3/5] END C=1.0, penalty=None, solver=newton-cg;, score=0.806 total time=   0.0s\n",
      "[CV 4/5] END C=1.0, penalty=None, solver=newton-cg;, score=0.709 total time=   0.0s\n",
      "[CV 5/5] END C=1.0, penalty=None, solver=newton-cg;, score=0.745 total time=   0.0s\n",
      "[CV 1/5] END .....C=0.1, penalty=l1, solver=lbfgs;, score=nan total time=   0.0s\n",
      "[CV 2/5] END .....C=0.1, penalty=l1, solver=lbfgs;, score=nan total time=   0.0s\n",
      "[CV 3/5] END .....C=0.1, penalty=l1, solver=lbfgs;, score=nan total time=   0.0s\n",
      "[CV 4/5] END .....C=0.1, penalty=l1, solver=lbfgs;, score=nan total time=   0.0s\n",
      "[CV 5/5] END .....C=0.1, penalty=l1, solver=lbfgs;, score=nan total time=   0.0s\n",
      "[CV 1/5] END C=0.1, penalty=l1, solver=liblinear;, score=0.845 total time=   0.0s\n",
      "[CV 2/5] END C=0.1, penalty=l1, solver=liblinear;, score=0.738 total time=   0.0s\n",
      "[CV 3/5] END C=0.1, penalty=l1, solver=liblinear;, score=0.816 total time=   0.0s\n",
      "[CV 4/5] END C=0.1, penalty=l1, solver=liblinear;, score=0.728 total time=   0.0s\n",
      "[CV 5/5] END C=0.1, penalty=l1, solver=liblinear;, score=0.755 total time=   0.0s\n",
      "[CV 1/5] END .C=0.1, penalty=l1, solver=newton-cg;, score=nan total time=   0.0s\n",
      "[CV 2/5] END .C=0.1, penalty=l1, solver=newton-cg;, score=nan total time=   0.0s\n",
      "[CV 3/5] END .C=0.1, penalty=l1, solver=newton-cg;, score=nan total time=   0.0s\n",
      "[CV 4/5] END .C=0.1, penalty=l1, solver=newton-cg;, score=nan total time=   0.0s\n",
      "[CV 5/5] END .C=0.1, penalty=l1, solver=newton-cg;, score=nan total time=   0.0s\n",
      "[CV 1/5] END ...C=0.1, penalty=l2, solver=lbfgs;, score=0.835 total time=   0.0s\n",
      "[CV 2/5] END ...C=0.1, penalty=l2, solver=lbfgs;, score=0.748 total time=   0.0s\n",
      "[CV 3/5] END ...C=0.1, penalty=l2, solver=lbfgs;, score=0.806 total time=   0.0s\n",
      "[CV 4/5] END ...C=0.1, penalty=l2, solver=lbfgs;, score=0.738 total time=   0.0s\n",
      "[CV 5/5] END ...C=0.1, penalty=l2, solver=lbfgs;, score=0.765 total time=   0.0s\n",
      "[CV 1/5] END C=0.1, penalty=l2, solver=liblinear;, score=0.845 total time=   0.0s\n",
      "[CV 2/5] END C=0.1, penalty=l2, solver=liblinear;, score=0.748 total time=   0.0s\n",
      "[CV 3/5] END C=0.1, penalty=l2, solver=liblinear;, score=0.816 total time=   0.0s\n",
      "[CV 4/5] END C=0.1, penalty=l2, solver=liblinear;, score=0.718 total time=   0.0s\n",
      "[CV 5/5] END C=0.1, penalty=l2, solver=liblinear;, score=0.765 total time=   0.0s\n",
      "[CV 1/5] END C=0.1, penalty=l2, solver=newton-cg;, score=0.835 total time=   0.0s\n",
      "[CV 2/5] END C=0.1, penalty=l2, solver=newton-cg;, score=0.748 total time=   0.0s\n",
      "[CV 3/5] END C=0.1, penalty=l2, solver=newton-cg;, score=0.806 total time=   0.0s\n",
      "[CV 4/5] END C=0.1, penalty=l2, solver=newton-cg;, score=0.738 total time=   0.0s\n",
      "[CV 5/5] END C=0.1, penalty=l2, solver=newton-cg;, score=0.765 total time=   0.0s\n",
      "[CV 1/5] END C=0.1, penalty=elasticnet, solver=lbfgs;, score=nan total time=   0.0s\n",
      "[CV 2/5] END C=0.1, penalty=elasticnet, solver=lbfgs;, score=nan total time=   0.0s\n",
      "[CV 3/5] END C=0.1, penalty=elasticnet, solver=lbfgs;, score=nan total time=   0.0s\n",
      "[CV 4/5] END C=0.1, penalty=elasticnet, solver=lbfgs;, score=nan total time=   0.0s\n",
      "[CV 5/5] END C=0.1, penalty=elasticnet, solver=lbfgs;, score=nan total time=   0.0s\n",
      "[CV 1/5] END C=0.1, penalty=elasticnet, solver=liblinear;, score=nan total time=   0.0s\n",
      "[CV 2/5] END C=0.1, penalty=elasticnet, solver=liblinear;, score=nan total time=   0.0s\n",
      "[CV 3/5] END C=0.1, penalty=elasticnet, solver=liblinear;, score=nan total time=   0.0s\n",
      "[CV 4/5] END C=0.1, penalty=elasticnet, solver=liblinear;, score=nan total time=   0.0s\n",
      "[CV 5/5] END C=0.1, penalty=elasticnet, solver=liblinear;, score=nan total time=   0.0s\n",
      "[CV 1/5] END C=0.1, penalty=elasticnet, solver=newton-cg;, score=nan total time=   0.0s\n",
      "[CV 2/5] END C=0.1, penalty=elasticnet, solver=newton-cg;, score=nan total time=   0.0s\n",
      "[CV 3/5] END C=0.1, penalty=elasticnet, solver=newton-cg;, score=nan total time=   0.0s\n",
      "[CV 4/5] END C=0.1, penalty=elasticnet, solver=newton-cg;, score=nan total time=   0.0s\n",
      "[CV 5/5] END C=0.1, penalty=elasticnet, solver=newton-cg;, score=nan total time=   0.0s\n",
      "[CV 1/5] END .C=0.1, penalty=None, solver=lbfgs;, score=0.845 total time=   0.0s\n",
      "[CV 2/5] END .C=0.1, penalty=None, solver=lbfgs;, score=0.718 total time=   0.0s\n",
      "[CV 3/5] END .C=0.1, penalty=None, solver=lbfgs;, score=0.806 total time=   0.0s\n",
      "[CV 4/5] END .C=0.1, penalty=None, solver=lbfgs;, score=0.709 total time=   0.0s\n",
      "[CV 5/5] END .C=0.1, penalty=None, solver=lbfgs;, score=0.745 total time=   0.0s\n",
      "[CV 1/5] END C=0.1, penalty=None, solver=liblinear;, score=nan total time=   0.0s\n",
      "[CV 2/5] END C=0.1, penalty=None, solver=liblinear;, score=nan total time=   0.0s\n",
      "[CV 3/5] END C=0.1, penalty=None, solver=liblinear;, score=nan total time=   0.0s\n",
      "[CV 4/5] END C=0.1, penalty=None, solver=liblinear;, score=nan total time=   0.0s\n",
      "[CV 5/5] END C=0.1, penalty=None, solver=liblinear;, score=nan total time=   0.0s\n",
      "[CV 1/5] END C=0.1, penalty=None, solver=newton-cg;, score=0.845 total time=   0.0s\n",
      "[CV 2/5] END C=0.1, penalty=None, solver=newton-cg;, score=0.718 total time=   0.0s\n",
      "[CV 3/5] END C=0.1, penalty=None, solver=newton-cg;, score=0.806 total time=   0.0s\n",
      "[CV 4/5] END C=0.1, penalty=None, solver=newton-cg;, score=0.709 total time=   0.0s\n",
      "[CV 5/5] END C=0.1, penalty=None, solver=newton-cg;, score=0.745 total time=   0.0s\n",
      "[CV 1/5] END ....C=0.01, penalty=l1, solver=lbfgs;, score=nan total time=   0.0s\n",
      "[CV 2/5] END ....C=0.01, penalty=l1, solver=lbfgs;, score=nan total time=   0.0s\n",
      "[CV 3/5] END ....C=0.01, penalty=l1, solver=lbfgs;, score=nan total time=   0.0s\n",
      "[CV 4/5] END ....C=0.01, penalty=l1, solver=lbfgs;, score=nan total time=   0.0s\n",
      "[CV 5/5] END ....C=0.01, penalty=l1, solver=lbfgs;, score=nan total time=   0.0s\n",
      "[CV 1/5] END C=0.01, penalty=l1, solver=liblinear;, score=0.650 total time=   0.0s\n",
      "[CV 2/5] END C=0.01, penalty=l1, solver=liblinear;, score=0.641 total time=   0.0s\n",
      "[CV 3/5] END C=0.01, penalty=l1, solver=liblinear;, score=0.641 total time=   0.0s\n",
      "[CV 4/5] END C=0.01, penalty=l1, solver=liblinear;, score=0.680 total time=   0.0s\n",
      "[CV 5/5] END C=0.01, penalty=l1, solver=liblinear;, score=0.667 total time=   0.0s\n",
      "[CV 1/5] END C=0.01, penalty=l1, solver=newton-cg;, score=nan total time=   0.0s\n",
      "[CV 2/5] END C=0.01, penalty=l1, solver=newton-cg;, score=nan total time=   0.0s\n",
      "[CV 3/5] END C=0.01, penalty=l1, solver=newton-cg;, score=nan total time=   0.0s\n",
      "[CV 4/5] END C=0.01, penalty=l1, solver=newton-cg;, score=nan total time=   0.0s\n",
      "[CV 5/5] END C=0.01, penalty=l1, solver=newton-cg;, score=nan total time=   0.0s\n",
      "[CV 1/5] END ..C=0.01, penalty=l2, solver=lbfgs;, score=0.806 total time=   0.0s\n",
      "[CV 2/5] END ..C=0.01, penalty=l2, solver=lbfgs;, score=0.728 total time=   0.0s\n",
      "[CV 3/5] END ..C=0.01, penalty=l2, solver=lbfgs;, score=0.816 total time=   0.0s\n",
      "[CV 4/5] END ..C=0.01, penalty=l2, solver=lbfgs;, score=0.718 total time=   0.0s\n",
      "[CV 5/5] END ..C=0.01, penalty=l2, solver=lbfgs;, score=0.765 total time=   0.0s\n",
      "[CV 1/5] END C=0.01, penalty=l2, solver=liblinear;, score=0.854 total time=   0.0s\n",
      "[CV 2/5] END C=0.01, penalty=l2, solver=liblinear;, score=0.689 total time=   0.0s\n",
      "[CV 3/5] END C=0.01, penalty=l2, solver=liblinear;, score=0.796 total time=   0.0s\n",
      "[CV 4/5] END C=0.01, penalty=l2, solver=liblinear;, score=0.718 total time=   0.0s\n",
      "[CV 5/5] END C=0.01, penalty=l2, solver=liblinear;, score=0.755 total time=   0.0s\n",
      "[CV 1/5] END C=0.01, penalty=l2, solver=newton-cg;, score=0.806 total time=   0.0s\n",
      "[CV 2/5] END C=0.01, penalty=l2, solver=newton-cg;, score=0.728 total time=   0.0s\n",
      "[CV 3/5] END C=0.01, penalty=l2, solver=newton-cg;, score=0.816 total time=   0.0s\n",
      "[CV 4/5] END C=0.01, penalty=l2, solver=newton-cg;, score=0.718 total time=   0.0s\n",
      "[CV 5/5] END C=0.01, penalty=l2, solver=newton-cg;, score=0.765 total time=   0.0s\n",
      "[CV 1/5] END C=0.01, penalty=elasticnet, solver=lbfgs;, score=nan total time=   0.0s\n",
      "[CV 2/5] END C=0.01, penalty=elasticnet, solver=lbfgs;, score=nan total time=   0.0s\n",
      "[CV 3/5] END C=0.01, penalty=elasticnet, solver=lbfgs;, score=nan total time=   0.0s\n",
      "[CV 4/5] END C=0.01, penalty=elasticnet, solver=lbfgs;, score=nan total time=   0.0s\n",
      "[CV 5/5] END C=0.01, penalty=elasticnet, solver=lbfgs;, score=nan total time=   0.0s\n",
      "[CV 1/5] END C=0.01, penalty=elasticnet, solver=liblinear;, score=nan total time=   0.0s\n",
      "[CV 2/5] END C=0.01, penalty=elasticnet, solver=liblinear;, score=nan total time=   0.0s\n",
      "[CV 3/5] END C=0.01, penalty=elasticnet, solver=liblinear;, score=nan total time=   0.0s\n",
      "[CV 4/5] END C=0.01, penalty=elasticnet, solver=liblinear;, score=nan total time=   0.0s\n",
      "[CV 5/5] END C=0.01, penalty=elasticnet, solver=liblinear;, score=nan total time=   0.0s\n",
      "[CV 1/5] END C=0.01, penalty=elasticnet, solver=newton-cg;, score=nan total time=   0.0s\n",
      "[CV 2/5] END C=0.01, penalty=elasticnet, solver=newton-cg;, score=nan total time=   0.0s\n",
      "[CV 3/5] END C=0.01, penalty=elasticnet, solver=newton-cg;, score=nan total time=   0.0s\n",
      "[CV 4/5] END C=0.01, penalty=elasticnet, solver=newton-cg;, score=nan total time=   0.0s\n",
      "[CV 5/5] END C=0.01, penalty=elasticnet, solver=newton-cg;, score=nan total time=   0.0s\n",
      "[CV 1/5] END C=0.01, penalty=None, solver=lbfgs;, score=0.845 total time=   0.0s\n",
      "[CV 2/5] END C=0.01, penalty=None, solver=lbfgs;, score=0.718 total time=   0.0s\n",
      "[CV 3/5] END C=0.01, penalty=None, solver=lbfgs;, score=0.806 total time=   0.0s\n",
      "[CV 4/5] END C=0.01, penalty=None, solver=lbfgs;, score=0.709 total time=   0.0s\n",
      "[CV 5/5] END C=0.01, penalty=None, solver=lbfgs;, score=0.745 total time=   0.0s\n",
      "[CV 1/5] END C=0.01, penalty=None, solver=liblinear;, score=nan total time=   0.0s\n",
      "[CV 2/5] END C=0.01, penalty=None, solver=liblinear;, score=nan total time=   0.0s\n",
      "[CV 3/5] END C=0.01, penalty=None, solver=liblinear;, score=nan total time=   0.0s\n",
      "[CV 4/5] END C=0.01, penalty=None, solver=liblinear;, score=nan total time=   0.0s\n",
      "[CV 5/5] END C=0.01, penalty=None, solver=liblinear;, score=nan total time=   0.0s\n",
      "[CV 1/5] END C=0.01, penalty=None, solver=newton-cg;, score=0.845 total time=   0.0s\n",
      "[CV 2/5] END C=0.01, penalty=None, solver=newton-cg;, score=0.718 total time=   0.0s\n",
      "[CV 3/5] END C=0.01, penalty=None, solver=newton-cg;, score=0.806 total time=   0.0s\n",
      "[CV 4/5] END C=0.01, penalty=None, solver=newton-cg;, score=0.709 total time=   0.0s\n",
      "[CV 5/5] END C=0.01, penalty=None, solver=newton-cg;, score=0.745 total time=   0.0s\n"
     ]
    },
    {
     "data": {
      "text/html": [
       "<style>#sk-container-id-5 {color: black;background-color: white;}#sk-container-id-5 pre{padding: 0;}#sk-container-id-5 div.sk-toggleable {background-color: white;}#sk-container-id-5 label.sk-toggleable__label {cursor: pointer;display: block;width: 100%;margin-bottom: 0;padding: 0.3em;box-sizing: border-box;text-align: center;}#sk-container-id-5 label.sk-toggleable__label-arrow:before {content: \"▸\";float: left;margin-right: 0.25em;color: #696969;}#sk-container-id-5 label.sk-toggleable__label-arrow:hover:before {color: black;}#sk-container-id-5 div.sk-estimator:hover label.sk-toggleable__label-arrow:before {color: black;}#sk-container-id-5 div.sk-toggleable__content {max-height: 0;max-width: 0;overflow: hidden;text-align: left;background-color: #f0f8ff;}#sk-container-id-5 div.sk-toggleable__content pre {margin: 0.2em;color: black;border-radius: 0.25em;background-color: #f0f8ff;}#sk-container-id-5 input.sk-toggleable__control:checked~div.sk-toggleable__content {max-height: 200px;max-width: 100%;overflow: auto;}#sk-container-id-5 input.sk-toggleable__control:checked~label.sk-toggleable__label-arrow:before {content: \"▾\";}#sk-container-id-5 div.sk-estimator input.sk-toggleable__control:checked~label.sk-toggleable__label {background-color: #d4ebff;}#sk-container-id-5 div.sk-label input.sk-toggleable__control:checked~label.sk-toggleable__label {background-color: #d4ebff;}#sk-container-id-5 input.sk-hidden--visually {border: 0;clip: rect(1px 1px 1px 1px);clip: rect(1px, 1px, 1px, 1px);height: 1px;margin: -1px;overflow: hidden;padding: 0;position: absolute;width: 1px;}#sk-container-id-5 div.sk-estimator {font-family: monospace;background-color: #f0f8ff;border: 1px dotted black;border-radius: 0.25em;box-sizing: border-box;margin-bottom: 0.5em;}#sk-container-id-5 div.sk-estimator:hover {background-color: #d4ebff;}#sk-container-id-5 div.sk-parallel-item::after {content: \"\";width: 100%;border-bottom: 1px solid gray;flex-grow: 1;}#sk-container-id-5 div.sk-label:hover label.sk-toggleable__label {background-color: #d4ebff;}#sk-container-id-5 div.sk-serial::before {content: \"\";position: absolute;border-left: 1px solid gray;box-sizing: border-box;top: 0;bottom: 0;left: 50%;z-index: 0;}#sk-container-id-5 div.sk-serial {display: flex;flex-direction: column;align-items: center;background-color: white;padding-right: 0.2em;padding-left: 0.2em;position: relative;}#sk-container-id-5 div.sk-item {position: relative;z-index: 1;}#sk-container-id-5 div.sk-parallel {display: flex;align-items: stretch;justify-content: center;background-color: white;position: relative;}#sk-container-id-5 div.sk-item::before, #sk-container-id-5 div.sk-parallel-item::before {content: \"\";position: absolute;border-left: 1px solid gray;box-sizing: border-box;top: 0;bottom: 0;left: 50%;z-index: -1;}#sk-container-id-5 div.sk-parallel-item {display: flex;flex-direction: column;z-index: 1;position: relative;background-color: white;}#sk-container-id-5 div.sk-parallel-item:first-child::after {align-self: flex-end;width: 50%;}#sk-container-id-5 div.sk-parallel-item:last-child::after {align-self: flex-start;width: 50%;}#sk-container-id-5 div.sk-parallel-item:only-child::after {width: 0;}#sk-container-id-5 div.sk-dashed-wrapped {border: 1px dashed gray;margin: 0 0.4em 0.5em 0.4em;box-sizing: border-box;padding-bottom: 0.4em;background-color: white;}#sk-container-id-5 div.sk-label label {font-family: monospace;font-weight: bold;display: inline-block;line-height: 1.2em;}#sk-container-id-5 div.sk-label-container {text-align: center;}#sk-container-id-5 div.sk-container {/* jupyter's `normalize.less` sets `[hidden] { display: none; }` but bootstrap.min.css set `[hidden] { display: none !important; }` so we also need the `!important` here to be able to override the default hidden behavior on the sphinx rendered scikit-learn.org. See: https://github.com/scikit-learn/scikit-learn/issues/21755 */display: inline-block !important;position: relative;}#sk-container-id-5 div.sk-text-repr-fallback {display: none;}</style><div id=\"sk-container-id-5\" class=\"sk-top-container\"><div class=\"sk-text-repr-fallback\"><pre>GridSearchCV(cv=5, estimator=LogisticRegression(),\n",
       "             param_grid={&#x27;C&#x27;: [1.0, 0.1, 0.01],\n",
       "                         &#x27;penalty&#x27;: [&#x27;l1&#x27;, &#x27;l2&#x27;, &#x27;elasticnet&#x27;, None],\n",
       "                         &#x27;solver&#x27;: [&#x27;lbfgs&#x27;, &#x27;liblinear&#x27;, &#x27;newton-cg&#x27;]},\n",
       "             scoring=&#x27;accuracy&#x27;, verbose=3)</pre><b>In a Jupyter environment, please rerun this cell to show the HTML representation or trust the notebook. <br />On GitHub, the HTML representation is unable to render, please try loading this page with nbviewer.org.</b></div><div class=\"sk-container\" hidden><div class=\"sk-item sk-dashed-wrapped\"><div class=\"sk-label-container\"><div class=\"sk-label sk-toggleable\"><input class=\"sk-toggleable__control sk-hidden--visually\" id=\"sk-estimator-id-5\" type=\"checkbox\" ><label for=\"sk-estimator-id-5\" class=\"sk-toggleable__label sk-toggleable__label-arrow\">GridSearchCV</label><div class=\"sk-toggleable__content\"><pre>GridSearchCV(cv=5, estimator=LogisticRegression(),\n",
       "             param_grid={&#x27;C&#x27;: [1.0, 0.1, 0.01],\n",
       "                         &#x27;penalty&#x27;: [&#x27;l1&#x27;, &#x27;l2&#x27;, &#x27;elasticnet&#x27;, None],\n",
       "                         &#x27;solver&#x27;: [&#x27;lbfgs&#x27;, &#x27;liblinear&#x27;, &#x27;newton-cg&#x27;]},\n",
       "             scoring=&#x27;accuracy&#x27;, verbose=3)</pre></div></div></div><div class=\"sk-parallel\"><div class=\"sk-parallel-item\"><div class=\"sk-item\"><div class=\"sk-label-container\"><div class=\"sk-label sk-toggleable\"><input class=\"sk-toggleable__control sk-hidden--visually\" id=\"sk-estimator-id-6\" type=\"checkbox\" ><label for=\"sk-estimator-id-6\" class=\"sk-toggleable__label sk-toggleable__label-arrow\">estimator: LogisticRegression</label><div class=\"sk-toggleable__content\"><pre>LogisticRegression()</pre></div></div></div><div class=\"sk-serial\"><div class=\"sk-item\"><div class=\"sk-estimator sk-toggleable\"><input class=\"sk-toggleable__control sk-hidden--visually\" id=\"sk-estimator-id-7\" type=\"checkbox\" ><label for=\"sk-estimator-id-7\" class=\"sk-toggleable__label sk-toggleable__label-arrow\">LogisticRegression</label><div class=\"sk-toggleable__content\"><pre>LogisticRegression()</pre></div></div></div></div></div></div></div></div></div></div>"
      ],
      "text/plain": [
       "GridSearchCV(cv=5, estimator=LogisticRegression(),\n",
       "             param_grid={'C': [1.0, 0.1, 0.01],\n",
       "                         'penalty': ['l1', 'l2', 'elasticnet', None],\n",
       "                         'solver': ['lbfgs', 'liblinear', 'newton-cg']},\n",
       "             scoring='accuracy', verbose=3)"
      ]
     },
     "execution_count": 29,
     "metadata": {},
     "output_type": "execute_result"
    }
   ],
   "source": [
    "logclf = GridSearchCV(logclassifier,param_grid=parameter,cv=5,scoring='accuracy',verbose=3)\n",
    "logclf.fit(X_train_scaled,y_train)"
   ]
  },
  {
   "cell_type": "code",
   "execution_count": 30,
   "id": "8b42f50b-1a4f-4b54-a522-cc66c54cbbe8",
   "metadata": {},
   "outputs": [
    {
     "name": "stdout",
     "output_type": "stream",
     "text": [
      "Fitting 5 folds for each of 90 candidates, totalling 450 fits\n",
      "[CV 1/5] END criterion=gini, max_depth=10, min_samples_split=2;, score=0.738 total time=   0.0s\n",
      "[CV 2/5] END criterion=gini, max_depth=10, min_samples_split=2;, score=0.699 total time=   0.0s\n",
      "[CV 3/5] END criterion=gini, max_depth=10, min_samples_split=2;, score=0.738 total time=   0.0s\n",
      "[CV 4/5] END criterion=gini, max_depth=10, min_samples_split=2;, score=0.767 total time=   0.0s\n",
      "[CV 5/5] END criterion=gini, max_depth=10, min_samples_split=2;, score=0.657 total time=   0.0s\n",
      "[CV 1/5] END criterion=gini, max_depth=10, min_samples_split=3;, score=0.728 total time=   0.0s\n",
      "[CV 2/5] END criterion=gini, max_depth=10, min_samples_split=3;, score=0.709 total time=   0.0s\n",
      "[CV 3/5] END criterion=gini, max_depth=10, min_samples_split=3;, score=0.709 total time=   0.0s\n",
      "[CV 4/5] END criterion=gini, max_depth=10, min_samples_split=3;, score=0.767 total time=   0.0s\n",
      "[CV 5/5] END criterion=gini, max_depth=10, min_samples_split=3;, score=0.647 total time=   0.0s\n",
      "[CV 1/5] END criterion=gini, max_depth=10, min_samples_split=4;, score=0.748 total time=   0.0s\n",
      "[CV 2/5] END criterion=gini, max_depth=10, min_samples_split=4;, score=0.728 total time=   0.0s\n",
      "[CV 3/5] END criterion=gini, max_depth=10, min_samples_split=4;, score=0.738 total time=   0.0s\n",
      "[CV 4/5] END criterion=gini, max_depth=10, min_samples_split=4;, score=0.767 total time=   0.0s\n",
      "[CV 5/5] END criterion=gini, max_depth=10, min_samples_split=4;, score=0.618 total time=   0.0s\n",
      "[CV 1/5] END criterion=gini, max_depth=10, min_samples_split=8;, score=0.748 total time=   0.0s\n",
      "[CV 2/5] END criterion=gini, max_depth=10, min_samples_split=8;, score=0.709 total time=   0.0s\n",
      "[CV 3/5] END criterion=gini, max_depth=10, min_samples_split=8;, score=0.748 total time=   0.0s\n",
      "[CV 4/5] END criterion=gini, max_depth=10, min_samples_split=8;, score=0.796 total time=   0.0s\n",
      "[CV 5/5] END criterion=gini, max_depth=10, min_samples_split=8;, score=0.667 total time=   0.0s\n",
      "[CV 1/5] END criterion=gini, max_depth=10, min_samples_split=10;, score=0.748 total time=   0.0s\n",
      "[CV 2/5] END criterion=gini, max_depth=10, min_samples_split=10;, score=0.718 total time=   0.0s\n",
      "[CV 3/5] END criterion=gini, max_depth=10, min_samples_split=10;, score=0.767 total time=   0.0s\n",
      "[CV 4/5] END criterion=gini, max_depth=10, min_samples_split=10;, score=0.796 total time=   0.0s\n",
      "[CV 5/5] END criterion=gini, max_depth=10, min_samples_split=10;, score=0.667 total time=   0.0s\n",
      "[CV 1/5] END criterion=gini, max_depth=20, min_samples_split=2;, score=0.738 total time=   0.0s\n",
      "[CV 2/5] END criterion=gini, max_depth=20, min_samples_split=2;, score=0.709 total time=   0.0s\n",
      "[CV 3/5] END criterion=gini, max_depth=20, min_samples_split=2;, score=0.718 total time=   0.0s\n",
      "[CV 4/5] END criterion=gini, max_depth=20, min_samples_split=2;, score=0.767 total time=   0.0s\n",
      "[CV 5/5] END criterion=gini, max_depth=20, min_samples_split=2;, score=0.667 total time=   0.0s\n",
      "[CV 1/5] END criterion=gini, max_depth=20, min_samples_split=3;, score=0.738 total time=   0.0s\n",
      "[CV 2/5] END criterion=gini, max_depth=20, min_samples_split=3;, score=0.748 total time=   0.0s\n",
      "[CV 3/5] END criterion=gini, max_depth=20, min_samples_split=3;, score=0.699 total time=   0.0s\n",
      "[CV 4/5] END criterion=gini, max_depth=20, min_samples_split=3;, score=0.767 total time=   0.0s\n",
      "[CV 5/5] END criterion=gini, max_depth=20, min_samples_split=3;, score=0.657 total time=   0.0s\n",
      "[CV 1/5] END criterion=gini, max_depth=20, min_samples_split=4;, score=0.738 total time=   0.0s\n",
      "[CV 2/5] END criterion=gini, max_depth=20, min_samples_split=4;, score=0.728 total time=   0.0s\n",
      "[CV 3/5] END criterion=gini, max_depth=20, min_samples_split=4;, score=0.699 total time=   0.0s\n",
      "[CV 4/5] END criterion=gini, max_depth=20, min_samples_split=4;, score=0.767 total time=   0.0s\n",
      "[CV 5/5] END criterion=gini, max_depth=20, min_samples_split=4;, score=0.627 total time=   0.0s\n",
      "[CV 1/5] END criterion=gini, max_depth=20, min_samples_split=8;, score=0.757 total time=   0.0s\n",
      "[CV 2/5] END criterion=gini, max_depth=20, min_samples_split=8;, score=0.718 total time=   0.0s\n",
      "[CV 3/5] END criterion=gini, max_depth=20, min_samples_split=8;, score=0.728 total time=   0.0s\n",
      "[CV 4/5] END criterion=gini, max_depth=20, min_samples_split=8;, score=0.796 total time=   0.0s\n",
      "[CV 5/5] END criterion=gini, max_depth=20, min_samples_split=8;, score=0.627 total time=   0.0s\n",
      "[CV 1/5] END criterion=gini, max_depth=20, min_samples_split=10;, score=0.748 total time=   0.0s\n",
      "[CV 2/5] END criterion=gini, max_depth=20, min_samples_split=10;, score=0.728 total time=   0.0s\n",
      "[CV 3/5] END criterion=gini, max_depth=20, min_samples_split=10;, score=0.748 total time=   0.0s\n",
      "[CV 4/5] END criterion=gini, max_depth=20, min_samples_split=10;, score=0.796 total time=   0.0s\n",
      "[CV 5/5] END criterion=gini, max_depth=20, min_samples_split=10;, score=0.676 total time=   0.0s\n",
      "[CV 1/5] END criterion=gini, max_depth=30, min_samples_split=2;, score=0.757 total time=   0.0s\n",
      "[CV 2/5] END criterion=gini, max_depth=30, min_samples_split=2;, score=0.709 total time=   0.0s\n",
      "[CV 3/5] END criterion=gini, max_depth=30, min_samples_split=2;, score=0.718 total time=   0.0s\n",
      "[CV 4/5] END criterion=gini, max_depth=30, min_samples_split=2;, score=0.748 total time=   0.0s\n",
      "[CV 5/5] END criterion=gini, max_depth=30, min_samples_split=2;, score=0.706 total time=   0.0s\n",
      "[CV 1/5] END criterion=gini, max_depth=30, min_samples_split=3;, score=0.748 total time=   0.0s\n",
      "[CV 2/5] END criterion=gini, max_depth=30, min_samples_split=3;, score=0.718 total time=   0.0s\n",
      "[CV 3/5] END criterion=gini, max_depth=30, min_samples_split=3;, score=0.718 total time=   0.0s\n",
      "[CV 4/5] END criterion=gini, max_depth=30, min_samples_split=3;, score=0.796 total time=   0.0s\n",
      "[CV 5/5] END criterion=gini, max_depth=30, min_samples_split=3;, score=0.676 total time=   0.0s\n",
      "[CV 1/5] END criterion=gini, max_depth=30, min_samples_split=4;, score=0.757 total time=   0.0s\n",
      "[CV 2/5] END criterion=gini, max_depth=30, min_samples_split=4;, score=0.738 total time=   0.0s\n",
      "[CV 3/5] END criterion=gini, max_depth=30, min_samples_split=4;, score=0.670 total time=   0.0s\n",
      "[CV 4/5] END criterion=gini, max_depth=30, min_samples_split=4;, score=0.767 total time=   0.0s\n",
      "[CV 5/5] END criterion=gini, max_depth=30, min_samples_split=4;, score=0.686 total time=   0.0s\n",
      "[CV 1/5] END criterion=gini, max_depth=30, min_samples_split=8;, score=0.757 total time=   0.0s\n",
      "[CV 2/5] END criterion=gini, max_depth=30, min_samples_split=8;, score=0.718 total time=   0.0s\n",
      "[CV 3/5] END criterion=gini, max_depth=30, min_samples_split=8;, score=0.728 total time=   0.0s\n",
      "[CV 4/5] END criterion=gini, max_depth=30, min_samples_split=8;, score=0.806 total time=   0.0s\n",
      "[CV 5/5] END criterion=gini, max_depth=30, min_samples_split=8;, score=0.627 total time=   0.0s\n",
      "[CV 1/5] END criterion=gini, max_depth=30, min_samples_split=10;, score=0.738 total time=   0.0s\n",
      "[CV 2/5] END criterion=gini, max_depth=30, min_samples_split=10;, score=0.728 total time=   0.0s\n",
      "[CV 3/5] END criterion=gini, max_depth=30, min_samples_split=10;, score=0.748 total time=   0.0s\n",
      "[CV 4/5] END criterion=gini, max_depth=30, min_samples_split=10;, score=0.777 total time=   0.0s\n",
      "[CV 5/5] END criterion=gini, max_depth=30, min_samples_split=10;, score=0.676 total time=   0.0s\n",
      "[CV 1/5] END criterion=gini, max_depth=40, min_samples_split=2;, score=0.728 total time=   0.0s\n",
      "[CV 2/5] END criterion=gini, max_depth=40, min_samples_split=2;, score=0.718 total time=   0.0s\n",
      "[CV 3/5] END criterion=gini, max_depth=40, min_samples_split=2;, score=0.738 total time=   0.0s\n",
      "[CV 4/5] END criterion=gini, max_depth=40, min_samples_split=2;, score=0.786 total time=   0.0s\n",
      "[CV 5/5] END criterion=gini, max_depth=40, min_samples_split=2;, score=0.686 total time=   0.0s\n",
      "[CV 1/5] END criterion=gini, max_depth=40, min_samples_split=3;, score=0.728 total time=   0.0s\n",
      "[CV 2/5] END criterion=gini, max_depth=40, min_samples_split=3;, score=0.728 total time=   0.0s\n",
      "[CV 3/5] END criterion=gini, max_depth=40, min_samples_split=3;, score=0.718 total time=   0.0s\n",
      "[CV 4/5] END criterion=gini, max_depth=40, min_samples_split=3;, score=0.767 total time=   0.0s\n",
      "[CV 5/5] END criterion=gini, max_depth=40, min_samples_split=3;, score=0.686 total time=   0.0s\n",
      "[CV 1/5] END criterion=gini, max_depth=40, min_samples_split=4;, score=0.728 total time=   0.0s\n",
      "[CV 2/5] END criterion=gini, max_depth=40, min_samples_split=4;, score=0.738 total time=   0.0s\n",
      "[CV 3/5] END criterion=gini, max_depth=40, min_samples_split=4;, score=0.689 total time=   0.0s\n",
      "[CV 4/5] END criterion=gini, max_depth=40, min_samples_split=4;, score=0.786 total time=   0.0s\n",
      "[CV 5/5] END criterion=gini, max_depth=40, min_samples_split=4;, score=0.608 total time=   0.0s\n",
      "[CV 1/5] END criterion=gini, max_depth=40, min_samples_split=8;, score=0.748 total time=   0.0s\n",
      "[CV 2/5] END criterion=gini, max_depth=40, min_samples_split=8;, score=0.709 total time=   0.0s\n",
      "[CV 3/5] END criterion=gini, max_depth=40, min_samples_split=8;, score=0.738 total time=   0.0s\n",
      "[CV 4/5] END criterion=gini, max_depth=40, min_samples_split=8;, score=0.796 total time=   0.0s\n",
      "[CV 5/5] END criterion=gini, max_depth=40, min_samples_split=8;, score=0.618 total time=   0.0s\n",
      "[CV 1/5] END criterion=gini, max_depth=40, min_samples_split=10;, score=0.748 total time=   0.0s\n",
      "[CV 2/5] END criterion=gini, max_depth=40, min_samples_split=10;, score=0.728 total time=   0.0s\n",
      "[CV 3/5] END criterion=gini, max_depth=40, min_samples_split=10;, score=0.748 total time=   0.0s\n",
      "[CV 4/5] END criterion=gini, max_depth=40, min_samples_split=10;, score=0.806 total time=   0.0s\n",
      "[CV 5/5] END criterion=gini, max_depth=40, min_samples_split=10;, score=0.657 total time=   0.0s\n",
      "[CV 1/5] END criterion=gini, max_depth=50, min_samples_split=2;, score=0.767 total time=   0.0s\n",
      "[CV 2/5] END criterion=gini, max_depth=50, min_samples_split=2;, score=0.699 total time=   0.0s\n",
      "[CV 3/5] END criterion=gini, max_depth=50, min_samples_split=2;, score=0.718 total time=   0.0s\n",
      "[CV 4/5] END criterion=gini, max_depth=50, min_samples_split=2;, score=0.757 total time=   0.0s\n",
      "[CV 5/5] END criterion=gini, max_depth=50, min_samples_split=2;, score=0.667 total time=   0.0s\n",
      "[CV 1/5] END criterion=gini, max_depth=50, min_samples_split=3;, score=0.728 total time=   0.0s\n",
      "[CV 2/5] END criterion=gini, max_depth=50, min_samples_split=3;, score=0.718 total time=   0.0s\n",
      "[CV 3/5] END criterion=gini, max_depth=50, min_samples_split=3;, score=0.680 total time=   0.0s\n",
      "[CV 4/5] END criterion=gini, max_depth=50, min_samples_split=3;, score=0.777 total time=   0.0s\n",
      "[CV 5/5] END criterion=gini, max_depth=50, min_samples_split=3;, score=0.657 total time=   0.0s\n",
      "[CV 1/5] END criterion=gini, max_depth=50, min_samples_split=4;, score=0.757 total time=   0.0s\n",
      "[CV 2/5] END criterion=gini, max_depth=50, min_samples_split=4;, score=0.738 total time=   0.0s\n",
      "[CV 3/5] END criterion=gini, max_depth=50, min_samples_split=4;, score=0.699 total time=   0.0s\n",
      "[CV 4/5] END criterion=gini, max_depth=50, min_samples_split=4;, score=0.757 total time=   0.0s\n",
      "[CV 5/5] END criterion=gini, max_depth=50, min_samples_split=4;, score=0.647 total time=   0.0s\n",
      "[CV 1/5] END criterion=gini, max_depth=50, min_samples_split=8;, score=0.757 total time=   0.0s\n",
      "[CV 2/5] END criterion=gini, max_depth=50, min_samples_split=8;, score=0.709 total time=   0.0s\n",
      "[CV 3/5] END criterion=gini, max_depth=50, min_samples_split=8;, score=0.728 total time=   0.0s\n",
      "[CV 4/5] END criterion=gini, max_depth=50, min_samples_split=8;, score=0.786 total time=   0.0s\n",
      "[CV 5/5] END criterion=gini, max_depth=50, min_samples_split=8;, score=0.657 total time=   0.0s\n",
      "[CV 1/5] END criterion=gini, max_depth=50, min_samples_split=10;, score=0.748 total time=   0.0s\n",
      "[CV 2/5] END criterion=gini, max_depth=50, min_samples_split=10;, score=0.728 total time=   0.0s\n",
      "[CV 3/5] END criterion=gini, max_depth=50, min_samples_split=10;, score=0.748 total time=   0.0s\n",
      "[CV 4/5] END criterion=gini, max_depth=50, min_samples_split=10;, score=0.777 total time=   0.0s\n",
      "[CV 5/5] END criterion=gini, max_depth=50, min_samples_split=10;, score=0.696 total time=   0.0s\n",
      "[CV 1/5] END criterion=gini, max_depth=60, min_samples_split=2;, score=0.767 total time=   0.0s\n",
      "[CV 2/5] END criterion=gini, max_depth=60, min_samples_split=2;, score=0.709 total time=   0.0s\n",
      "[CV 3/5] END criterion=gini, max_depth=60, min_samples_split=2;, score=0.718 total time=   0.0s\n",
      "[CV 4/5] END criterion=gini, max_depth=60, min_samples_split=2;, score=0.767 total time=   0.0s\n",
      "[CV 5/5] END criterion=gini, max_depth=60, min_samples_split=2;, score=0.647 total time=   0.0s\n",
      "[CV 1/5] END criterion=gini, max_depth=60, min_samples_split=3;, score=0.748 total time=   0.0s\n",
      "[CV 2/5] END criterion=gini, max_depth=60, min_samples_split=3;, score=0.738 total time=   0.0s\n",
      "[CV 3/5] END criterion=gini, max_depth=60, min_samples_split=3;, score=0.699 total time=   0.0s\n",
      "[CV 4/5] END criterion=gini, max_depth=60, min_samples_split=3;, score=0.786 total time=   0.0s\n",
      "[CV 5/5] END criterion=gini, max_depth=60, min_samples_split=3;, score=0.608 total time=   0.0s\n",
      "[CV 1/5] END criterion=gini, max_depth=60, min_samples_split=4;, score=0.757 total time=   0.0s\n",
      "[CV 2/5] END criterion=gini, max_depth=60, min_samples_split=4;, score=0.738 total time=   0.0s\n",
      "[CV 3/5] END criterion=gini, max_depth=60, min_samples_split=4;, score=0.709 total time=   0.0s\n",
      "[CV 4/5] END criterion=gini, max_depth=60, min_samples_split=4;, score=0.786 total time=   0.0s\n",
      "[CV 5/5] END criterion=gini, max_depth=60, min_samples_split=4;, score=0.637 total time=   0.0s\n",
      "[CV 1/5] END criterion=gini, max_depth=60, min_samples_split=8;, score=0.757 total time=   0.0s\n",
      "[CV 2/5] END criterion=gini, max_depth=60, min_samples_split=8;, score=0.709 total time=   0.0s\n",
      "[CV 3/5] END criterion=gini, max_depth=60, min_samples_split=8;, score=0.738 total time=   0.0s\n",
      "[CV 4/5] END criterion=gini, max_depth=60, min_samples_split=8;, score=0.786 total time=   0.0s\n",
      "[CV 5/5] END criterion=gini, max_depth=60, min_samples_split=8;, score=0.637 total time=   0.0s\n",
      "[CV 1/5] END criterion=gini, max_depth=60, min_samples_split=10;, score=0.738 total time=   0.0s\n",
      "[CV 2/5] END criterion=gini, max_depth=60, min_samples_split=10;, score=0.728 total time=   0.0s\n",
      "[CV 3/5] END criterion=gini, max_depth=60, min_samples_split=10;, score=0.748 total time=   0.0s\n",
      "[CV 4/5] END criterion=gini, max_depth=60, min_samples_split=10;, score=0.806 total time=   0.0s\n",
      "[CV 5/5] END criterion=gini, max_depth=60, min_samples_split=10;, score=0.657 total time=   0.0s\n",
      "[CV 1/5] END criterion=entropy, max_depth=10, min_samples_split=2;, score=0.806 total time=   0.0s\n",
      "[CV 2/5] END criterion=entropy, max_depth=10, min_samples_split=2;, score=0.699 total time=   0.0s\n",
      "[CV 3/5] END criterion=entropy, max_depth=10, min_samples_split=2;, score=0.709 total time=   0.0s\n",
      "[CV 4/5] END criterion=entropy, max_depth=10, min_samples_split=2;, score=0.718 total time=   0.0s\n",
      "[CV 5/5] END criterion=entropy, max_depth=10, min_samples_split=2;, score=0.696 total time=   0.0s\n",
      "[CV 1/5] END criterion=entropy, max_depth=10, min_samples_split=3;, score=0.796 total time=   0.0s\n",
      "[CV 2/5] END criterion=entropy, max_depth=10, min_samples_split=3;, score=0.709 total time=   0.0s\n",
      "[CV 3/5] END criterion=entropy, max_depth=10, min_samples_split=3;, score=0.757 total time=   0.0s\n",
      "[CV 4/5] END criterion=entropy, max_depth=10, min_samples_split=3;, score=0.738 total time=   0.0s\n",
      "[CV 5/5] END criterion=entropy, max_depth=10, min_samples_split=3;, score=0.686 total time=   0.0s\n",
      "[CV 1/5] END criterion=entropy, max_depth=10, min_samples_split=4;, score=0.757 total time=   0.0s\n",
      "[CV 2/5] END criterion=entropy, max_depth=10, min_samples_split=4;, score=0.728 total time=   0.0s\n",
      "[CV 3/5] END criterion=entropy, max_depth=10, min_samples_split=4;, score=0.718 total time=   0.0s\n",
      "[CV 4/5] END criterion=entropy, max_depth=10, min_samples_split=4;, score=0.728 total time=   0.0s\n",
      "[CV 5/5] END criterion=entropy, max_depth=10, min_samples_split=4;, score=0.716 total time=   0.0s\n",
      "[CV 1/5] END criterion=entropy, max_depth=10, min_samples_split=8;, score=0.767 total time=   0.0s\n",
      "[CV 2/5] END criterion=entropy, max_depth=10, min_samples_split=8;, score=0.709 total time=   0.0s\n",
      "[CV 3/5] END criterion=entropy, max_depth=10, min_samples_split=8;, score=0.709 total time=   0.0s\n",
      "[CV 4/5] END criterion=entropy, max_depth=10, min_samples_split=8;, score=0.728 total time=   0.0s\n",
      "[CV 5/5] END criterion=entropy, max_depth=10, min_samples_split=8;, score=0.696 total time=   0.0s\n",
      "[CV 1/5] END criterion=entropy, max_depth=10, min_samples_split=10;, score=0.748 total time=   0.0s\n",
      "[CV 2/5] END criterion=entropy, max_depth=10, min_samples_split=10;, score=0.689 total time=   0.0s\n",
      "[CV 3/5] END criterion=entropy, max_depth=10, min_samples_split=10;, score=0.699 total time=   0.0s\n",
      "[CV 4/5] END criterion=entropy, max_depth=10, min_samples_split=10;, score=0.738 total time=   0.0s\n",
      "[CV 5/5] END criterion=entropy, max_depth=10, min_samples_split=10;, score=0.696 total time=   0.0s\n",
      "[CV 1/5] END criterion=entropy, max_depth=20, min_samples_split=2;, score=0.806 total time=   0.0s\n",
      "[CV 2/5] END criterion=entropy, max_depth=20, min_samples_split=2;, score=0.699 total time=   0.0s\n",
      "[CV 3/5] END criterion=entropy, max_depth=20, min_samples_split=2;, score=0.738 total time=   0.0s\n",
      "[CV 4/5] END criterion=entropy, max_depth=20, min_samples_split=2;, score=0.777 total time=   0.0s\n",
      "[CV 5/5] END criterion=entropy, max_depth=20, min_samples_split=2;, score=0.657 total time=   0.0s\n",
      "[CV 1/5] END criterion=entropy, max_depth=20, min_samples_split=3;, score=0.806 total time=   0.0s\n",
      "[CV 2/5] END criterion=entropy, max_depth=20, min_samples_split=3;, score=0.699 total time=   0.0s\n",
      "[CV 3/5] END criterion=entropy, max_depth=20, min_samples_split=3;, score=0.709 total time=   0.0s\n",
      "[CV 4/5] END criterion=entropy, max_depth=20, min_samples_split=3;, score=0.738 total time=   0.0s\n",
      "[CV 5/5] END criterion=entropy, max_depth=20, min_samples_split=3;, score=0.706 total time=   0.0s\n",
      "[CV 1/5] END criterion=entropy, max_depth=20, min_samples_split=4;, score=0.825 total time=   0.0s\n",
      "[CV 2/5] END criterion=entropy, max_depth=20, min_samples_split=4;, score=0.709 total time=   0.0s\n",
      "[CV 3/5] END criterion=entropy, max_depth=20, min_samples_split=4;, score=0.660 total time=   0.0s\n",
      "[CV 4/5] END criterion=entropy, max_depth=20, min_samples_split=4;, score=0.728 total time=   0.0s\n",
      "[CV 5/5] END criterion=entropy, max_depth=20, min_samples_split=4;, score=0.706 total time=   0.0s\n",
      "[CV 1/5] END criterion=entropy, max_depth=20, min_samples_split=8;, score=0.757 total time=   0.0s\n",
      "[CV 2/5] END criterion=entropy, max_depth=20, min_samples_split=8;, score=0.718 total time=   0.0s\n",
      "[CV 3/5] END criterion=entropy, max_depth=20, min_samples_split=8;, score=0.650 total time=   0.0s\n",
      "[CV 4/5] END criterion=entropy, max_depth=20, min_samples_split=8;, score=0.709 total time=   0.0s\n",
      "[CV 5/5] END criterion=entropy, max_depth=20, min_samples_split=8;, score=0.696 total time=   0.0s\n",
      "[CV 1/5] END criterion=entropy, max_depth=20, min_samples_split=10;, score=0.767 total time=   0.0s\n",
      "[CV 2/5] END criterion=entropy, max_depth=20, min_samples_split=10;, score=0.699 total time=   0.0s\n",
      "[CV 3/5] END criterion=entropy, max_depth=20, min_samples_split=10;, score=0.689 total time=   0.0s\n",
      "[CV 4/5] END criterion=entropy, max_depth=20, min_samples_split=10;, score=0.738 total time=   0.0s\n",
      "[CV 5/5] END criterion=entropy, max_depth=20, min_samples_split=10;, score=0.716 total time=   0.0s\n",
      "[CV 1/5] END criterion=entropy, max_depth=30, min_samples_split=2;, score=0.777 total time=   0.0s\n",
      "[CV 2/5] END criterion=entropy, max_depth=30, min_samples_split=2;, score=0.689 total time=   0.0s\n",
      "[CV 3/5] END criterion=entropy, max_depth=30, min_samples_split=2;, score=0.699 total time=   0.0s\n",
      "[CV 4/5] END criterion=entropy, max_depth=30, min_samples_split=2;, score=0.748 total time=   0.0s\n",
      "[CV 5/5] END criterion=entropy, max_depth=30, min_samples_split=2;, score=0.647 total time=   0.0s\n",
      "[CV 1/5] END criterion=entropy, max_depth=30, min_samples_split=3;, score=0.806 total time=   0.0s\n",
      "[CV 2/5] END criterion=entropy, max_depth=30, min_samples_split=3;, score=0.699 total time=   0.0s\n",
      "[CV 3/5] END criterion=entropy, max_depth=30, min_samples_split=3;, score=0.689 total time=   0.0s\n",
      "[CV 4/5] END criterion=entropy, max_depth=30, min_samples_split=3;, score=0.728 total time=   0.0s\n",
      "[CV 5/5] END criterion=entropy, max_depth=30, min_samples_split=3;, score=0.676 total time=   0.0s\n",
      "[CV 1/5] END criterion=entropy, max_depth=30, min_samples_split=4;, score=0.777 total time=   0.0s\n",
      "[CV 2/5] END criterion=entropy, max_depth=30, min_samples_split=4;, score=0.709 total time=   0.0s\n",
      "[CV 3/5] END criterion=entropy, max_depth=30, min_samples_split=4;, score=0.680 total time=   0.0s\n",
      "[CV 4/5] END criterion=entropy, max_depth=30, min_samples_split=4;, score=0.728 total time=   0.0s\n",
      "[CV 5/5] END criterion=entropy, max_depth=30, min_samples_split=4;, score=0.686 total time=   0.0s\n",
      "[CV 1/5] END criterion=entropy, max_depth=30, min_samples_split=8;, score=0.777 total time=   0.0s\n",
      "[CV 2/5] END criterion=entropy, max_depth=30, min_samples_split=8;, score=0.718 total time=   0.0s\n",
      "[CV 3/5] END criterion=entropy, max_depth=30, min_samples_split=8;, score=0.670 total time=   0.0s\n",
      "[CV 4/5] END criterion=entropy, max_depth=30, min_samples_split=8;, score=0.689 total time=   0.0s\n",
      "[CV 5/5] END criterion=entropy, max_depth=30, min_samples_split=8;, score=0.686 total time=   0.0s\n",
      "[CV 1/5] END criterion=entropy, max_depth=30, min_samples_split=10;, score=0.767 total time=   0.0s\n",
      "[CV 2/5] END criterion=entropy, max_depth=30, min_samples_split=10;, score=0.699 total time=   0.0s\n",
      "[CV 3/5] END criterion=entropy, max_depth=30, min_samples_split=10;, score=0.680 total time=   0.0s\n",
      "[CV 4/5] END criterion=entropy, max_depth=30, min_samples_split=10;, score=0.757 total time=   0.0s\n",
      "[CV 5/5] END criterion=entropy, max_depth=30, min_samples_split=10;, score=0.696 total time=   0.0s\n",
      "[CV 1/5] END criterion=entropy, max_depth=40, min_samples_split=2;, score=0.825 total time=   0.0s\n",
      "[CV 2/5] END criterion=entropy, max_depth=40, min_samples_split=2;, score=0.680 total time=   0.0s\n",
      "[CV 3/5] END criterion=entropy, max_depth=40, min_samples_split=2;, score=0.718 total time=   0.0s\n",
      "[CV 4/5] END criterion=entropy, max_depth=40, min_samples_split=2;, score=0.699 total time=   0.0s\n",
      "[CV 5/5] END criterion=entropy, max_depth=40, min_samples_split=2;, score=0.667 total time=   0.0s\n",
      "[CV 1/5] END criterion=entropy, max_depth=40, min_samples_split=3;, score=0.806 total time=   0.0s\n",
      "[CV 2/5] END criterion=entropy, max_depth=40, min_samples_split=3;, score=0.689 total time=   0.0s\n",
      "[CV 3/5] END criterion=entropy, max_depth=40, min_samples_split=3;, score=0.718 total time=   0.0s\n",
      "[CV 4/5] END criterion=entropy, max_depth=40, min_samples_split=3;, score=0.718 total time=   0.0s\n",
      "[CV 5/5] END criterion=entropy, max_depth=40, min_samples_split=3;, score=0.676 total time=   0.0s\n",
      "[CV 1/5] END criterion=entropy, max_depth=40, min_samples_split=4;, score=0.796 total time=   0.0s\n",
      "[CV 2/5] END criterion=entropy, max_depth=40, min_samples_split=4;, score=0.728 total time=   0.0s\n",
      "[CV 3/5] END criterion=entropy, max_depth=40, min_samples_split=4;, score=0.699 total time=   0.0s\n",
      "[CV 4/5] END criterion=entropy, max_depth=40, min_samples_split=4;, score=0.738 total time=   0.0s\n",
      "[CV 5/5] END criterion=entropy, max_depth=40, min_samples_split=4;, score=0.676 total time=   0.0s\n",
      "[CV 1/5] END criterion=entropy, max_depth=40, min_samples_split=8;, score=0.757 total time=   0.0s\n",
      "[CV 2/5] END criterion=entropy, max_depth=40, min_samples_split=8;, score=0.718 total time=   0.0s\n",
      "[CV 3/5] END criterion=entropy, max_depth=40, min_samples_split=8;, score=0.660 total time=   0.0s\n",
      "[CV 4/5] END criterion=entropy, max_depth=40, min_samples_split=8;, score=0.738 total time=   0.0s\n",
      "[CV 5/5] END criterion=entropy, max_depth=40, min_samples_split=8;, score=0.676 total time=   0.0s\n",
      "[CV 1/5] END criterion=entropy, max_depth=40, min_samples_split=10;, score=0.757 total time=   0.0s\n",
      "[CV 2/5] END criterion=entropy, max_depth=40, min_samples_split=10;, score=0.699 total time=   0.0s\n",
      "[CV 3/5] END criterion=entropy, max_depth=40, min_samples_split=10;, score=0.699 total time=   0.0s\n",
      "[CV 4/5] END criterion=entropy, max_depth=40, min_samples_split=10;, score=0.709 total time=   0.0s\n",
      "[CV 5/5] END criterion=entropy, max_depth=40, min_samples_split=10;, score=0.716 total time=   0.0s\n",
      "[CV 1/5] END criterion=entropy, max_depth=50, min_samples_split=2;, score=0.777 total time=   0.0s\n",
      "[CV 2/5] END criterion=entropy, max_depth=50, min_samples_split=2;, score=0.728 total time=   0.0s\n",
      "[CV 3/5] END criterion=entropy, max_depth=50, min_samples_split=2;, score=0.709 total time=   0.0s\n",
      "[CV 4/5] END criterion=entropy, max_depth=50, min_samples_split=2;, score=0.738 total time=   0.0s\n",
      "[CV 5/5] END criterion=entropy, max_depth=50, min_samples_split=2;, score=0.667 total time=   0.0s\n",
      "[CV 1/5] END criterion=entropy, max_depth=50, min_samples_split=3;, score=0.806 total time=   0.0s\n",
      "[CV 2/5] END criterion=entropy, max_depth=50, min_samples_split=3;, score=0.709 total time=   0.0s\n",
      "[CV 3/5] END criterion=entropy, max_depth=50, min_samples_split=3;, score=0.680 total time=   0.0s\n",
      "[CV 4/5] END criterion=entropy, max_depth=50, min_samples_split=3;, score=0.689 total time=   0.0s\n",
      "[CV 5/5] END criterion=entropy, max_depth=50, min_samples_split=3;, score=0.657 total time=   0.0s\n",
      "[CV 1/5] END criterion=entropy, max_depth=50, min_samples_split=4;, score=0.796 total time=   0.0s\n",
      "[CV 2/5] END criterion=entropy, max_depth=50, min_samples_split=4;, score=0.699 total time=   0.0s\n",
      "[CV 3/5] END criterion=entropy, max_depth=50, min_samples_split=4;, score=0.680 total time=   0.0s\n",
      "[CV 4/5] END criterion=entropy, max_depth=50, min_samples_split=4;, score=0.728 total time=   0.0s\n",
      "[CV 5/5] END criterion=entropy, max_depth=50, min_samples_split=4;, score=0.716 total time=   0.0s\n",
      "[CV 1/5] END criterion=entropy, max_depth=50, min_samples_split=8;, score=0.777 total time=   0.0s\n",
      "[CV 2/5] END criterion=entropy, max_depth=50, min_samples_split=8;, score=0.718 total time=   0.0s\n",
      "[CV 3/5] END criterion=entropy, max_depth=50, min_samples_split=8;, score=0.699 total time=   0.0s\n",
      "[CV 4/5] END criterion=entropy, max_depth=50, min_samples_split=8;, score=0.709 total time=   0.0s\n",
      "[CV 5/5] END criterion=entropy, max_depth=50, min_samples_split=8;, score=0.676 total time=   0.0s\n",
      "[CV 1/5] END criterion=entropy, max_depth=50, min_samples_split=10;, score=0.767 total time=   0.0s\n",
      "[CV 2/5] END criterion=entropy, max_depth=50, min_samples_split=10;, score=0.699 total time=   0.0s\n",
      "[CV 3/5] END criterion=entropy, max_depth=50, min_samples_split=10;, score=0.699 total time=   0.0s\n",
      "[CV 4/5] END criterion=entropy, max_depth=50, min_samples_split=10;, score=0.728 total time=   0.0s\n",
      "[CV 5/5] END criterion=entropy, max_depth=50, min_samples_split=10;, score=0.716 total time=   0.0s\n",
      "[CV 1/5] END criterion=entropy, max_depth=60, min_samples_split=2;, score=0.806 total time=   0.0s\n",
      "[CV 2/5] END criterion=entropy, max_depth=60, min_samples_split=2;, score=0.709 total time=   0.0s\n",
      "[CV 3/5] END criterion=entropy, max_depth=60, min_samples_split=2;, score=0.718 total time=   0.0s\n",
      "[CV 4/5] END criterion=entropy, max_depth=60, min_samples_split=2;, score=0.670 total time=   0.0s\n",
      "[CV 5/5] END criterion=entropy, max_depth=60, min_samples_split=2;, score=0.657 total time=   0.0s\n",
      "[CV 1/5] END criterion=entropy, max_depth=60, min_samples_split=3;, score=0.816 total time=   0.0s\n",
      "[CV 2/5] END criterion=entropy, max_depth=60, min_samples_split=3;, score=0.699 total time=   0.0s\n",
      "[CV 3/5] END criterion=entropy, max_depth=60, min_samples_split=3;, score=0.699 total time=   0.0s\n",
      "[CV 4/5] END criterion=entropy, max_depth=60, min_samples_split=3;, score=0.709 total time=   0.0s\n",
      "[CV 5/5] END criterion=entropy, max_depth=60, min_samples_split=3;, score=0.686 total time=   0.0s\n",
      "[CV 1/5] END criterion=entropy, max_depth=60, min_samples_split=4;, score=0.806 total time=   0.0s\n",
      "[CV 2/5] END criterion=entropy, max_depth=60, min_samples_split=4;, score=0.709 total time=   0.0s\n",
      "[CV 3/5] END criterion=entropy, max_depth=60, min_samples_split=4;, score=0.699 total time=   0.0s\n",
      "[CV 4/5] END criterion=entropy, max_depth=60, min_samples_split=4;, score=0.767 total time=   0.0s\n",
      "[CV 5/5] END criterion=entropy, max_depth=60, min_samples_split=4;, score=0.706 total time=   0.0s\n",
      "[CV 1/5] END criterion=entropy, max_depth=60, min_samples_split=8;, score=0.757 total time=   0.0s\n",
      "[CV 2/5] END criterion=entropy, max_depth=60, min_samples_split=8;, score=0.718 total time=   0.0s\n",
      "[CV 3/5] END criterion=entropy, max_depth=60, min_samples_split=8;, score=0.670 total time=   0.0s\n",
      "[CV 4/5] END criterion=entropy, max_depth=60, min_samples_split=8;, score=0.767 total time=   0.0s\n",
      "[CV 5/5] END criterion=entropy, max_depth=60, min_samples_split=8;, score=0.686 total time=   0.0s\n",
      "[CV 1/5] END criterion=entropy, max_depth=60, min_samples_split=10;, score=0.767 total time=   0.0s\n",
      "[CV 2/5] END criterion=entropy, max_depth=60, min_samples_split=10;, score=0.680 total time=   0.0s\n",
      "[CV 3/5] END criterion=entropy, max_depth=60, min_samples_split=10;, score=0.660 total time=   0.0s\n",
      "[CV 4/5] END criterion=entropy, max_depth=60, min_samples_split=10;, score=0.738 total time=   0.0s\n",
      "[CV 5/5] END criterion=entropy, max_depth=60, min_samples_split=10;, score=0.696 total time=   0.0s\n",
      "[CV 1/5] END criterion=log_loss, max_depth=10, min_samples_split=2;, score=0.786 total time=   0.0s\n",
      "[CV 2/5] END criterion=log_loss, max_depth=10, min_samples_split=2;, score=0.689 total time=   0.0s\n",
      "[CV 3/5] END criterion=log_loss, max_depth=10, min_samples_split=2;, score=0.689 total time=   0.0s\n",
      "[CV 4/5] END criterion=log_loss, max_depth=10, min_samples_split=2;, score=0.728 total time=   0.0s\n",
      "[CV 5/5] END criterion=log_loss, max_depth=10, min_samples_split=2;, score=0.696 total time=   0.0s\n",
      "[CV 1/5] END criterion=log_loss, max_depth=10, min_samples_split=3;, score=0.757 total time=   0.0s\n",
      "[CV 2/5] END criterion=log_loss, max_depth=10, min_samples_split=3;, score=0.689 total time=   0.0s\n",
      "[CV 3/5] END criterion=log_loss, max_depth=10, min_samples_split=3;, score=0.738 total time=   0.0s\n",
      "[CV 4/5] END criterion=log_loss, max_depth=10, min_samples_split=3;, score=0.728 total time=   0.0s\n",
      "[CV 5/5] END criterion=log_loss, max_depth=10, min_samples_split=3;, score=0.696 total time=   0.0s\n",
      "[CV 1/5] END criterion=log_loss, max_depth=10, min_samples_split=4;, score=0.777 total time=   0.0s\n",
      "[CV 2/5] END criterion=log_loss, max_depth=10, min_samples_split=4;, score=0.718 total time=   0.0s\n",
      "[CV 3/5] END criterion=log_loss, max_depth=10, min_samples_split=4;, score=0.709 total time=   0.0s\n",
      "[CV 4/5] END criterion=log_loss, max_depth=10, min_samples_split=4;, score=0.709 total time=   0.0s\n",
      "[CV 5/5] END criterion=log_loss, max_depth=10, min_samples_split=4;, score=0.716 total time=   0.0s\n",
      "[CV 1/5] END criterion=log_loss, max_depth=10, min_samples_split=8;, score=0.777 total time=   0.0s\n",
      "[CV 2/5] END criterion=log_loss, max_depth=10, min_samples_split=8;, score=0.689 total time=   0.0s\n",
      "[CV 3/5] END criterion=log_loss, max_depth=10, min_samples_split=8;, score=0.738 total time=   0.0s\n",
      "[CV 4/5] END criterion=log_loss, max_depth=10, min_samples_split=8;, score=0.738 total time=   0.0s\n",
      "[CV 5/5] END criterion=log_loss, max_depth=10, min_samples_split=8;, score=0.686 total time=   0.0s\n",
      "[CV 1/5] END criterion=log_loss, max_depth=10, min_samples_split=10;, score=0.748 total time=   0.0s\n",
      "[CV 2/5] END criterion=log_loss, max_depth=10, min_samples_split=10;, score=0.689 total time=   0.0s\n",
      "[CV 3/5] END criterion=log_loss, max_depth=10, min_samples_split=10;, score=0.680 total time=   0.0s\n",
      "[CV 4/5] END criterion=log_loss, max_depth=10, min_samples_split=10;, score=0.738 total time=   0.0s\n",
      "[CV 5/5] END criterion=log_loss, max_depth=10, min_samples_split=10;, score=0.706 total time=   0.0s\n",
      "[CV 1/5] END criterion=log_loss, max_depth=20, min_samples_split=2;, score=0.806 total time=   0.0s\n",
      "[CV 2/5] END criterion=log_loss, max_depth=20, min_samples_split=2;, score=0.709 total time=   0.0s\n",
      "[CV 3/5] END criterion=log_loss, max_depth=20, min_samples_split=2;, score=0.699 total time=   0.0s\n",
      "[CV 4/5] END criterion=log_loss, max_depth=20, min_samples_split=2;, score=0.709 total time=   0.0s\n",
      "[CV 5/5] END criterion=log_loss, max_depth=20, min_samples_split=2;, score=0.647 total time=   0.0s\n",
      "[CV 1/5] END criterion=log_loss, max_depth=20, min_samples_split=3;, score=0.806 total time=   0.0s\n",
      "[CV 2/5] END criterion=log_loss, max_depth=20, min_samples_split=3;, score=0.699 total time=   0.0s\n",
      "[CV 3/5] END criterion=log_loss, max_depth=20, min_samples_split=3;, score=0.718 total time=   0.0s\n",
      "[CV 4/5] END criterion=log_loss, max_depth=20, min_samples_split=3;, score=0.680 total time=   0.0s\n",
      "[CV 5/5] END criterion=log_loss, max_depth=20, min_samples_split=3;, score=0.657 total time=   0.0s\n",
      "[CV 1/5] END criterion=log_loss, max_depth=20, min_samples_split=4;, score=0.806 total time=   0.0s\n",
      "[CV 2/5] END criterion=log_loss, max_depth=20, min_samples_split=4;, score=0.728 total time=   0.0s\n",
      "[CV 3/5] END criterion=log_loss, max_depth=20, min_samples_split=4;, score=0.699 total time=   0.0s\n",
      "[CV 4/5] END criterion=log_loss, max_depth=20, min_samples_split=4;, score=0.680 total time=   0.0s\n",
      "[CV 5/5] END criterion=log_loss, max_depth=20, min_samples_split=4;, score=0.716 total time=   0.0s\n",
      "[CV 1/5] END criterion=log_loss, max_depth=20, min_samples_split=8;, score=0.777 total time=   0.0s\n",
      "[CV 2/5] END criterion=log_loss, max_depth=20, min_samples_split=8;, score=0.718 total time=   0.0s\n",
      "[CV 3/5] END criterion=log_loss, max_depth=20, min_samples_split=8;, score=0.660 total time=   0.0s\n",
      "[CV 4/5] END criterion=log_loss, max_depth=20, min_samples_split=8;, score=0.757 total time=   0.0s\n",
      "[CV 5/5] END criterion=log_loss, max_depth=20, min_samples_split=8;, score=0.686 total time=   0.0s\n",
      "[CV 1/5] END criterion=log_loss, max_depth=20, min_samples_split=10;, score=0.757 total time=   0.0s\n",
      "[CV 2/5] END criterion=log_loss, max_depth=20, min_samples_split=10;, score=0.699 total time=   0.0s\n",
      "[CV 3/5] END criterion=log_loss, max_depth=20, min_samples_split=10;, score=0.670 total time=   0.0s\n",
      "[CV 4/5] END criterion=log_loss, max_depth=20, min_samples_split=10;, score=0.757 total time=   0.0s\n",
      "[CV 5/5] END criterion=log_loss, max_depth=20, min_samples_split=10;, score=0.716 total time=   0.0s\n",
      "[CV 1/5] END criterion=log_loss, max_depth=30, min_samples_split=2;, score=0.777 total time=   0.0s\n",
      "[CV 2/5] END criterion=log_loss, max_depth=30, min_samples_split=2;, score=0.738 total time=   0.0s\n",
      "[CV 3/5] END criterion=log_loss, max_depth=30, min_samples_split=2;, score=0.738 total time=   0.0s\n",
      "[CV 4/5] END criterion=log_loss, max_depth=30, min_samples_split=2;, score=0.728 total time=   0.0s\n",
      "[CV 5/5] END criterion=log_loss, max_depth=30, min_samples_split=2;, score=0.657 total time=   0.0s\n",
      "[CV 1/5] END criterion=log_loss, max_depth=30, min_samples_split=3;, score=0.816 total time=   0.0s\n",
      "[CV 2/5] END criterion=log_loss, max_depth=30, min_samples_split=3;, score=0.699 total time=   0.0s\n",
      "[CV 3/5] END criterion=log_loss, max_depth=30, min_samples_split=3;, score=0.650 total time=   0.0s\n",
      "[CV 4/5] END criterion=log_loss, max_depth=30, min_samples_split=3;, score=0.767 total time=   0.0s\n",
      "[CV 5/5] END criterion=log_loss, max_depth=30, min_samples_split=3;, score=0.676 total time=   0.0s\n",
      "[CV 1/5] END criterion=log_loss, max_depth=30, min_samples_split=4;, score=0.806 total time=   0.0s\n",
      "[CV 2/5] END criterion=log_loss, max_depth=30, min_samples_split=4;, score=0.718 total time=   0.0s\n",
      "[CV 3/5] END criterion=log_loss, max_depth=30, min_samples_split=4;, score=0.670 total time=   0.0s\n",
      "[CV 4/5] END criterion=log_loss, max_depth=30, min_samples_split=4;, score=0.748 total time=   0.0s\n",
      "[CV 5/5] END criterion=log_loss, max_depth=30, min_samples_split=4;, score=0.706 total time=   0.0s\n",
      "[CV 1/5] END criterion=log_loss, max_depth=30, min_samples_split=8;, score=0.767 total time=   0.0s\n",
      "[CV 2/5] END criterion=log_loss, max_depth=30, min_samples_split=8;, score=0.718 total time=   0.0s\n",
      "[CV 3/5] END criterion=log_loss, max_depth=30, min_samples_split=8;, score=0.689 total time=   0.0s\n",
      "[CV 4/5] END criterion=log_loss, max_depth=30, min_samples_split=8;, score=0.718 total time=   0.0s\n",
      "[CV 5/5] END criterion=log_loss, max_depth=30, min_samples_split=8;, score=0.676 total time=   0.0s\n",
      "[CV 1/5] END criterion=log_loss, max_depth=30, min_samples_split=10;, score=0.767 total time=   0.0s\n",
      "[CV 2/5] END criterion=log_loss, max_depth=30, min_samples_split=10;, score=0.680 total time=   0.0s\n",
      "[CV 3/5] END criterion=log_loss, max_depth=30, min_samples_split=10;, score=0.689 total time=   0.0s\n",
      "[CV 4/5] END criterion=log_loss, max_depth=30, min_samples_split=10;, score=0.757 total time=   0.0s\n",
      "[CV 5/5] END criterion=log_loss, max_depth=30, min_samples_split=10;, score=0.706 total time=   0.0s\n",
      "[CV 1/5] END criterion=log_loss, max_depth=40, min_samples_split=2;, score=0.806 total time=   0.0s\n",
      "[CV 2/5] END criterion=log_loss, max_depth=40, min_samples_split=2;, score=0.709 total time=   0.0s\n",
      "[CV 3/5] END criterion=log_loss, max_depth=40, min_samples_split=2;, score=0.718 total time=   0.0s\n",
      "[CV 4/5] END criterion=log_loss, max_depth=40, min_samples_split=2;, score=0.689 total time=   0.0s\n",
      "[CV 5/5] END criterion=log_loss, max_depth=40, min_samples_split=2;, score=0.667 total time=   0.0s\n",
      "[CV 1/5] END criterion=log_loss, max_depth=40, min_samples_split=3;, score=0.767 total time=   0.0s\n",
      "[CV 2/5] END criterion=log_loss, max_depth=40, min_samples_split=3;, score=0.718 total time=   0.0s\n",
      "[CV 3/5] END criterion=log_loss, max_depth=40, min_samples_split=3;, score=0.689 total time=   0.0s\n",
      "[CV 4/5] END criterion=log_loss, max_depth=40, min_samples_split=3;, score=0.709 total time=   0.0s\n",
      "[CV 5/5] END criterion=log_loss, max_depth=40, min_samples_split=3;, score=0.676 total time=   0.0s\n",
      "[CV 1/5] END criterion=log_loss, max_depth=40, min_samples_split=4;, score=0.825 total time=   0.0s\n",
      "[CV 2/5] END criterion=log_loss, max_depth=40, min_samples_split=4;, score=0.718 total time=   0.0s\n",
      "[CV 3/5] END criterion=log_loss, max_depth=40, min_samples_split=4;, score=0.689 total time=   0.0s\n",
      "[CV 4/5] END criterion=log_loss, max_depth=40, min_samples_split=4;, score=0.757 total time=   0.0s\n",
      "[CV 5/5] END criterion=log_loss, max_depth=40, min_samples_split=4;, score=0.706 total time=   0.0s\n",
      "[CV 1/5] END criterion=log_loss, max_depth=40, min_samples_split=8;, score=0.777 total time=   0.0s\n",
      "[CV 2/5] END criterion=log_loss, max_depth=40, min_samples_split=8;, score=0.718 total time=   0.0s\n",
      "[CV 3/5] END criterion=log_loss, max_depth=40, min_samples_split=8;, score=0.689 total time=   0.0s\n",
      "[CV 4/5] END criterion=log_loss, max_depth=40, min_samples_split=8;, score=0.748 total time=   0.0s\n",
      "[CV 5/5] END criterion=log_loss, max_depth=40, min_samples_split=8;, score=0.676 total time=   0.0s\n",
      "[CV 1/5] END criterion=log_loss, max_depth=40, min_samples_split=10;, score=0.767 total time=   0.0s\n",
      "[CV 2/5] END criterion=log_loss, max_depth=40, min_samples_split=10;, score=0.699 total time=   0.0s\n",
      "[CV 3/5] END criterion=log_loss, max_depth=40, min_samples_split=10;, score=0.689 total time=   0.0s\n",
      "[CV 4/5] END criterion=log_loss, max_depth=40, min_samples_split=10;, score=0.728 total time=   0.0s\n",
      "[CV 5/5] END criterion=log_loss, max_depth=40, min_samples_split=10;, score=0.706 total time=   0.0s\n",
      "[CV 1/5] END criterion=log_loss, max_depth=50, min_samples_split=2;, score=0.777 total time=   0.0s\n",
      "[CV 2/5] END criterion=log_loss, max_depth=50, min_samples_split=2;, score=0.699 total time=   0.0s\n",
      "[CV 3/5] END criterion=log_loss, max_depth=50, min_samples_split=2;, score=0.680 total time=   0.0s\n",
      "[CV 4/5] END criterion=log_loss, max_depth=50, min_samples_split=2;, score=0.718 total time=   0.0s\n",
      "[CV 5/5] END criterion=log_loss, max_depth=50, min_samples_split=2;, score=0.696 total time=   0.0s\n",
      "[CV 1/5] END criterion=log_loss, max_depth=50, min_samples_split=3;, score=0.786 total time=   0.0s\n",
      "[CV 2/5] END criterion=log_loss, max_depth=50, min_samples_split=3;, score=0.718 total time=   0.0s\n",
      "[CV 3/5] END criterion=log_loss, max_depth=50, min_samples_split=3;, score=0.699 total time=   0.0s\n",
      "[CV 4/5] END criterion=log_loss, max_depth=50, min_samples_split=3;, score=0.718 total time=   0.0s\n",
      "[CV 5/5] END criterion=log_loss, max_depth=50, min_samples_split=3;, score=0.667 total time=   0.0s\n",
      "[CV 1/5] END criterion=log_loss, max_depth=50, min_samples_split=4;, score=0.825 total time=   0.0s\n",
      "[CV 2/5] END criterion=log_loss, max_depth=50, min_samples_split=4;, score=0.718 total time=   0.0s\n",
      "[CV 3/5] END criterion=log_loss, max_depth=50, min_samples_split=4;, score=0.709 total time=   0.0s\n",
      "[CV 4/5] END criterion=log_loss, max_depth=50, min_samples_split=4;, score=0.718 total time=   0.0s\n",
      "[CV 5/5] END criterion=log_loss, max_depth=50, min_samples_split=4;, score=0.735 total time=   0.0s\n",
      "[CV 1/5] END criterion=log_loss, max_depth=50, min_samples_split=8;, score=0.786 total time=   0.0s\n",
      "[CV 2/5] END criterion=log_loss, max_depth=50, min_samples_split=8;, score=0.718 total time=   0.0s\n",
      "[CV 3/5] END criterion=log_loss, max_depth=50, min_samples_split=8;, score=0.699 total time=   0.0s\n",
      "[CV 4/5] END criterion=log_loss, max_depth=50, min_samples_split=8;, score=0.767 total time=   0.0s\n",
      "[CV 5/5] END criterion=log_loss, max_depth=50, min_samples_split=8;, score=0.696 total time=   0.0s\n",
      "[CV 1/5] END criterion=log_loss, max_depth=50, min_samples_split=10;, score=0.767 total time=   0.0s\n",
      "[CV 2/5] END criterion=log_loss, max_depth=50, min_samples_split=10;, score=0.699 total time=   0.0s\n",
      "[CV 3/5] END criterion=log_loss, max_depth=50, min_samples_split=10;, score=0.680 total time=   0.0s\n",
      "[CV 4/5] END criterion=log_loss, max_depth=50, min_samples_split=10;, score=0.757 total time=   0.0s\n",
      "[CV 5/5] END criterion=log_loss, max_depth=50, min_samples_split=10;, score=0.706 total time=   0.0s\n",
      "[CV 1/5] END criterion=log_loss, max_depth=60, min_samples_split=2;, score=0.767 total time=   0.0s\n",
      "[CV 2/5] END criterion=log_loss, max_depth=60, min_samples_split=2;, score=0.699 total time=   0.0s\n",
      "[CV 3/5] END criterion=log_loss, max_depth=60, min_samples_split=2;, score=0.709 total time=   0.0s\n",
      "[CV 4/5] END criterion=log_loss, max_depth=60, min_samples_split=2;, score=0.709 total time=   0.0s\n",
      "[CV 5/5] END criterion=log_loss, max_depth=60, min_samples_split=2;, score=0.696 total time=   0.0s\n",
      "[CV 1/5] END criterion=log_loss, max_depth=60, min_samples_split=3;, score=0.796 total time=   0.0s\n",
      "[CV 2/5] END criterion=log_loss, max_depth=60, min_samples_split=3;, score=0.709 total time=   0.0s\n",
      "[CV 3/5] END criterion=log_loss, max_depth=60, min_samples_split=3;, score=0.709 total time=   0.0s\n",
      "[CV 4/5] END criterion=log_loss, max_depth=60, min_samples_split=3;, score=0.757 total time=   0.0s\n",
      "[CV 5/5] END criterion=log_loss, max_depth=60, min_samples_split=3;, score=0.706 total time=   0.0s\n",
      "[CV 1/5] END criterion=log_loss, max_depth=60, min_samples_split=4;, score=0.767 total time=   0.0s\n",
      "[CV 2/5] END criterion=log_loss, max_depth=60, min_samples_split=4;, score=0.718 total time=   0.0s\n",
      "[CV 3/5] END criterion=log_loss, max_depth=60, min_samples_split=4;, score=0.718 total time=   0.0s\n",
      "[CV 4/5] END criterion=log_loss, max_depth=60, min_samples_split=4;, score=0.709 total time=   0.0s\n",
      "[CV 5/5] END criterion=log_loss, max_depth=60, min_samples_split=4;, score=0.696 total time=   0.0s\n",
      "[CV 1/5] END criterion=log_loss, max_depth=60, min_samples_split=8;, score=0.777 total time=   0.0s\n",
      "[CV 2/5] END criterion=log_loss, max_depth=60, min_samples_split=8;, score=0.718 total time=   0.0s\n",
      "[CV 3/5] END criterion=log_loss, max_depth=60, min_samples_split=8;, score=0.680 total time=   0.0s\n",
      "[CV 4/5] END criterion=log_loss, max_depth=60, min_samples_split=8;, score=0.718 total time=   0.0s\n",
      "[CV 5/5] END criterion=log_loss, max_depth=60, min_samples_split=8;, score=0.686 total time=   0.0s\n",
      "[CV 1/5] END criterion=log_loss, max_depth=60, min_samples_split=10;, score=0.757 total time=   0.0s\n",
      "[CV 2/5] END criterion=log_loss, max_depth=60, min_samples_split=10;, score=0.699 total time=   0.0s\n",
      "[CV 3/5] END criterion=log_loss, max_depth=60, min_samples_split=10;, score=0.699 total time=   0.0s\n",
      "[CV 4/5] END criterion=log_loss, max_depth=60, min_samples_split=10;, score=0.709 total time=   0.0s\n",
      "[CV 5/5] END criterion=log_loss, max_depth=60, min_samples_split=10;, score=0.706 total time=   0.0s\n"
     ]
    },
    {
     "data": {
      "text/html": [
       "<style>#sk-container-id-6 {color: black;background-color: white;}#sk-container-id-6 pre{padding: 0;}#sk-container-id-6 div.sk-toggleable {background-color: white;}#sk-container-id-6 label.sk-toggleable__label {cursor: pointer;display: block;width: 100%;margin-bottom: 0;padding: 0.3em;box-sizing: border-box;text-align: center;}#sk-container-id-6 label.sk-toggleable__label-arrow:before {content: \"▸\";float: left;margin-right: 0.25em;color: #696969;}#sk-container-id-6 label.sk-toggleable__label-arrow:hover:before {color: black;}#sk-container-id-6 div.sk-estimator:hover label.sk-toggleable__label-arrow:before {color: black;}#sk-container-id-6 div.sk-toggleable__content {max-height: 0;max-width: 0;overflow: hidden;text-align: left;background-color: #f0f8ff;}#sk-container-id-6 div.sk-toggleable__content pre {margin: 0.2em;color: black;border-radius: 0.25em;background-color: #f0f8ff;}#sk-container-id-6 input.sk-toggleable__control:checked~div.sk-toggleable__content {max-height: 200px;max-width: 100%;overflow: auto;}#sk-container-id-6 input.sk-toggleable__control:checked~label.sk-toggleable__label-arrow:before {content: \"▾\";}#sk-container-id-6 div.sk-estimator input.sk-toggleable__control:checked~label.sk-toggleable__label {background-color: #d4ebff;}#sk-container-id-6 div.sk-label input.sk-toggleable__control:checked~label.sk-toggleable__label {background-color: #d4ebff;}#sk-container-id-6 input.sk-hidden--visually {border: 0;clip: rect(1px 1px 1px 1px);clip: rect(1px, 1px, 1px, 1px);height: 1px;margin: -1px;overflow: hidden;padding: 0;position: absolute;width: 1px;}#sk-container-id-6 div.sk-estimator {font-family: monospace;background-color: #f0f8ff;border: 1px dotted black;border-radius: 0.25em;box-sizing: border-box;margin-bottom: 0.5em;}#sk-container-id-6 div.sk-estimator:hover {background-color: #d4ebff;}#sk-container-id-6 div.sk-parallel-item::after {content: \"\";width: 100%;border-bottom: 1px solid gray;flex-grow: 1;}#sk-container-id-6 div.sk-label:hover label.sk-toggleable__label {background-color: #d4ebff;}#sk-container-id-6 div.sk-serial::before {content: \"\";position: absolute;border-left: 1px solid gray;box-sizing: border-box;top: 0;bottom: 0;left: 50%;z-index: 0;}#sk-container-id-6 div.sk-serial {display: flex;flex-direction: column;align-items: center;background-color: white;padding-right: 0.2em;padding-left: 0.2em;position: relative;}#sk-container-id-6 div.sk-item {position: relative;z-index: 1;}#sk-container-id-6 div.sk-parallel {display: flex;align-items: stretch;justify-content: center;background-color: white;position: relative;}#sk-container-id-6 div.sk-item::before, #sk-container-id-6 div.sk-parallel-item::before {content: \"\";position: absolute;border-left: 1px solid gray;box-sizing: border-box;top: 0;bottom: 0;left: 50%;z-index: -1;}#sk-container-id-6 div.sk-parallel-item {display: flex;flex-direction: column;z-index: 1;position: relative;background-color: white;}#sk-container-id-6 div.sk-parallel-item:first-child::after {align-self: flex-end;width: 50%;}#sk-container-id-6 div.sk-parallel-item:last-child::after {align-self: flex-start;width: 50%;}#sk-container-id-6 div.sk-parallel-item:only-child::after {width: 0;}#sk-container-id-6 div.sk-dashed-wrapped {border: 1px dashed gray;margin: 0 0.4em 0.5em 0.4em;box-sizing: border-box;padding-bottom: 0.4em;background-color: white;}#sk-container-id-6 div.sk-label label {font-family: monospace;font-weight: bold;display: inline-block;line-height: 1.2em;}#sk-container-id-6 div.sk-label-container {text-align: center;}#sk-container-id-6 div.sk-container {/* jupyter's `normalize.less` sets `[hidden] { display: none; }` but bootstrap.min.css set `[hidden] { display: none !important; }` so we also need the `!important` here to be able to override the default hidden behavior on the sphinx rendered scikit-learn.org. See: https://github.com/scikit-learn/scikit-learn/issues/21755 */display: inline-block !important;position: relative;}#sk-container-id-6 div.sk-text-repr-fallback {display: none;}</style><div id=\"sk-container-id-6\" class=\"sk-top-container\"><div class=\"sk-text-repr-fallback\"><pre>GridSearchCV(cv=5, estimator=DecisionTreeClassifier(),\n",
       "             param_grid={&#x27;criterion&#x27;: [&#x27;gini&#x27;, &#x27;entropy&#x27;, &#x27;log_loss&#x27;],\n",
       "                         &#x27;max_depth&#x27;: [10, 20, 30, 40, 50, 60],\n",
       "                         &#x27;min_samples_split&#x27;: [2, 3, 4, 8, 10]},\n",
       "             scoring=&#x27;accuracy&#x27;, verbose=3)</pre><b>In a Jupyter environment, please rerun this cell to show the HTML representation or trust the notebook. <br />On GitHub, the HTML representation is unable to render, please try loading this page with nbviewer.org.</b></div><div class=\"sk-container\" hidden><div class=\"sk-item sk-dashed-wrapped\"><div class=\"sk-label-container\"><div class=\"sk-label sk-toggleable\"><input class=\"sk-toggleable__control sk-hidden--visually\" id=\"sk-estimator-id-8\" type=\"checkbox\" ><label for=\"sk-estimator-id-8\" class=\"sk-toggleable__label sk-toggleable__label-arrow\">GridSearchCV</label><div class=\"sk-toggleable__content\"><pre>GridSearchCV(cv=5, estimator=DecisionTreeClassifier(),\n",
       "             param_grid={&#x27;criterion&#x27;: [&#x27;gini&#x27;, &#x27;entropy&#x27;, &#x27;log_loss&#x27;],\n",
       "                         &#x27;max_depth&#x27;: [10, 20, 30, 40, 50, 60],\n",
       "                         &#x27;min_samples_split&#x27;: [2, 3, 4, 8, 10]},\n",
       "             scoring=&#x27;accuracy&#x27;, verbose=3)</pre></div></div></div><div class=\"sk-parallel\"><div class=\"sk-parallel-item\"><div class=\"sk-item\"><div class=\"sk-label-container\"><div class=\"sk-label sk-toggleable\"><input class=\"sk-toggleable__control sk-hidden--visually\" id=\"sk-estimator-id-9\" type=\"checkbox\" ><label for=\"sk-estimator-id-9\" class=\"sk-toggleable__label sk-toggleable__label-arrow\">estimator: DecisionTreeClassifier</label><div class=\"sk-toggleable__content\"><pre>DecisionTreeClassifier()</pre></div></div></div><div class=\"sk-serial\"><div class=\"sk-item\"><div class=\"sk-estimator sk-toggleable\"><input class=\"sk-toggleable__control sk-hidden--visually\" id=\"sk-estimator-id-10\" type=\"checkbox\" ><label for=\"sk-estimator-id-10\" class=\"sk-toggleable__label sk-toggleable__label-arrow\">DecisionTreeClassifier</label><div class=\"sk-toggleable__content\"><pre>DecisionTreeClassifier()</pre></div></div></div></div></div></div></div></div></div></div>"
      ],
      "text/plain": [
       "GridSearchCV(cv=5, estimator=DecisionTreeClassifier(),\n",
       "             param_grid={'criterion': ['gini', 'entropy', 'log_loss'],\n",
       "                         'max_depth': [10, 20, 30, 40, 50, 60],\n",
       "                         'min_samples_split': [2, 3, 4, 8, 10]},\n",
       "             scoring='accuracy', verbose=3)"
      ]
     },
     "execution_count": 30,
     "metadata": {},
     "output_type": "execute_result"
    }
   ],
   "source": [
    "dtclf = GridSearchCV(Dtclassifier,param_grid=parameter_dt,cv=5,scoring='accuracy',verbose=3)\n",
    "dtclf.fit(X_train_scaled,y_train)"
   ]
  },
  {
   "cell_type": "code",
   "execution_count": 31,
   "id": "bcb13e8b-7d8c-4ba6-ba72-6e290556e33a",
   "metadata": {},
   "outputs": [
    {
     "name": "stdout",
     "output_type": "stream",
     "text": [
      "Fitting 5 folds for each of 24 candidates, totalling 120 fits\n",
      "[CV 1/5] END .C=1.0, gamma=scale, kernel=linear;, score=0.845 total time=   0.0s\n",
      "[CV 2/5] END .C=1.0, gamma=scale, kernel=linear;, score=0.709 total time=   0.0s\n",
      "[CV 3/5] END .C=1.0, gamma=scale, kernel=linear;, score=0.816 total time=   0.0s\n",
      "[CV 4/5] END .C=1.0, gamma=scale, kernel=linear;, score=0.738 total time=   0.0s\n",
      "[CV 5/5] END .C=1.0, gamma=scale, kernel=linear;, score=0.755 total time=   0.0s\n",
      "[CV 1/5] END ...C=1.0, gamma=scale, kernel=poly;, score=0.786 total time=   0.0s\n",
      "[CV 2/5] END ...C=1.0, gamma=scale, kernel=poly;, score=0.699 total time=   0.0s\n",
      "[CV 3/5] END ...C=1.0, gamma=scale, kernel=poly;, score=0.738 total time=   0.0s\n",
      "[CV 4/5] END ...C=1.0, gamma=scale, kernel=poly;, score=0.689 total time=   0.0s\n",
      "[CV 5/5] END ...C=1.0, gamma=scale, kernel=poly;, score=0.745 total time=   0.0s\n",
      "[CV 1/5] END ....C=1.0, gamma=scale, kernel=rbf;, score=0.825 total time=   0.0s\n",
      "[CV 2/5] END ....C=1.0, gamma=scale, kernel=rbf;, score=0.728 total time=   0.0s\n",
      "[CV 3/5] END ....C=1.0, gamma=scale, kernel=rbf;, score=0.777 total time=   0.0s\n",
      "[CV 4/5] END ....C=1.0, gamma=scale, kernel=rbf;, score=0.757 total time=   0.0s\n",
      "[CV 5/5] END ....C=1.0, gamma=scale, kernel=rbf;, score=0.755 total time=   0.0s\n",
      "[CV 1/5] END C=1.0, gamma=scale, kernel=sigmoid;, score=0.825 total time=   0.0s\n",
      "[CV 2/5] END C=1.0, gamma=scale, kernel=sigmoid;, score=0.660 total time=   0.0s\n",
      "[CV 3/5] END C=1.0, gamma=scale, kernel=sigmoid;, score=0.786 total time=   0.0s\n",
      "[CV 4/5] END C=1.0, gamma=scale, kernel=sigmoid;, score=0.709 total time=   0.0s\n",
      "[CV 5/5] END C=1.0, gamma=scale, kernel=sigmoid;, score=0.745 total time=   0.0s\n",
      "[CV 1/5] END ..C=1.0, gamma=auto, kernel=linear;, score=0.845 total time=   0.0s\n",
      "[CV 2/5] END ..C=1.0, gamma=auto, kernel=linear;, score=0.709 total time=   0.0s\n",
      "[CV 3/5] END ..C=1.0, gamma=auto, kernel=linear;, score=0.816 total time=   0.0s\n",
      "[CV 4/5] END ..C=1.0, gamma=auto, kernel=linear;, score=0.738 total time=   0.0s\n",
      "[CV 5/5] END ..C=1.0, gamma=auto, kernel=linear;, score=0.755 total time=   0.0s\n",
      "[CV 1/5] END ....C=1.0, gamma=auto, kernel=poly;, score=0.786 total time=   0.0s\n",
      "[CV 2/5] END ....C=1.0, gamma=auto, kernel=poly;, score=0.699 total time=   0.0s\n",
      "[CV 3/5] END ....C=1.0, gamma=auto, kernel=poly;, score=0.738 total time=   0.0s\n",
      "[CV 4/5] END ....C=1.0, gamma=auto, kernel=poly;, score=0.689 total time=   0.0s\n",
      "[CV 5/5] END ....C=1.0, gamma=auto, kernel=poly;, score=0.755 total time=   0.0s\n",
      "[CV 1/5] END .....C=1.0, gamma=auto, kernel=rbf;, score=0.825 total time=   0.0s\n",
      "[CV 2/5] END .....C=1.0, gamma=auto, kernel=rbf;, score=0.728 total time=   0.0s\n",
      "[CV 3/5] END .....C=1.0, gamma=auto, kernel=rbf;, score=0.777 total time=   0.0s\n",
      "[CV 4/5] END .....C=1.0, gamma=auto, kernel=rbf;, score=0.757 total time=   0.0s\n",
      "[CV 5/5] END .....C=1.0, gamma=auto, kernel=rbf;, score=0.755 total time=   0.0s\n",
      "[CV 1/5] END .C=1.0, gamma=auto, kernel=sigmoid;, score=0.825 total time=   0.0s\n",
      "[CV 2/5] END .C=1.0, gamma=auto, kernel=sigmoid;, score=0.660 total time=   0.0s\n",
      "[CV 3/5] END .C=1.0, gamma=auto, kernel=sigmoid;, score=0.786 total time=   0.0s\n",
      "[CV 4/5] END .C=1.0, gamma=auto, kernel=sigmoid;, score=0.709 total time=   0.0s\n",
      "[CV 5/5] END .C=1.0, gamma=auto, kernel=sigmoid;, score=0.745 total time=   0.0s\n",
      "[CV 1/5] END C=0.001, gamma=scale, kernel=linear;, score=0.650 total time=   0.0s\n",
      "[CV 2/5] END C=0.001, gamma=scale, kernel=linear;, score=0.650 total time=   0.0s\n",
      "[CV 3/5] END C=0.001, gamma=scale, kernel=linear;, score=0.641 total time=   0.0s\n",
      "[CV 4/5] END C=0.001, gamma=scale, kernel=linear;, score=0.641 total time=   0.0s\n",
      "[CV 5/5] END C=0.001, gamma=scale, kernel=linear;, score=0.647 total time=   0.0s\n",
      "[CV 1/5] END .C=0.001, gamma=scale, kernel=poly;, score=0.641 total time=   0.0s\n",
      "[CV 2/5] END .C=0.001, gamma=scale, kernel=poly;, score=0.650 total time=   0.0s\n",
      "[CV 3/5] END .C=0.001, gamma=scale, kernel=poly;, score=0.641 total time=   0.0s\n",
      "[CV 4/5] END .C=0.001, gamma=scale, kernel=poly;, score=0.641 total time=   0.0s\n",
      "[CV 5/5] END .C=0.001, gamma=scale, kernel=poly;, score=0.647 total time=   0.0s\n",
      "[CV 1/5] END ..C=0.001, gamma=scale, kernel=rbf;, score=0.650 total time=   0.0s\n",
      "[CV 2/5] END ..C=0.001, gamma=scale, kernel=rbf;, score=0.650 total time=   0.0s\n",
      "[CV 3/5] END ..C=0.001, gamma=scale, kernel=rbf;, score=0.641 total time=   0.0s\n",
      "[CV 4/5] END ..C=0.001, gamma=scale, kernel=rbf;, score=0.641 total time=   0.0s\n",
      "[CV 5/5] END ..C=0.001, gamma=scale, kernel=rbf;, score=0.647 total time=   0.0s\n",
      "[CV 1/5] END C=0.001, gamma=scale, kernel=sigmoid;, score=0.650 total time=   0.0s\n",
      "[CV 2/5] END C=0.001, gamma=scale, kernel=sigmoid;, score=0.650 total time=   0.0s\n",
      "[CV 3/5] END C=0.001, gamma=scale, kernel=sigmoid;, score=0.641 total time=   0.0s\n",
      "[CV 4/5] END C=0.001, gamma=scale, kernel=sigmoid;, score=0.641 total time=   0.0s\n",
      "[CV 5/5] END C=0.001, gamma=scale, kernel=sigmoid;, score=0.647 total time=   0.0s\n",
      "[CV 1/5] END C=0.001, gamma=auto, kernel=linear;, score=0.650 total time=   0.0s\n",
      "[CV 2/5] END C=0.001, gamma=auto, kernel=linear;, score=0.650 total time=   0.0s\n",
      "[CV 3/5] END C=0.001, gamma=auto, kernel=linear;, score=0.641 total time=   0.0s\n",
      "[CV 4/5] END C=0.001, gamma=auto, kernel=linear;, score=0.641 total time=   0.0s\n",
      "[CV 5/5] END C=0.001, gamma=auto, kernel=linear;, score=0.647 total time=   0.0s\n",
      "[CV 1/5] END ..C=0.001, gamma=auto, kernel=poly;, score=0.641 total time=   0.0s\n",
      "[CV 2/5] END ..C=0.001, gamma=auto, kernel=poly;, score=0.650 total time=   0.0s\n",
      "[CV 3/5] END ..C=0.001, gamma=auto, kernel=poly;, score=0.641 total time=   0.0s\n",
      "[CV 4/5] END ..C=0.001, gamma=auto, kernel=poly;, score=0.641 total time=   0.0s\n",
      "[CV 5/5] END ..C=0.001, gamma=auto, kernel=poly;, score=0.647 total time=   0.0s\n",
      "[CV 1/5] END ...C=0.001, gamma=auto, kernel=rbf;, score=0.650 total time=   0.0s\n",
      "[CV 2/5] END ...C=0.001, gamma=auto, kernel=rbf;, score=0.650 total time=   0.0s\n",
      "[CV 3/5] END ...C=0.001, gamma=auto, kernel=rbf;, score=0.641 total time=   0.0s\n",
      "[CV 4/5] END ...C=0.001, gamma=auto, kernel=rbf;, score=0.641 total time=   0.0s\n",
      "[CV 5/5] END ...C=0.001, gamma=auto, kernel=rbf;, score=0.647 total time=   0.0s\n",
      "[CV 1/5] END C=0.001, gamma=auto, kernel=sigmoid;, score=0.650 total time=   0.0s\n",
      "[CV 2/5] END C=0.001, gamma=auto, kernel=sigmoid;, score=0.650 total time=   0.0s\n",
      "[CV 3/5] END C=0.001, gamma=auto, kernel=sigmoid;, score=0.641 total time=   0.0s\n",
      "[CV 4/5] END C=0.001, gamma=auto, kernel=sigmoid;, score=0.641 total time=   0.0s\n",
      "[CV 5/5] END C=0.001, gamma=auto, kernel=sigmoid;, score=0.647 total time=   0.0s\n",
      "[CV 1/5] END C=0.01, gamma=scale, kernel=linear;, score=0.825 total time=   0.0s\n",
      "[CV 2/5] END C=0.01, gamma=scale, kernel=linear;, score=0.738 total time=   0.0s\n",
      "[CV 3/5] END C=0.01, gamma=scale, kernel=linear;, score=0.825 total time=   0.0s\n",
      "[CV 4/5] END C=0.01, gamma=scale, kernel=linear;, score=0.718 total time=   0.0s\n",
      "[CV 5/5] END C=0.01, gamma=scale, kernel=linear;, score=0.765 total time=   0.0s\n",
      "[CV 1/5] END ..C=0.01, gamma=scale, kernel=poly;, score=0.641 total time=   0.0s\n",
      "[CV 2/5] END ..C=0.01, gamma=scale, kernel=poly;, score=0.660 total time=   0.0s\n",
      "[CV 3/5] END ..C=0.01, gamma=scale, kernel=poly;, score=0.650 total time=   0.0s\n",
      "[CV 4/5] END ..C=0.01, gamma=scale, kernel=poly;, score=0.641 total time=   0.0s\n",
      "[CV 5/5] END ..C=0.01, gamma=scale, kernel=poly;, score=0.657 total time=   0.0s\n",
      "[CV 1/5] END ...C=0.01, gamma=scale, kernel=rbf;, score=0.650 total time=   0.0s\n",
      "[CV 2/5] END ...C=0.01, gamma=scale, kernel=rbf;, score=0.650 total time=   0.0s\n",
      "[CV 3/5] END ...C=0.01, gamma=scale, kernel=rbf;, score=0.641 total time=   0.0s\n",
      "[CV 4/5] END ...C=0.01, gamma=scale, kernel=rbf;, score=0.641 total time=   0.0s\n",
      "[CV 5/5] END ...C=0.01, gamma=scale, kernel=rbf;, score=0.647 total time=   0.0s\n",
      "[CV 1/5] END C=0.01, gamma=scale, kernel=sigmoid;, score=0.650 total time=   0.0s\n",
      "[CV 2/5] END C=0.01, gamma=scale, kernel=sigmoid;, score=0.650 total time=   0.0s\n",
      "[CV 3/5] END C=0.01, gamma=scale, kernel=sigmoid;, score=0.641 total time=   0.0s\n",
      "[CV 4/5] END C=0.01, gamma=scale, kernel=sigmoid;, score=0.641 total time=   0.0s\n",
      "[CV 5/5] END C=0.01, gamma=scale, kernel=sigmoid;, score=0.647 total time=   0.0s\n",
      "[CV 1/5] END .C=0.01, gamma=auto, kernel=linear;, score=0.825 total time=   0.0s\n",
      "[CV 2/5] END .C=0.01, gamma=auto, kernel=linear;, score=0.738 total time=   0.0s\n",
      "[CV 3/5] END .C=0.01, gamma=auto, kernel=linear;, score=0.825 total time=   0.0s\n",
      "[CV 4/5] END .C=0.01, gamma=auto, kernel=linear;, score=0.718 total time=   0.0s\n",
      "[CV 5/5] END .C=0.01, gamma=auto, kernel=linear;, score=0.765 total time=   0.0s\n",
      "[CV 1/5] END ...C=0.01, gamma=auto, kernel=poly;, score=0.641 total time=   0.0s\n",
      "[CV 2/5] END ...C=0.01, gamma=auto, kernel=poly;, score=0.660 total time=   0.0s\n",
      "[CV 3/5] END ...C=0.01, gamma=auto, kernel=poly;, score=0.641 total time=   0.0s\n",
      "[CV 4/5] END ...C=0.01, gamma=auto, kernel=poly;, score=0.641 total time=   0.0s\n",
      "[CV 5/5] END ...C=0.01, gamma=auto, kernel=poly;, score=0.657 total time=   0.0s\n",
      "[CV 1/5] END ....C=0.01, gamma=auto, kernel=rbf;, score=0.650 total time=   0.0s\n",
      "[CV 2/5] END ....C=0.01, gamma=auto, kernel=rbf;, score=0.650 total time=   0.0s\n",
      "[CV 3/5] END ....C=0.01, gamma=auto, kernel=rbf;, score=0.641 total time=   0.0s\n",
      "[CV 4/5] END ....C=0.01, gamma=auto, kernel=rbf;, score=0.641 total time=   0.0s\n",
      "[CV 5/5] END ....C=0.01, gamma=auto, kernel=rbf;, score=0.647 total time=   0.0s\n",
      "[CV 1/5] END C=0.01, gamma=auto, kernel=sigmoid;, score=0.650 total time=   0.0s\n",
      "[CV 2/5] END C=0.01, gamma=auto, kernel=sigmoid;, score=0.650 total time=   0.0s\n",
      "[CV 3/5] END C=0.01, gamma=auto, kernel=sigmoid;, score=0.641 total time=   0.0s\n",
      "[CV 4/5] END C=0.01, gamma=auto, kernel=sigmoid;, score=0.641 total time=   0.0s\n",
      "[CV 5/5] END C=0.01, gamma=auto, kernel=sigmoid;, score=0.647 total time=   0.0s\n"
     ]
    },
    {
     "data": {
      "text/html": [
       "<style>#sk-container-id-7 {color: black;background-color: white;}#sk-container-id-7 pre{padding: 0;}#sk-container-id-7 div.sk-toggleable {background-color: white;}#sk-container-id-7 label.sk-toggleable__label {cursor: pointer;display: block;width: 100%;margin-bottom: 0;padding: 0.3em;box-sizing: border-box;text-align: center;}#sk-container-id-7 label.sk-toggleable__label-arrow:before {content: \"▸\";float: left;margin-right: 0.25em;color: #696969;}#sk-container-id-7 label.sk-toggleable__label-arrow:hover:before {color: black;}#sk-container-id-7 div.sk-estimator:hover label.sk-toggleable__label-arrow:before {color: black;}#sk-container-id-7 div.sk-toggleable__content {max-height: 0;max-width: 0;overflow: hidden;text-align: left;background-color: #f0f8ff;}#sk-container-id-7 div.sk-toggleable__content pre {margin: 0.2em;color: black;border-radius: 0.25em;background-color: #f0f8ff;}#sk-container-id-7 input.sk-toggleable__control:checked~div.sk-toggleable__content {max-height: 200px;max-width: 100%;overflow: auto;}#sk-container-id-7 input.sk-toggleable__control:checked~label.sk-toggleable__label-arrow:before {content: \"▾\";}#sk-container-id-7 div.sk-estimator input.sk-toggleable__control:checked~label.sk-toggleable__label {background-color: #d4ebff;}#sk-container-id-7 div.sk-label input.sk-toggleable__control:checked~label.sk-toggleable__label {background-color: #d4ebff;}#sk-container-id-7 input.sk-hidden--visually {border: 0;clip: rect(1px 1px 1px 1px);clip: rect(1px, 1px, 1px, 1px);height: 1px;margin: -1px;overflow: hidden;padding: 0;position: absolute;width: 1px;}#sk-container-id-7 div.sk-estimator {font-family: monospace;background-color: #f0f8ff;border: 1px dotted black;border-radius: 0.25em;box-sizing: border-box;margin-bottom: 0.5em;}#sk-container-id-7 div.sk-estimator:hover {background-color: #d4ebff;}#sk-container-id-7 div.sk-parallel-item::after {content: \"\";width: 100%;border-bottom: 1px solid gray;flex-grow: 1;}#sk-container-id-7 div.sk-label:hover label.sk-toggleable__label {background-color: #d4ebff;}#sk-container-id-7 div.sk-serial::before {content: \"\";position: absolute;border-left: 1px solid gray;box-sizing: border-box;top: 0;bottom: 0;left: 50%;z-index: 0;}#sk-container-id-7 div.sk-serial {display: flex;flex-direction: column;align-items: center;background-color: white;padding-right: 0.2em;padding-left: 0.2em;position: relative;}#sk-container-id-7 div.sk-item {position: relative;z-index: 1;}#sk-container-id-7 div.sk-parallel {display: flex;align-items: stretch;justify-content: center;background-color: white;position: relative;}#sk-container-id-7 div.sk-item::before, #sk-container-id-7 div.sk-parallel-item::before {content: \"\";position: absolute;border-left: 1px solid gray;box-sizing: border-box;top: 0;bottom: 0;left: 50%;z-index: -1;}#sk-container-id-7 div.sk-parallel-item {display: flex;flex-direction: column;z-index: 1;position: relative;background-color: white;}#sk-container-id-7 div.sk-parallel-item:first-child::after {align-self: flex-end;width: 50%;}#sk-container-id-7 div.sk-parallel-item:last-child::after {align-self: flex-start;width: 50%;}#sk-container-id-7 div.sk-parallel-item:only-child::after {width: 0;}#sk-container-id-7 div.sk-dashed-wrapped {border: 1px dashed gray;margin: 0 0.4em 0.5em 0.4em;box-sizing: border-box;padding-bottom: 0.4em;background-color: white;}#sk-container-id-7 div.sk-label label {font-family: monospace;font-weight: bold;display: inline-block;line-height: 1.2em;}#sk-container-id-7 div.sk-label-container {text-align: center;}#sk-container-id-7 div.sk-container {/* jupyter's `normalize.less` sets `[hidden] { display: none; }` but bootstrap.min.css set `[hidden] { display: none !important; }` so we also need the `!important` here to be able to override the default hidden behavior on the sphinx rendered scikit-learn.org. See: https://github.com/scikit-learn/scikit-learn/issues/21755 */display: inline-block !important;position: relative;}#sk-container-id-7 div.sk-text-repr-fallback {display: none;}</style><div id=\"sk-container-id-7\" class=\"sk-top-container\"><div class=\"sk-text-repr-fallback\"><pre>GridSearchCV(cv=5, estimator=SVC(),\n",
       "             param_grid={&#x27;C&#x27;: [1.0, 0.001, 0.01], &#x27;gamma&#x27;: [&#x27;scale&#x27;, &#x27;auto&#x27;],\n",
       "                         &#x27;kernel&#x27;: [&#x27;linear&#x27;, &#x27;poly&#x27;, &#x27;rbf&#x27;, &#x27;sigmoid&#x27;]},\n",
       "             scoring=&#x27;accuracy&#x27;, verbose=3)</pre><b>In a Jupyter environment, please rerun this cell to show the HTML representation or trust the notebook. <br />On GitHub, the HTML representation is unable to render, please try loading this page with nbviewer.org.</b></div><div class=\"sk-container\" hidden><div class=\"sk-item sk-dashed-wrapped\"><div class=\"sk-label-container\"><div class=\"sk-label sk-toggleable\"><input class=\"sk-toggleable__control sk-hidden--visually\" id=\"sk-estimator-id-11\" type=\"checkbox\" ><label for=\"sk-estimator-id-11\" class=\"sk-toggleable__label sk-toggleable__label-arrow\">GridSearchCV</label><div class=\"sk-toggleable__content\"><pre>GridSearchCV(cv=5, estimator=SVC(),\n",
       "             param_grid={&#x27;C&#x27;: [1.0, 0.001, 0.01], &#x27;gamma&#x27;: [&#x27;scale&#x27;, &#x27;auto&#x27;],\n",
       "                         &#x27;kernel&#x27;: [&#x27;linear&#x27;, &#x27;poly&#x27;, &#x27;rbf&#x27;, &#x27;sigmoid&#x27;]},\n",
       "             scoring=&#x27;accuracy&#x27;, verbose=3)</pre></div></div></div><div class=\"sk-parallel\"><div class=\"sk-parallel-item\"><div class=\"sk-item\"><div class=\"sk-label-container\"><div class=\"sk-label sk-toggleable\"><input class=\"sk-toggleable__control sk-hidden--visually\" id=\"sk-estimator-id-12\" type=\"checkbox\" ><label for=\"sk-estimator-id-12\" class=\"sk-toggleable__label sk-toggleable__label-arrow\">estimator: SVC</label><div class=\"sk-toggleable__content\"><pre>SVC()</pre></div></div></div><div class=\"sk-serial\"><div class=\"sk-item\"><div class=\"sk-estimator sk-toggleable\"><input class=\"sk-toggleable__control sk-hidden--visually\" id=\"sk-estimator-id-13\" type=\"checkbox\" ><label for=\"sk-estimator-id-13\" class=\"sk-toggleable__label sk-toggleable__label-arrow\">SVC</label><div class=\"sk-toggleable__content\"><pre>SVC()</pre></div></div></div></div></div></div></div></div></div></div>"
      ],
      "text/plain": [
       "GridSearchCV(cv=5, estimator=SVC(),\n",
       "             param_grid={'C': [1.0, 0.001, 0.01], 'gamma': ['scale', 'auto'],\n",
       "                         'kernel': ['linear', 'poly', 'rbf', 'sigmoid']},\n",
       "             scoring='accuracy', verbose=3)"
      ]
     },
     "execution_count": 31,
     "metadata": {},
     "output_type": "execute_result"
    }
   ],
   "source": [
    "svmclf = GridSearchCV(svcclassifier,param_grid=parameter_svm,cv=5,scoring='accuracy',verbose=3)\n",
    "svmclf.fit(X_train_scaled,y_train)"
   ]
  },
  {
   "cell_type": "code",
   "execution_count": 32,
   "id": "eaf7bcba-e583-4792-bf2b-371409d23439",
   "metadata": {},
   "outputs": [
    {
     "name": "stdout",
     "output_type": "stream",
     "text": [
      "Fitting 5 folds for each of 24 candidates, totalling 120 fits\n",
      "[CV 1/5] END alpha=1.0, binarize=0.0, force_alpha=True;, score=0.806 total time=   0.0s\n",
      "[CV 2/5] END alpha=1.0, binarize=0.0, force_alpha=True;, score=0.670 total time=   0.0s\n",
      "[CV 3/5] END alpha=1.0, binarize=0.0, force_alpha=True;, score=0.777 total time=   0.0s\n",
      "[CV 4/5] END alpha=1.0, binarize=0.0, force_alpha=True;, score=0.718 total time=   0.0s\n",
      "[CV 5/5] END alpha=1.0, binarize=0.0, force_alpha=True;, score=0.696 total time=   0.0s\n",
      "[CV 1/5] END alpha=1.0, binarize=0.0, force_alpha=False;, score=0.806 total time=   0.0s\n",
      "[CV 2/5] END alpha=1.0, binarize=0.0, force_alpha=False;, score=0.670 total time=   0.0s\n",
      "[CV 3/5] END alpha=1.0, binarize=0.0, force_alpha=False;, score=0.777 total time=   0.0s\n",
      "[CV 4/5] END alpha=1.0, binarize=0.0, force_alpha=False;, score=0.718 total time=   0.0s\n",
      "[CV 5/5] END alpha=1.0, binarize=0.0, force_alpha=False;, score=0.696 total time=   0.0s\n",
      "[CV 1/5] END alpha=1.0, binarize=0.001, force_alpha=True;, score=0.806 total time=   0.0s\n",
      "[CV 2/5] END alpha=1.0, binarize=0.001, force_alpha=True;, score=0.670 total time=   0.0s\n",
      "[CV 3/5] END alpha=1.0, binarize=0.001, force_alpha=True;, score=0.777 total time=   0.0s\n",
      "[CV 4/5] END alpha=1.0, binarize=0.001, force_alpha=True;, score=0.718 total time=   0.0s\n",
      "[CV 5/5] END alpha=1.0, binarize=0.001, force_alpha=True;, score=0.696 total time=   0.0s\n",
      "[CV 1/5] END alpha=1.0, binarize=0.001, force_alpha=False;, score=0.806 total time=   0.0s\n",
      "[CV 2/5] END alpha=1.0, binarize=0.001, force_alpha=False;, score=0.670 total time=   0.0s\n",
      "[CV 3/5] END alpha=1.0, binarize=0.001, force_alpha=False;, score=0.777 total time=   0.0s\n",
      "[CV 4/5] END alpha=1.0, binarize=0.001, force_alpha=False;, score=0.718 total time=   0.0s\n",
      "[CV 5/5] END alpha=1.0, binarize=0.001, force_alpha=False;, score=0.696 total time=   0.0s\n",
      "[CV 1/5] END alpha=1.0, binarize=None, force_alpha=True;, score=0.650 total time=   0.0s\n",
      "[CV 2/5] END alpha=1.0, binarize=None, force_alpha=True;, score=0.650 total time=   0.0s\n",
      "[CV 3/5] END alpha=1.0, binarize=None, force_alpha=True;, score=0.641 total time=   0.0s\n",
      "[CV 4/5] END alpha=1.0, binarize=None, force_alpha=True;, score=0.641 total time=   0.0s\n",
      "[CV 5/5] END alpha=1.0, binarize=None, force_alpha=True;, score=0.647 total time=   0.0s\n",
      "[CV 1/5] END alpha=1.0, binarize=None, force_alpha=False;, score=0.650 total time=   0.0s\n",
      "[CV 2/5] END alpha=1.0, binarize=None, force_alpha=False;, score=0.650 total time=   0.0s\n",
      "[CV 3/5] END alpha=1.0, binarize=None, force_alpha=False;, score=0.641 total time=   0.0s\n",
      "[CV 4/5] END alpha=1.0, binarize=None, force_alpha=False;, score=0.641 total time=   0.0s\n",
      "[CV 5/5] END alpha=1.0, binarize=None, force_alpha=False;, score=0.647 total time=   0.0s\n",
      "[CV 1/5] END alpha=0.1, binarize=0.0, force_alpha=True;, score=0.806 total time=   0.0s\n",
      "[CV 2/5] END alpha=0.1, binarize=0.0, force_alpha=True;, score=0.670 total time=   0.0s\n",
      "[CV 3/5] END alpha=0.1, binarize=0.0, force_alpha=True;, score=0.777 total time=   0.0s\n",
      "[CV 4/5] END alpha=0.1, binarize=0.0, force_alpha=True;, score=0.718 total time=   0.0s\n",
      "[CV 5/5] END alpha=0.1, binarize=0.0, force_alpha=True;, score=0.696 total time=   0.0s\n",
      "[CV 1/5] END alpha=0.1, binarize=0.0, force_alpha=False;, score=0.806 total time=   0.0s\n",
      "[CV 2/5] END alpha=0.1, binarize=0.0, force_alpha=False;, score=0.670 total time=   0.0s\n",
      "[CV 3/5] END alpha=0.1, binarize=0.0, force_alpha=False;, score=0.777 total time=   0.0s\n",
      "[CV 4/5] END alpha=0.1, binarize=0.0, force_alpha=False;, score=0.718 total time=   0.0s\n",
      "[CV 5/5] END alpha=0.1, binarize=0.0, force_alpha=False;, score=0.696 total time=   0.0s\n",
      "[CV 1/5] END alpha=0.1, binarize=0.001, force_alpha=True;, score=0.806 total time=   0.0s\n",
      "[CV 2/5] END alpha=0.1, binarize=0.001, force_alpha=True;, score=0.670 total time=   0.0s\n",
      "[CV 3/5] END alpha=0.1, binarize=0.001, force_alpha=True;, score=0.777 total time=   0.0s\n",
      "[CV 4/5] END alpha=0.1, binarize=0.001, force_alpha=True;, score=0.718 total time=   0.0s\n",
      "[CV 5/5] END alpha=0.1, binarize=0.001, force_alpha=True;, score=0.696 total time=   0.0s\n",
      "[CV 1/5] END alpha=0.1, binarize=0.001, force_alpha=False;, score=0.806 total time=   0.0s\n",
      "[CV 2/5] END alpha=0.1, binarize=0.001, force_alpha=False;, score=0.670 total time=   0.0s\n",
      "[CV 3/5] END alpha=0.1, binarize=0.001, force_alpha=False;, score=0.777 total time=   0.0s\n",
      "[CV 4/5] END alpha=0.1, binarize=0.001, force_alpha=False;, score=0.718 total time=   0.0s\n",
      "[CV 5/5] END alpha=0.1, binarize=0.001, force_alpha=False;, score=0.696 total time=   0.0s\n",
      "[CV 1/5] END alpha=0.1, binarize=None, force_alpha=True;, score=0.650 total time=   0.0s\n",
      "[CV 2/5] END alpha=0.1, binarize=None, force_alpha=True;, score=0.650 total time=   0.0s\n",
      "[CV 3/5] END alpha=0.1, binarize=None, force_alpha=True;, score=0.641 total time=   0.0s\n",
      "[CV 4/5] END alpha=0.1, binarize=None, force_alpha=True;, score=0.641 total time=   0.0s\n",
      "[CV 5/5] END alpha=0.1, binarize=None, force_alpha=True;, score=0.647 total time=   0.0s\n",
      "[CV 1/5] END alpha=0.1, binarize=None, force_alpha=False;, score=0.650 total time=   0.0s\n",
      "[CV 2/5] END alpha=0.1, binarize=None, force_alpha=False;, score=0.650 total time=   0.0s\n",
      "[CV 3/5] END alpha=0.1, binarize=None, force_alpha=False;, score=0.641 total time=   0.0s\n",
      "[CV 4/5] END alpha=0.1, binarize=None, force_alpha=False;, score=0.641 total time=   0.0s\n",
      "[CV 5/5] END alpha=0.1, binarize=None, force_alpha=False;, score=0.647 total time=   0.0s\n",
      "[CV 1/5] END alpha=0.01, binarize=0.0, force_alpha=True;, score=0.806 total time=   0.0s\n",
      "[CV 2/5] END alpha=0.01, binarize=0.0, force_alpha=True;, score=0.670 total time=   0.0s\n",
      "[CV 3/5] END alpha=0.01, binarize=0.0, force_alpha=True;, score=0.777 total time=   0.0s\n",
      "[CV 4/5] END alpha=0.01, binarize=0.0, force_alpha=True;, score=0.718 total time=   0.0s\n",
      "[CV 5/5] END alpha=0.01, binarize=0.0, force_alpha=True;, score=0.696 total time=   0.0s\n",
      "[CV 1/5] END alpha=0.01, binarize=0.0, force_alpha=False;, score=0.806 total time=   0.0s\n",
      "[CV 2/5] END alpha=0.01, binarize=0.0, force_alpha=False;, score=0.670 total time=   0.0s\n",
      "[CV 3/5] END alpha=0.01, binarize=0.0, force_alpha=False;, score=0.777 total time=   0.0s\n",
      "[CV 4/5] END alpha=0.01, binarize=0.0, force_alpha=False;, score=0.718 total time=   0.0s\n",
      "[CV 5/5] END alpha=0.01, binarize=0.0, force_alpha=False;, score=0.696 total time=   0.0s\n",
      "[CV 1/5] END alpha=0.01, binarize=0.001, force_alpha=True;, score=0.806 total time=   0.0s\n",
      "[CV 2/5] END alpha=0.01, binarize=0.001, force_alpha=True;, score=0.670 total time=   0.0s\n",
      "[CV 3/5] END alpha=0.01, binarize=0.001, force_alpha=True;, score=0.777 total time=   0.0s\n",
      "[CV 4/5] END alpha=0.01, binarize=0.001, force_alpha=True;, score=0.718 total time=   0.0s\n",
      "[CV 5/5] END alpha=0.01, binarize=0.001, force_alpha=True;, score=0.696 total time=   0.0s\n",
      "[CV 1/5] END alpha=0.01, binarize=0.001, force_alpha=False;, score=0.806 total time=   0.0s\n",
      "[CV 2/5] END alpha=0.01, binarize=0.001, force_alpha=False;, score=0.670 total time=   0.0s\n",
      "[CV 3/5] END alpha=0.01, binarize=0.001, force_alpha=False;, score=0.777 total time=   0.0s\n",
      "[CV 4/5] END alpha=0.01, binarize=0.001, force_alpha=False;, score=0.718 total time=   0.0s\n",
      "[CV 5/5] END alpha=0.01, binarize=0.001, force_alpha=False;, score=0.696 total time=   0.0s\n",
      "[CV 1/5] END alpha=0.01, binarize=None, force_alpha=True;, score=0.650 total time=   0.0s\n",
      "[CV 2/5] END alpha=0.01, binarize=None, force_alpha=True;, score=0.650 total time=   0.0s\n",
      "[CV 3/5] END alpha=0.01, binarize=None, force_alpha=True;, score=0.641 total time=   0.0s\n",
      "[CV 4/5] END alpha=0.01, binarize=None, force_alpha=True;, score=0.641 total time=   0.0s\n",
      "[CV 5/5] END alpha=0.01, binarize=None, force_alpha=True;, score=0.647 total time=   0.0s\n",
      "[CV 1/5] END alpha=0.01, binarize=None, force_alpha=False;, score=0.650 total time=   0.0s\n",
      "[CV 2/5] END alpha=0.01, binarize=None, force_alpha=False;, score=0.650 total time=   0.0s\n",
      "[CV 3/5] END alpha=0.01, binarize=None, force_alpha=False;, score=0.641 total time=   0.0s\n",
      "[CV 4/5] END alpha=0.01, binarize=None, force_alpha=False;, score=0.641 total time=   0.0s\n",
      "[CV 5/5] END alpha=0.01, binarize=None, force_alpha=False;, score=0.647 total time=   0.0s\n",
      "[CV 1/5] END alpha=0.001, binarize=0.0, force_alpha=True;, score=0.806 total time=   0.0s\n",
      "[CV 2/5] END alpha=0.001, binarize=0.0, force_alpha=True;, score=0.670 total time=   0.0s\n",
      "[CV 3/5] END alpha=0.001, binarize=0.0, force_alpha=True;, score=0.777 total time=   0.0s\n",
      "[CV 4/5] END alpha=0.001, binarize=0.0, force_alpha=True;, score=0.718 total time=   0.0s\n",
      "[CV 5/5] END alpha=0.001, binarize=0.0, force_alpha=True;, score=0.696 total time=   0.0s\n",
      "[CV 1/5] END alpha=0.001, binarize=0.0, force_alpha=False;, score=0.806 total time=   0.0s\n",
      "[CV 2/5] END alpha=0.001, binarize=0.0, force_alpha=False;, score=0.670 total time=   0.0s\n",
      "[CV 3/5] END alpha=0.001, binarize=0.0, force_alpha=False;, score=0.777 total time=   0.0s\n",
      "[CV 4/5] END alpha=0.001, binarize=0.0, force_alpha=False;, score=0.718 total time=   0.0s\n",
      "[CV 5/5] END alpha=0.001, binarize=0.0, force_alpha=False;, score=0.696 total time=   0.0s\n",
      "[CV 1/5] END alpha=0.001, binarize=0.001, force_alpha=True;, score=0.806 total time=   0.0s\n",
      "[CV 2/5] END alpha=0.001, binarize=0.001, force_alpha=True;, score=0.670 total time=   0.0s\n",
      "[CV 3/5] END alpha=0.001, binarize=0.001, force_alpha=True;, score=0.777 total time=   0.0s\n",
      "[CV 4/5] END alpha=0.001, binarize=0.001, force_alpha=True;, score=0.718 total time=   0.0s\n",
      "[CV 5/5] END alpha=0.001, binarize=0.001, force_alpha=True;, score=0.696 total time=   0.0s\n",
      "[CV 1/5] END alpha=0.001, binarize=0.001, force_alpha=False;, score=0.806 total time=   0.0s\n",
      "[CV 2/5] END alpha=0.001, binarize=0.001, force_alpha=False;, score=0.670 total time=   0.0s\n",
      "[CV 3/5] END alpha=0.001, binarize=0.001, force_alpha=False;, score=0.777 total time=   0.0s\n",
      "[CV 4/5] END alpha=0.001, binarize=0.001, force_alpha=False;, score=0.718 total time=   0.0s\n",
      "[CV 5/5] END alpha=0.001, binarize=0.001, force_alpha=False;, score=0.696 total time=   0.0s\n",
      "[CV 1/5] END alpha=0.001, binarize=None, force_alpha=True;, score=0.650 total time=   0.0s\n",
      "[CV 2/5] END alpha=0.001, binarize=None, force_alpha=True;, score=0.650 total time=   0.0s\n",
      "[CV 3/5] END alpha=0.001, binarize=None, force_alpha=True;, score=0.641 total time=   0.0s\n",
      "[CV 4/5] END alpha=0.001, binarize=None, force_alpha=True;, score=0.641 total time=   0.0s\n",
      "[CV 5/5] END alpha=0.001, binarize=None, force_alpha=True;, score=0.647 total time=   0.0s\n",
      "[CV 1/5] END alpha=0.001, binarize=None, force_alpha=False;, score=0.650 total time=   0.0s\n",
      "[CV 2/5] END alpha=0.001, binarize=None, force_alpha=False;, score=0.650 total time=   0.0s\n",
      "[CV 3/5] END alpha=0.001, binarize=None, force_alpha=False;, score=0.641 total time=   0.0s\n",
      "[CV 4/5] END alpha=0.001, binarize=None, force_alpha=False;, score=0.641 total time=   0.0s\n",
      "[CV 5/5] END alpha=0.001, binarize=None, force_alpha=False;, score=0.647 total time=   0.0s\n"
     ]
    },
    {
     "data": {
      "text/html": [
       "<style>#sk-container-id-8 {color: black;background-color: white;}#sk-container-id-8 pre{padding: 0;}#sk-container-id-8 div.sk-toggleable {background-color: white;}#sk-container-id-8 label.sk-toggleable__label {cursor: pointer;display: block;width: 100%;margin-bottom: 0;padding: 0.3em;box-sizing: border-box;text-align: center;}#sk-container-id-8 label.sk-toggleable__label-arrow:before {content: \"▸\";float: left;margin-right: 0.25em;color: #696969;}#sk-container-id-8 label.sk-toggleable__label-arrow:hover:before {color: black;}#sk-container-id-8 div.sk-estimator:hover label.sk-toggleable__label-arrow:before {color: black;}#sk-container-id-8 div.sk-toggleable__content {max-height: 0;max-width: 0;overflow: hidden;text-align: left;background-color: #f0f8ff;}#sk-container-id-8 div.sk-toggleable__content pre {margin: 0.2em;color: black;border-radius: 0.25em;background-color: #f0f8ff;}#sk-container-id-8 input.sk-toggleable__control:checked~div.sk-toggleable__content {max-height: 200px;max-width: 100%;overflow: auto;}#sk-container-id-8 input.sk-toggleable__control:checked~label.sk-toggleable__label-arrow:before {content: \"▾\";}#sk-container-id-8 div.sk-estimator input.sk-toggleable__control:checked~label.sk-toggleable__label {background-color: #d4ebff;}#sk-container-id-8 div.sk-label input.sk-toggleable__control:checked~label.sk-toggleable__label {background-color: #d4ebff;}#sk-container-id-8 input.sk-hidden--visually {border: 0;clip: rect(1px 1px 1px 1px);clip: rect(1px, 1px, 1px, 1px);height: 1px;margin: -1px;overflow: hidden;padding: 0;position: absolute;width: 1px;}#sk-container-id-8 div.sk-estimator {font-family: monospace;background-color: #f0f8ff;border: 1px dotted black;border-radius: 0.25em;box-sizing: border-box;margin-bottom: 0.5em;}#sk-container-id-8 div.sk-estimator:hover {background-color: #d4ebff;}#sk-container-id-8 div.sk-parallel-item::after {content: \"\";width: 100%;border-bottom: 1px solid gray;flex-grow: 1;}#sk-container-id-8 div.sk-label:hover label.sk-toggleable__label {background-color: #d4ebff;}#sk-container-id-8 div.sk-serial::before {content: \"\";position: absolute;border-left: 1px solid gray;box-sizing: border-box;top: 0;bottom: 0;left: 50%;z-index: 0;}#sk-container-id-8 div.sk-serial {display: flex;flex-direction: column;align-items: center;background-color: white;padding-right: 0.2em;padding-left: 0.2em;position: relative;}#sk-container-id-8 div.sk-item {position: relative;z-index: 1;}#sk-container-id-8 div.sk-parallel {display: flex;align-items: stretch;justify-content: center;background-color: white;position: relative;}#sk-container-id-8 div.sk-item::before, #sk-container-id-8 div.sk-parallel-item::before {content: \"\";position: absolute;border-left: 1px solid gray;box-sizing: border-box;top: 0;bottom: 0;left: 50%;z-index: -1;}#sk-container-id-8 div.sk-parallel-item {display: flex;flex-direction: column;z-index: 1;position: relative;background-color: white;}#sk-container-id-8 div.sk-parallel-item:first-child::after {align-self: flex-end;width: 50%;}#sk-container-id-8 div.sk-parallel-item:last-child::after {align-self: flex-start;width: 50%;}#sk-container-id-8 div.sk-parallel-item:only-child::after {width: 0;}#sk-container-id-8 div.sk-dashed-wrapped {border: 1px dashed gray;margin: 0 0.4em 0.5em 0.4em;box-sizing: border-box;padding-bottom: 0.4em;background-color: white;}#sk-container-id-8 div.sk-label label {font-family: monospace;font-weight: bold;display: inline-block;line-height: 1.2em;}#sk-container-id-8 div.sk-label-container {text-align: center;}#sk-container-id-8 div.sk-container {/* jupyter's `normalize.less` sets `[hidden] { display: none; }` but bootstrap.min.css set `[hidden] { display: none !important; }` so we also need the `!important` here to be able to override the default hidden behavior on the sphinx rendered scikit-learn.org. See: https://github.com/scikit-learn/scikit-learn/issues/21755 */display: inline-block !important;position: relative;}#sk-container-id-8 div.sk-text-repr-fallback {display: none;}</style><div id=\"sk-container-id-8\" class=\"sk-top-container\"><div class=\"sk-text-repr-fallback\"><pre>GridSearchCV(cv=5, estimator=BernoulliNB(),\n",
       "             param_grid={&#x27;alpha&#x27;: [1.0, 0.1, 0.01, 0.001],\n",
       "                         &#x27;binarize&#x27;: [0.0, 0.001, None],\n",
       "                         &#x27;force_alpha&#x27;: [True, False]},\n",
       "             scoring=&#x27;accuracy&#x27;, verbose=3)</pre><b>In a Jupyter environment, please rerun this cell to show the HTML representation or trust the notebook. <br />On GitHub, the HTML representation is unable to render, please try loading this page with nbviewer.org.</b></div><div class=\"sk-container\" hidden><div class=\"sk-item sk-dashed-wrapped\"><div class=\"sk-label-container\"><div class=\"sk-label sk-toggleable\"><input class=\"sk-toggleable__control sk-hidden--visually\" id=\"sk-estimator-id-14\" type=\"checkbox\" ><label for=\"sk-estimator-id-14\" class=\"sk-toggleable__label sk-toggleable__label-arrow\">GridSearchCV</label><div class=\"sk-toggleable__content\"><pre>GridSearchCV(cv=5, estimator=BernoulliNB(),\n",
       "             param_grid={&#x27;alpha&#x27;: [1.0, 0.1, 0.01, 0.001],\n",
       "                         &#x27;binarize&#x27;: [0.0, 0.001, None],\n",
       "                         &#x27;force_alpha&#x27;: [True, False]},\n",
       "             scoring=&#x27;accuracy&#x27;, verbose=3)</pre></div></div></div><div class=\"sk-parallel\"><div class=\"sk-parallel-item\"><div class=\"sk-item\"><div class=\"sk-label-container\"><div class=\"sk-label sk-toggleable\"><input class=\"sk-toggleable__control sk-hidden--visually\" id=\"sk-estimator-id-15\" type=\"checkbox\" ><label for=\"sk-estimator-id-15\" class=\"sk-toggleable__label sk-toggleable__label-arrow\">estimator: BernoulliNB</label><div class=\"sk-toggleable__content\"><pre>BernoulliNB()</pre></div></div></div><div class=\"sk-serial\"><div class=\"sk-item\"><div class=\"sk-estimator sk-toggleable\"><input class=\"sk-toggleable__control sk-hidden--visually\" id=\"sk-estimator-id-16\" type=\"checkbox\" ><label for=\"sk-estimator-id-16\" class=\"sk-toggleable__label sk-toggleable__label-arrow\">BernoulliNB</label><div class=\"sk-toggleable__content\"><pre>BernoulliNB()</pre></div></div></div></div></div></div></div></div></div></div>"
      ],
      "text/plain": [
       "GridSearchCV(cv=5, estimator=BernoulliNB(),\n",
       "             param_grid={'alpha': [1.0, 0.1, 0.01, 0.001],\n",
       "                         'binarize': [0.0, 0.001, None],\n",
       "                         'force_alpha': [True, False]},\n",
       "             scoring='accuracy', verbose=3)"
      ]
     },
     "execution_count": 32,
     "metadata": {},
     "output_type": "execute_result"
    }
   ],
   "source": [
    "bnbclf = GridSearchCV(bnb,param_grid=parameter_bnb,cv=5,scoring='accuracy',verbose=3)\n",
    "bnbclf.fit(X_train_scaled,y_train)"
   ]
  },
  {
   "cell_type": "code",
   "execution_count": 33,
   "id": "241be6cb-1454-4214-9069-a7a213608007",
   "metadata": {},
   "outputs": [
    {
     "data": {
      "text/plain": [
       "{'C': 0.1, 'penalty': 'l2', 'solver': 'lbfgs'}"
      ]
     },
     "execution_count": 33,
     "metadata": {},
     "output_type": "execute_result"
    }
   ],
   "source": [
    "logclf.best_params_"
   ]
  },
  {
   "cell_type": "code",
   "execution_count": 34,
   "id": "8a4be910-9496-4814-9b73-d232f92480c3",
   "metadata": {},
   "outputs": [
    {
     "data": {
      "text/plain": [
       "{'criterion': 'log_loss', 'max_depth': 50, 'min_samples_split': 4}"
      ]
     },
     "execution_count": 34,
     "metadata": {},
     "output_type": "execute_result"
    }
   ],
   "source": [
    "dtclf.best_params_"
   ]
  },
  {
   "cell_type": "code",
   "execution_count": 35,
   "id": "0f2f6c89-6225-45b2-9e00-a5f878d686b4",
   "metadata": {},
   "outputs": [
    {
     "data": {
      "text/plain": [
       "{'C': 0.01, 'gamma': 'scale', 'kernel': 'linear'}"
      ]
     },
     "execution_count": 35,
     "metadata": {},
     "output_type": "execute_result"
    }
   ],
   "source": [
    "svmclf.best_params_"
   ]
  },
  {
   "cell_type": "code",
   "execution_count": 36,
   "id": "70f527e4-e165-40f1-8340-70ffb1dbfb84",
   "metadata": {},
   "outputs": [
    {
     "data": {
      "text/plain": [
       "{'alpha': 1.0, 'binarize': 0.0, 'force_alpha': True}"
      ]
     },
     "execution_count": 36,
     "metadata": {},
     "output_type": "execute_result"
    }
   ],
   "source": [
    "bnbclf.best_params_"
   ]
  },
  {
   "cell_type": "code",
   "execution_count": 37,
   "id": "bdd298b6-0eb6-414d-b709-d78025bc1393",
   "metadata": {},
   "outputs": [],
   "source": [
    "lgclassifier = LogisticRegression(C=0.1, penalty='l2', solver='lbfgs')"
   ]
  },
  {
   "cell_type": "code",
   "execution_count": 38,
   "id": "ef7bf1f9-548a-4194-8478-96e38ef7c23a",
   "metadata": {},
   "outputs": [
    {
     "data": {
      "text/html": [
       "<style>#sk-container-id-9 {color: black;background-color: white;}#sk-container-id-9 pre{padding: 0;}#sk-container-id-9 div.sk-toggleable {background-color: white;}#sk-container-id-9 label.sk-toggleable__label {cursor: pointer;display: block;width: 100%;margin-bottom: 0;padding: 0.3em;box-sizing: border-box;text-align: center;}#sk-container-id-9 label.sk-toggleable__label-arrow:before {content: \"▸\";float: left;margin-right: 0.25em;color: #696969;}#sk-container-id-9 label.sk-toggleable__label-arrow:hover:before {color: black;}#sk-container-id-9 div.sk-estimator:hover label.sk-toggleable__label-arrow:before {color: black;}#sk-container-id-9 div.sk-toggleable__content {max-height: 0;max-width: 0;overflow: hidden;text-align: left;background-color: #f0f8ff;}#sk-container-id-9 div.sk-toggleable__content pre {margin: 0.2em;color: black;border-radius: 0.25em;background-color: #f0f8ff;}#sk-container-id-9 input.sk-toggleable__control:checked~div.sk-toggleable__content {max-height: 200px;max-width: 100%;overflow: auto;}#sk-container-id-9 input.sk-toggleable__control:checked~label.sk-toggleable__label-arrow:before {content: \"▾\";}#sk-container-id-9 div.sk-estimator input.sk-toggleable__control:checked~label.sk-toggleable__label {background-color: #d4ebff;}#sk-container-id-9 div.sk-label input.sk-toggleable__control:checked~label.sk-toggleable__label {background-color: #d4ebff;}#sk-container-id-9 input.sk-hidden--visually {border: 0;clip: rect(1px 1px 1px 1px);clip: rect(1px, 1px, 1px, 1px);height: 1px;margin: -1px;overflow: hidden;padding: 0;position: absolute;width: 1px;}#sk-container-id-9 div.sk-estimator {font-family: monospace;background-color: #f0f8ff;border: 1px dotted black;border-radius: 0.25em;box-sizing: border-box;margin-bottom: 0.5em;}#sk-container-id-9 div.sk-estimator:hover {background-color: #d4ebff;}#sk-container-id-9 div.sk-parallel-item::after {content: \"\";width: 100%;border-bottom: 1px solid gray;flex-grow: 1;}#sk-container-id-9 div.sk-label:hover label.sk-toggleable__label {background-color: #d4ebff;}#sk-container-id-9 div.sk-serial::before {content: \"\";position: absolute;border-left: 1px solid gray;box-sizing: border-box;top: 0;bottom: 0;left: 50%;z-index: 0;}#sk-container-id-9 div.sk-serial {display: flex;flex-direction: column;align-items: center;background-color: white;padding-right: 0.2em;padding-left: 0.2em;position: relative;}#sk-container-id-9 div.sk-item {position: relative;z-index: 1;}#sk-container-id-9 div.sk-parallel {display: flex;align-items: stretch;justify-content: center;background-color: white;position: relative;}#sk-container-id-9 div.sk-item::before, #sk-container-id-9 div.sk-parallel-item::before {content: \"\";position: absolute;border-left: 1px solid gray;box-sizing: border-box;top: 0;bottom: 0;left: 50%;z-index: -1;}#sk-container-id-9 div.sk-parallel-item {display: flex;flex-direction: column;z-index: 1;position: relative;background-color: white;}#sk-container-id-9 div.sk-parallel-item:first-child::after {align-self: flex-end;width: 50%;}#sk-container-id-9 div.sk-parallel-item:last-child::after {align-self: flex-start;width: 50%;}#sk-container-id-9 div.sk-parallel-item:only-child::after {width: 0;}#sk-container-id-9 div.sk-dashed-wrapped {border: 1px dashed gray;margin: 0 0.4em 0.5em 0.4em;box-sizing: border-box;padding-bottom: 0.4em;background-color: white;}#sk-container-id-9 div.sk-label label {font-family: monospace;font-weight: bold;display: inline-block;line-height: 1.2em;}#sk-container-id-9 div.sk-label-container {text-align: center;}#sk-container-id-9 div.sk-container {/* jupyter's `normalize.less` sets `[hidden] { display: none; }` but bootstrap.min.css set `[hidden] { display: none !important; }` so we also need the `!important` here to be able to override the default hidden behavior on the sphinx rendered scikit-learn.org. See: https://github.com/scikit-learn/scikit-learn/issues/21755 */display: inline-block !important;position: relative;}#sk-container-id-9 div.sk-text-repr-fallback {display: none;}</style><div id=\"sk-container-id-9\" class=\"sk-top-container\"><div class=\"sk-text-repr-fallback\"><pre>LogisticRegression(C=0.1)</pre><b>In a Jupyter environment, please rerun this cell to show the HTML representation or trust the notebook. <br />On GitHub, the HTML representation is unable to render, please try loading this page with nbviewer.org.</b></div><div class=\"sk-container\" hidden><div class=\"sk-item\"><div class=\"sk-estimator sk-toggleable\"><input class=\"sk-toggleable__control sk-hidden--visually\" id=\"sk-estimator-id-17\" type=\"checkbox\" checked><label for=\"sk-estimator-id-17\" class=\"sk-toggleable__label sk-toggleable__label-arrow\">LogisticRegression</label><div class=\"sk-toggleable__content\"><pre>LogisticRegression(C=0.1)</pre></div></div></div></div></div>"
      ],
      "text/plain": [
       "LogisticRegression(C=0.1)"
      ]
     },
     "execution_count": 38,
     "metadata": {},
     "output_type": "execute_result"
    }
   ],
   "source": [
    "lgclassifier.fit(X_train_scaled,y_train)"
   ]
  },
  {
   "cell_type": "code",
   "execution_count": 39,
   "id": "d61d094c-4ce3-4435-8960-3893f2e49fe9",
   "metadata": {},
   "outputs": [
    {
     "data": {
      "text/html": [
       "<style>#sk-container-id-10 {color: black;background-color: white;}#sk-container-id-10 pre{padding: 0;}#sk-container-id-10 div.sk-toggleable {background-color: white;}#sk-container-id-10 label.sk-toggleable__label {cursor: pointer;display: block;width: 100%;margin-bottom: 0;padding: 0.3em;box-sizing: border-box;text-align: center;}#sk-container-id-10 label.sk-toggleable__label-arrow:before {content: \"▸\";float: left;margin-right: 0.25em;color: #696969;}#sk-container-id-10 label.sk-toggleable__label-arrow:hover:before {color: black;}#sk-container-id-10 div.sk-estimator:hover label.sk-toggleable__label-arrow:before {color: black;}#sk-container-id-10 div.sk-toggleable__content {max-height: 0;max-width: 0;overflow: hidden;text-align: left;background-color: #f0f8ff;}#sk-container-id-10 div.sk-toggleable__content pre {margin: 0.2em;color: black;border-radius: 0.25em;background-color: #f0f8ff;}#sk-container-id-10 input.sk-toggleable__control:checked~div.sk-toggleable__content {max-height: 200px;max-width: 100%;overflow: auto;}#sk-container-id-10 input.sk-toggleable__control:checked~label.sk-toggleable__label-arrow:before {content: \"▾\";}#sk-container-id-10 div.sk-estimator input.sk-toggleable__control:checked~label.sk-toggleable__label {background-color: #d4ebff;}#sk-container-id-10 div.sk-label input.sk-toggleable__control:checked~label.sk-toggleable__label {background-color: #d4ebff;}#sk-container-id-10 input.sk-hidden--visually {border: 0;clip: rect(1px 1px 1px 1px);clip: rect(1px, 1px, 1px, 1px);height: 1px;margin: -1px;overflow: hidden;padding: 0;position: absolute;width: 1px;}#sk-container-id-10 div.sk-estimator {font-family: monospace;background-color: #f0f8ff;border: 1px dotted black;border-radius: 0.25em;box-sizing: border-box;margin-bottom: 0.5em;}#sk-container-id-10 div.sk-estimator:hover {background-color: #d4ebff;}#sk-container-id-10 div.sk-parallel-item::after {content: \"\";width: 100%;border-bottom: 1px solid gray;flex-grow: 1;}#sk-container-id-10 div.sk-label:hover label.sk-toggleable__label {background-color: #d4ebff;}#sk-container-id-10 div.sk-serial::before {content: \"\";position: absolute;border-left: 1px solid gray;box-sizing: border-box;top: 0;bottom: 0;left: 50%;z-index: 0;}#sk-container-id-10 div.sk-serial {display: flex;flex-direction: column;align-items: center;background-color: white;padding-right: 0.2em;padding-left: 0.2em;position: relative;}#sk-container-id-10 div.sk-item {position: relative;z-index: 1;}#sk-container-id-10 div.sk-parallel {display: flex;align-items: stretch;justify-content: center;background-color: white;position: relative;}#sk-container-id-10 div.sk-item::before, #sk-container-id-10 div.sk-parallel-item::before {content: \"\";position: absolute;border-left: 1px solid gray;box-sizing: border-box;top: 0;bottom: 0;left: 50%;z-index: -1;}#sk-container-id-10 div.sk-parallel-item {display: flex;flex-direction: column;z-index: 1;position: relative;background-color: white;}#sk-container-id-10 div.sk-parallel-item:first-child::after {align-self: flex-end;width: 50%;}#sk-container-id-10 div.sk-parallel-item:last-child::after {align-self: flex-start;width: 50%;}#sk-container-id-10 div.sk-parallel-item:only-child::after {width: 0;}#sk-container-id-10 div.sk-dashed-wrapped {border: 1px dashed gray;margin: 0 0.4em 0.5em 0.4em;box-sizing: border-box;padding-bottom: 0.4em;background-color: white;}#sk-container-id-10 div.sk-label label {font-family: monospace;font-weight: bold;display: inline-block;line-height: 1.2em;}#sk-container-id-10 div.sk-label-container {text-align: center;}#sk-container-id-10 div.sk-container {/* jupyter's `normalize.less` sets `[hidden] { display: none; }` but bootstrap.min.css set `[hidden] { display: none !important; }` so we also need the `!important` here to be able to override the default hidden behavior on the sphinx rendered scikit-learn.org. See: https://github.com/scikit-learn/scikit-learn/issues/21755 */display: inline-block !important;position: relative;}#sk-container-id-10 div.sk-text-repr-fallback {display: none;}</style><div id=\"sk-container-id-10\" class=\"sk-top-container\"><div class=\"sk-text-repr-fallback\"><pre>DecisionTreeClassifier(criterion=&#x27;entropy&#x27;, max_depth=10, min_samples_split=3)</pre><b>In a Jupyter environment, please rerun this cell to show the HTML representation or trust the notebook. <br />On GitHub, the HTML representation is unable to render, please try loading this page with nbviewer.org.</b></div><div class=\"sk-container\" hidden><div class=\"sk-item\"><div class=\"sk-estimator sk-toggleable\"><input class=\"sk-toggleable__control sk-hidden--visually\" id=\"sk-estimator-id-18\" type=\"checkbox\" checked><label for=\"sk-estimator-id-18\" class=\"sk-toggleable__label sk-toggleable__label-arrow\">DecisionTreeClassifier</label><div class=\"sk-toggleable__content\"><pre>DecisionTreeClassifier(criterion=&#x27;entropy&#x27;, max_depth=10, min_samples_split=3)</pre></div></div></div></div></div>"
      ],
      "text/plain": [
       "DecisionTreeClassifier(criterion='entropy', max_depth=10, min_samples_split=3)"
      ]
     },
     "execution_count": 39,
     "metadata": {},
     "output_type": "execute_result"
    }
   ],
   "source": [
    "dtreeclassifier = DecisionTreeClassifier(criterion='entropy',max_depth=10,min_samples_split=3)\n",
    "dtreeclassifier.fit(X_train_scaled,y_train)"
   ]
  },
  {
   "cell_type": "code",
   "execution_count": 40,
   "id": "4e6c0011-4da5-4ea0-9718-9b88bb0a02d1",
   "metadata": {},
   "outputs": [
    {
     "data": {
      "text/html": [
       "<style>#sk-container-id-11 {color: black;background-color: white;}#sk-container-id-11 pre{padding: 0;}#sk-container-id-11 div.sk-toggleable {background-color: white;}#sk-container-id-11 label.sk-toggleable__label {cursor: pointer;display: block;width: 100%;margin-bottom: 0;padding: 0.3em;box-sizing: border-box;text-align: center;}#sk-container-id-11 label.sk-toggleable__label-arrow:before {content: \"▸\";float: left;margin-right: 0.25em;color: #696969;}#sk-container-id-11 label.sk-toggleable__label-arrow:hover:before {color: black;}#sk-container-id-11 div.sk-estimator:hover label.sk-toggleable__label-arrow:before {color: black;}#sk-container-id-11 div.sk-toggleable__content {max-height: 0;max-width: 0;overflow: hidden;text-align: left;background-color: #f0f8ff;}#sk-container-id-11 div.sk-toggleable__content pre {margin: 0.2em;color: black;border-radius: 0.25em;background-color: #f0f8ff;}#sk-container-id-11 input.sk-toggleable__control:checked~div.sk-toggleable__content {max-height: 200px;max-width: 100%;overflow: auto;}#sk-container-id-11 input.sk-toggleable__control:checked~label.sk-toggleable__label-arrow:before {content: \"▾\";}#sk-container-id-11 div.sk-estimator input.sk-toggleable__control:checked~label.sk-toggleable__label {background-color: #d4ebff;}#sk-container-id-11 div.sk-label input.sk-toggleable__control:checked~label.sk-toggleable__label {background-color: #d4ebff;}#sk-container-id-11 input.sk-hidden--visually {border: 0;clip: rect(1px 1px 1px 1px);clip: rect(1px, 1px, 1px, 1px);height: 1px;margin: -1px;overflow: hidden;padding: 0;position: absolute;width: 1px;}#sk-container-id-11 div.sk-estimator {font-family: monospace;background-color: #f0f8ff;border: 1px dotted black;border-radius: 0.25em;box-sizing: border-box;margin-bottom: 0.5em;}#sk-container-id-11 div.sk-estimator:hover {background-color: #d4ebff;}#sk-container-id-11 div.sk-parallel-item::after {content: \"\";width: 100%;border-bottom: 1px solid gray;flex-grow: 1;}#sk-container-id-11 div.sk-label:hover label.sk-toggleable__label {background-color: #d4ebff;}#sk-container-id-11 div.sk-serial::before {content: \"\";position: absolute;border-left: 1px solid gray;box-sizing: border-box;top: 0;bottom: 0;left: 50%;z-index: 0;}#sk-container-id-11 div.sk-serial {display: flex;flex-direction: column;align-items: center;background-color: white;padding-right: 0.2em;padding-left: 0.2em;position: relative;}#sk-container-id-11 div.sk-item {position: relative;z-index: 1;}#sk-container-id-11 div.sk-parallel {display: flex;align-items: stretch;justify-content: center;background-color: white;position: relative;}#sk-container-id-11 div.sk-item::before, #sk-container-id-11 div.sk-parallel-item::before {content: \"\";position: absolute;border-left: 1px solid gray;box-sizing: border-box;top: 0;bottom: 0;left: 50%;z-index: -1;}#sk-container-id-11 div.sk-parallel-item {display: flex;flex-direction: column;z-index: 1;position: relative;background-color: white;}#sk-container-id-11 div.sk-parallel-item:first-child::after {align-self: flex-end;width: 50%;}#sk-container-id-11 div.sk-parallel-item:last-child::after {align-self: flex-start;width: 50%;}#sk-container-id-11 div.sk-parallel-item:only-child::after {width: 0;}#sk-container-id-11 div.sk-dashed-wrapped {border: 1px dashed gray;margin: 0 0.4em 0.5em 0.4em;box-sizing: border-box;padding-bottom: 0.4em;background-color: white;}#sk-container-id-11 div.sk-label label {font-family: monospace;font-weight: bold;display: inline-block;line-height: 1.2em;}#sk-container-id-11 div.sk-label-container {text-align: center;}#sk-container-id-11 div.sk-container {/* jupyter's `normalize.less` sets `[hidden] { display: none; }` but bootstrap.min.css set `[hidden] { display: none !important; }` so we also need the `!important` here to be able to override the default hidden behavior on the sphinx rendered scikit-learn.org. See: https://github.com/scikit-learn/scikit-learn/issues/21755 */display: inline-block !important;position: relative;}#sk-container-id-11 div.sk-text-repr-fallback {display: none;}</style><div id=\"sk-container-id-11\" class=\"sk-top-container\"><div class=\"sk-text-repr-fallback\"><pre>SVC(C=0.01, kernel=&#x27;linear&#x27;)</pre><b>In a Jupyter environment, please rerun this cell to show the HTML representation or trust the notebook. <br />On GitHub, the HTML representation is unable to render, please try loading this page with nbviewer.org.</b></div><div class=\"sk-container\" hidden><div class=\"sk-item\"><div class=\"sk-estimator sk-toggleable\"><input class=\"sk-toggleable__control sk-hidden--visually\" id=\"sk-estimator-id-19\" type=\"checkbox\" checked><label for=\"sk-estimator-id-19\" class=\"sk-toggleable__label sk-toggleable__label-arrow\">SVC</label><div class=\"sk-toggleable__content\"><pre>SVC(C=0.01, kernel=&#x27;linear&#x27;)</pre></div></div></div></div></div>"
      ],
      "text/plain": [
       "SVC(C=0.01, kernel='linear')"
      ]
     },
     "execution_count": 40,
     "metadata": {},
     "output_type": "execute_result"
    }
   ],
   "source": [
    "svmclassifier = SVC(C=0.01,gamma='scale',kernel='linear')\n",
    "svmclassifier.fit(X_train_scaled,y_train)"
   ]
  },
  {
   "cell_type": "code",
   "execution_count": 41,
   "id": "cf0562d0-d260-4f16-b459-07ef5542b353",
   "metadata": {},
   "outputs": [
    {
     "data": {
      "text/html": [
       "<style>#sk-container-id-12 {color: black;background-color: white;}#sk-container-id-12 pre{padding: 0;}#sk-container-id-12 div.sk-toggleable {background-color: white;}#sk-container-id-12 label.sk-toggleable__label {cursor: pointer;display: block;width: 100%;margin-bottom: 0;padding: 0.3em;box-sizing: border-box;text-align: center;}#sk-container-id-12 label.sk-toggleable__label-arrow:before {content: \"▸\";float: left;margin-right: 0.25em;color: #696969;}#sk-container-id-12 label.sk-toggleable__label-arrow:hover:before {color: black;}#sk-container-id-12 div.sk-estimator:hover label.sk-toggleable__label-arrow:before {color: black;}#sk-container-id-12 div.sk-toggleable__content {max-height: 0;max-width: 0;overflow: hidden;text-align: left;background-color: #f0f8ff;}#sk-container-id-12 div.sk-toggleable__content pre {margin: 0.2em;color: black;border-radius: 0.25em;background-color: #f0f8ff;}#sk-container-id-12 input.sk-toggleable__control:checked~div.sk-toggleable__content {max-height: 200px;max-width: 100%;overflow: auto;}#sk-container-id-12 input.sk-toggleable__control:checked~label.sk-toggleable__label-arrow:before {content: \"▾\";}#sk-container-id-12 div.sk-estimator input.sk-toggleable__control:checked~label.sk-toggleable__label {background-color: #d4ebff;}#sk-container-id-12 div.sk-label input.sk-toggleable__control:checked~label.sk-toggleable__label {background-color: #d4ebff;}#sk-container-id-12 input.sk-hidden--visually {border: 0;clip: rect(1px 1px 1px 1px);clip: rect(1px, 1px, 1px, 1px);height: 1px;margin: -1px;overflow: hidden;padding: 0;position: absolute;width: 1px;}#sk-container-id-12 div.sk-estimator {font-family: monospace;background-color: #f0f8ff;border: 1px dotted black;border-radius: 0.25em;box-sizing: border-box;margin-bottom: 0.5em;}#sk-container-id-12 div.sk-estimator:hover {background-color: #d4ebff;}#sk-container-id-12 div.sk-parallel-item::after {content: \"\";width: 100%;border-bottom: 1px solid gray;flex-grow: 1;}#sk-container-id-12 div.sk-label:hover label.sk-toggleable__label {background-color: #d4ebff;}#sk-container-id-12 div.sk-serial::before {content: \"\";position: absolute;border-left: 1px solid gray;box-sizing: border-box;top: 0;bottom: 0;left: 50%;z-index: 0;}#sk-container-id-12 div.sk-serial {display: flex;flex-direction: column;align-items: center;background-color: white;padding-right: 0.2em;padding-left: 0.2em;position: relative;}#sk-container-id-12 div.sk-item {position: relative;z-index: 1;}#sk-container-id-12 div.sk-parallel {display: flex;align-items: stretch;justify-content: center;background-color: white;position: relative;}#sk-container-id-12 div.sk-item::before, #sk-container-id-12 div.sk-parallel-item::before {content: \"\";position: absolute;border-left: 1px solid gray;box-sizing: border-box;top: 0;bottom: 0;left: 50%;z-index: -1;}#sk-container-id-12 div.sk-parallel-item {display: flex;flex-direction: column;z-index: 1;position: relative;background-color: white;}#sk-container-id-12 div.sk-parallel-item:first-child::after {align-self: flex-end;width: 50%;}#sk-container-id-12 div.sk-parallel-item:last-child::after {align-self: flex-start;width: 50%;}#sk-container-id-12 div.sk-parallel-item:only-child::after {width: 0;}#sk-container-id-12 div.sk-dashed-wrapped {border: 1px dashed gray;margin: 0 0.4em 0.5em 0.4em;box-sizing: border-box;padding-bottom: 0.4em;background-color: white;}#sk-container-id-12 div.sk-label label {font-family: monospace;font-weight: bold;display: inline-block;line-height: 1.2em;}#sk-container-id-12 div.sk-label-container {text-align: center;}#sk-container-id-12 div.sk-container {/* jupyter's `normalize.less` sets `[hidden] { display: none; }` but bootstrap.min.css set `[hidden] { display: none !important; }` so we also need the `!important` here to be able to override the default hidden behavior on the sphinx rendered scikit-learn.org. See: https://github.com/scikit-learn/scikit-learn/issues/21755 */display: inline-block !important;position: relative;}#sk-container-id-12 div.sk-text-repr-fallback {display: none;}</style><div id=\"sk-container-id-12\" class=\"sk-top-container\"><div class=\"sk-text-repr-fallback\"><pre>BernoulliNB(force_alpha=True)</pre><b>In a Jupyter environment, please rerun this cell to show the HTML representation or trust the notebook. <br />On GitHub, the HTML representation is unable to render, please try loading this page with nbviewer.org.</b></div><div class=\"sk-container\" hidden><div class=\"sk-item\"><div class=\"sk-estimator sk-toggleable\"><input class=\"sk-toggleable__control sk-hidden--visually\" id=\"sk-estimator-id-20\" type=\"checkbox\" checked><label for=\"sk-estimator-id-20\" class=\"sk-toggleable__label sk-toggleable__label-arrow\">BernoulliNB</label><div class=\"sk-toggleable__content\"><pre>BernoulliNB(force_alpha=True)</pre></div></div></div></div></div>"
      ],
      "text/plain": [
       "BernoulliNB(force_alpha=True)"
      ]
     },
     "execution_count": 41,
     "metadata": {},
     "output_type": "execute_result"
    }
   ],
   "source": [
    "bnbclassifier = BernoulliNB(alpha=1.0,binarize=0.0,force_alpha=True)\n",
    "bnbclassifier.fit(X_train_scaled,y_train)"
   ]
  },
  {
   "cell_type": "code",
   "execution_count": 42,
   "id": "d76c72a4-40e1-4eb2-a763-7d964d52cfc2",
   "metadata": {},
   "outputs": [],
   "source": [
    "y_pred = lgclassifier.predict(X_test_scaled)"
   ]
  },
  {
   "cell_type": "code",
   "execution_count": 43,
   "id": "68902745-ecb1-4388-b698-7a34787bc7f2",
   "metadata": {},
   "outputs": [
    {
     "data": {
      "text/plain": [
       "array([0, 0, 0, 0, 0, 0, 0, 0, 1, 1, 0, 1, 0, 0, 0, 0, 0, 0, 1, 1, 0, 0,\n",
       "       0, 0, 1, 1, 0, 0, 0, 0, 1, 1, 1, 1, 1, 1, 1, 0, 0, 1, 0, 0, 0, 0,\n",
       "       0, 1, 1, 0, 0, 1, 0, 1, 1, 0, 0, 0, 1, 0, 0, 1, 1, 0, 0, 0, 0, 1,\n",
       "       0, 1, 0, 1, 1, 0, 0, 0, 0, 0, 0, 0, 0, 0, 1, 0, 0, 0, 0, 1, 1, 0,\n",
       "       0, 0, 0, 0, 0, 0, 0, 1, 0, 0, 1, 0, 1, 0, 1, 1, 1, 0, 0, 1, 0, 0,\n",
       "       0, 0, 0, 1, 0, 0, 1, 0, 0, 0, 0, 0, 0, 0, 0, 0, 0, 1, 1, 1, 1, 1,\n",
       "       0, 0, 1, 0, 0, 1, 1, 0, 0, 0, 0, 0, 0, 0, 0, 0, 0, 1, 0, 0, 0, 0,\n",
       "       0, 0, 0, 1, 1, 0, 0, 1, 0, 0, 0, 1, 0, 0, 1, 0, 1, 0, 0, 1, 1, 0,\n",
       "       0, 0, 0, 0, 1, 1, 0, 1, 1, 0, 0, 0, 1, 0, 0, 0, 1, 0, 0, 0, 0, 0,\n",
       "       0, 1, 0, 0, 0, 0, 1, 0, 0, 0, 1, 1, 0, 0, 0, 0, 1, 0, 1, 0, 0, 1,\n",
       "       1, 0, 0, 0, 0, 1, 0, 0, 0, 0, 0, 0, 0, 1, 0, 0, 0, 0, 0, 0, 0, 0,\n",
       "       0, 0, 0, 0, 1, 0, 0, 0, 0, 0, 1, 0])"
      ]
     },
     "execution_count": 43,
     "metadata": {},
     "output_type": "execute_result"
    }
   ],
   "source": [
    "y_pred"
   ]
  },
  {
   "cell_type": "code",
   "execution_count": 44,
   "id": "cb42854b-0c72-4c74-b1bb-ac957afb9c62",
   "metadata": {},
   "outputs": [
    {
     "data": {
      "text/plain": [
       "array([0, 1, 0, 0, 0, 0, 0, 1, 0, 1, 0, 1, 1, 1, 0, 0, 0, 0, 1, 1, 1, 0,\n",
       "       0, 0, 0, 1, 0, 0, 0, 0, 1, 1, 1, 1, 0, 0, 1, 0, 0, 1, 0, 0, 1, 1,\n",
       "       0, 1, 0, 0, 0, 1, 0, 1, 0, 0, 0, 0, 1, 0, 0, 0, 0, 0, 0, 1, 0, 0,\n",
       "       0, 1, 0, 1, 1, 0, 0, 0, 0, 1, 0, 0, 0, 0, 1, 0, 0, 1, 0, 1, 0, 1,\n",
       "       0, 0, 0, 0, 0, 1, 1, 0, 1, 0, 1, 0, 1, 0, 1, 0, 1, 0, 0, 1, 0, 0,\n",
       "       0, 1, 0, 1, 1, 1, 0, 1, 0, 1, 0, 0, 0, 0, 0, 0, 1, 1, 1, 1, 1, 1,\n",
       "       0, 0, 1, 1, 0, 1, 1, 0, 0, 0, 0, 0, 0, 0, 1, 0, 0, 1, 0, 0, 0, 0,\n",
       "       0, 1, 0, 1, 0, 0, 1, 1, 0, 0, 0, 1, 0, 0, 1, 1, 1, 0, 1, 1, 1, 0,\n",
       "       1, 0, 0, 1, 0, 0, 1, 1, 1, 0, 0, 0, 1, 1, 0, 0, 1, 0, 0, 0, 0, 0,\n",
       "       0, 1, 1, 0, 0, 0, 1, 0, 0, 0, 1, 0, 0, 0, 0, 0, 1, 0, 1, 0, 1, 1,\n",
       "       1, 0, 0, 0, 0, 1, 0, 0, 0, 0, 0, 0, 0, 0, 1, 1, 0, 0, 1, 1, 0, 0,\n",
       "       1, 0, 0, 0, 1, 0, 1, 0, 0, 0, 1, 0])"
      ]
     },
     "execution_count": 44,
     "metadata": {},
     "output_type": "execute_result"
    }
   ],
   "source": [
    "y_pred_tree = dtreeclassifier.predict(X_test_scaled)\n",
    "y_pred_tree"
   ]
  },
  {
   "cell_type": "code",
   "execution_count": 45,
   "id": "f1dff54b-5a35-4dec-860e-b31f2f9a2ff5",
   "metadata": {},
   "outputs": [
    {
     "data": {
      "text/plain": [
       "array([0, 0, 0, 0, 0, 0, 0, 0, 1, 1, 0, 1, 0, 0, 0, 0, 0, 0, 1, 0, 0, 0,\n",
       "       0, 0, 1, 1, 0, 0, 0, 0, 1, 1, 1, 1, 1, 1, 1, 0, 0, 0, 0, 0, 0, 0,\n",
       "       0, 1, 0, 0, 0, 1, 0, 1, 1, 0, 0, 0, 1, 0, 0, 1, 1, 0, 0, 0, 0, 1,\n",
       "       0, 1, 0, 1, 1, 0, 0, 0, 0, 0, 0, 0, 0, 0, 1, 0, 0, 0, 0, 1, 1, 0,\n",
       "       0, 0, 0, 0, 0, 0, 0, 1, 0, 0, 1, 0, 1, 0, 1, 1, 1, 0, 0, 1, 0, 0,\n",
       "       0, 0, 0, 1, 0, 0, 1, 0, 0, 0, 0, 0, 0, 0, 0, 0, 0, 1, 1, 1, 1, 1,\n",
       "       0, 0, 1, 0, 0, 1, 1, 0, 0, 0, 0, 0, 0, 0, 0, 0, 0, 1, 0, 0, 0, 0,\n",
       "       0, 0, 0, 0, 1, 0, 0, 1, 0, 0, 0, 1, 0, 0, 1, 0, 1, 0, 0, 1, 1, 0,\n",
       "       0, 0, 0, 0, 1, 1, 0, 1, 1, 0, 0, 0, 1, 0, 0, 0, 1, 0, 0, 0, 0, 0,\n",
       "       0, 1, 0, 0, 0, 0, 1, 0, 0, 0, 1, 1, 0, 0, 0, 0, 1, 0, 1, 0, 0, 1,\n",
       "       1, 0, 0, 0, 0, 0, 0, 0, 0, 0, 0, 0, 0, 0, 0, 0, 0, 0, 0, 0, 0, 0,\n",
       "       0, 0, 0, 0, 1, 0, 0, 0, 0, 0, 1, 0])"
      ]
     },
     "execution_count": 45,
     "metadata": {},
     "output_type": "execute_result"
    }
   ],
   "source": [
    "y_pred_svm = svmclassifier.predict(X_test_scaled)\n",
    "y_pred_svm"
   ]
  },
  {
   "cell_type": "code",
   "execution_count": 46,
   "id": "c6d0a0f1-8911-4a6a-b23f-513c3893b342",
   "metadata": {},
   "outputs": [
    {
     "data": {
      "text/plain": [
       "array([1, 0, 0, 0, 1, 1, 0, 0, 1, 1, 0, 1, 0, 1, 0, 1, 0, 0, 0, 0, 0, 0,\n",
       "       0, 0, 1, 1, 0, 0, 0, 0, 1, 1, 1, 0, 0, 1, 1, 1, 0, 0, 0, 0, 1, 0,\n",
       "       0, 1, 1, 0, 0, 1, 0, 1, 1, 0, 0, 0, 0, 0, 0, 1, 1, 0, 1, 0, 0, 1,\n",
       "       0, 1, 0, 1, 1, 0, 0, 0, 0, 1, 0, 0, 0, 0, 0, 0, 0, 1, 0, 1, 1, 1,\n",
       "       0, 0, 0, 0, 0, 0, 1, 1, 0, 0, 1, 0, 1, 0, 1, 1, 1, 0, 0, 1, 0, 1,\n",
       "       0, 0, 0, 1, 0, 1, 1, 0, 0, 0, 0, 0, 0, 0, 0, 1, 0, 1, 1, 1, 0, 1,\n",
       "       0, 1, 1, 0, 0, 1, 1, 0, 0, 0, 0, 1, 0, 1, 0, 0, 1, 1, 0, 0, 0, 1,\n",
       "       0, 0, 0, 0, 1, 0, 0, 1, 0, 0, 0, 1, 0, 1, 0, 0, 0, 0, 0, 1, 1, 0,\n",
       "       0, 1, 0, 0, 1, 1, 0, 1, 1, 0, 0, 0, 1, 1, 0, 0, 1, 1, 0, 0, 0, 0,\n",
       "       0, 1, 0, 0, 1, 0, 1, 0, 0, 1, 1, 1, 1, 0, 0, 0, 1, 0, 1, 0, 0, 1,\n",
       "       1, 0, 0, 0, 0, 1, 0, 0, 1, 0, 1, 0, 0, 1, 1, 0, 0, 0, 0, 0, 0, 0,\n",
       "       1, 0, 0, 0, 1, 0, 0, 0, 0, 0, 1, 0])"
      ]
     },
     "execution_count": 46,
     "metadata": {},
     "output_type": "execute_result"
    }
   ],
   "source": [
    "y_pred_bnb = bnbclassifier.predict(X_test_scaled)\n",
    "y_pred_bnb"
   ]
  },
  {
   "cell_type": "code",
   "execution_count": 47,
   "id": "aa928f75-1e60-408a-8be6-1105de571c2c",
   "metadata": {},
   "outputs": [
    {
     "data": {
      "text/plain": [
       "0.7559055118110236"
      ]
     },
     "execution_count": 47,
     "metadata": {},
     "output_type": "execute_result"
    }
   ],
   "source": [
    "accuracy_score(y_test,y_pred)"
   ]
  },
  {
   "cell_type": "code",
   "execution_count": 48,
   "id": "908a9cda-6b7b-4347-9147-4d0ded4e4a7b",
   "metadata": {},
   "outputs": [
    {
     "data": {
      "text/plain": [
       "0.7165354330708661"
      ]
     },
     "execution_count": 48,
     "metadata": {},
     "output_type": "execute_result"
    }
   ],
   "source": [
    "# Decision Tree\n",
    "accuracy_score(y_test,y_pred_tree)"
   ]
  },
  {
   "cell_type": "code",
   "execution_count": 49,
   "id": "440fd0be-4787-40cd-af6e-7eff093a5a70",
   "metadata": {},
   "outputs": [
    {
     "data": {
      "text/plain": [
       "0.7480314960629921"
      ]
     },
     "execution_count": 49,
     "metadata": {},
     "output_type": "execute_result"
    }
   ],
   "source": [
    "# SVM\n",
    "accuracy_score(y_test,y_pred_svm)"
   ]
  },
  {
   "cell_type": "code",
   "execution_count": 50,
   "id": "624a597c-8df1-4439-951d-ef4078441846",
   "metadata": {},
   "outputs": [
    {
     "data": {
      "text/plain": [
       "0.6850393700787402"
      ]
     },
     "execution_count": 50,
     "metadata": {},
     "output_type": "execute_result"
    }
   ],
   "source": [
    "# Naive bayes\n",
    "accuracy_score(y_test,y_pred_bnb)"
   ]
  },
  {
   "cell_type": "code",
   "execution_count": 51,
   "id": "3d9f4208-d233-478c-b57e-019733df6b75",
   "metadata": {},
   "outputs": [
    {
     "data": {
      "text/plain": [
       "array([[143,  25],\n",
       "       [ 37,  49]])"
      ]
     },
     "execution_count": 51,
     "metadata": {},
     "output_type": "execute_result"
    }
   ],
   "source": [
    "conf_mat = confusion_matrix(y_test,y_pred)\n",
    "conf_mat"
   ]
  },
  {
   "cell_type": "code",
   "execution_count": 52,
   "id": "05cf5735-0a65-4de5-9322-b76189b77d50",
   "metadata": {},
   "outputs": [
    {
     "data": {
      "text/plain": [
       "array([[128,  40],\n",
       "       [ 32,  54]])"
      ]
     },
     "execution_count": 52,
     "metadata": {},
     "output_type": "execute_result"
    }
   ],
   "source": [
    "conf_mat_dt = confusion_matrix(y_test,y_pred_tree)\n",
    "conf_mat_dt"
   ]
  },
  {
   "cell_type": "code",
   "execution_count": 53,
   "id": "7ecf66be-d97b-4f38-822b-fc1d9c29e0b5",
   "metadata": {},
   "outputs": [
    {
     "data": {
      "text/plain": [
       "array([[145,  23],\n",
       "       [ 41,  45]])"
      ]
     },
     "execution_count": 53,
     "metadata": {},
     "output_type": "execute_result"
    }
   ],
   "source": [
    "conf_mat_svm = confusion_matrix(y_test,y_pred_svm)\n",
    "conf_mat_svm"
   ]
  },
  {
   "cell_type": "code",
   "execution_count": 54,
   "id": "0f537e70-910c-40f6-8dc5-0c1f2ff1f840",
   "metadata": {},
   "outputs": [
    {
     "data": {
      "text/plain": [
       "array([[124,  44],\n",
       "       [ 36,  50]])"
      ]
     },
     "execution_count": 54,
     "metadata": {},
     "output_type": "execute_result"
    }
   ],
   "source": [
    "conf_mat_bnb = confusion_matrix(y_test,y_pred_bnb)\n",
    "conf_mat_bnb"
   ]
  },
  {
   "cell_type": "code",
   "execution_count": 55,
   "id": "47bbb361-0c0e-494b-b826-6bd73858e888",
   "metadata": {},
   "outputs": [],
   "source": [
    "true_positive = conf_mat[0][0]\n",
    "false_positive = conf_mat[0][1]\n",
    "false_negative = conf_mat[1][0]\n",
    "true_negative = conf_mat[1][1]"
   ]
  },
  {
   "cell_type": "code",
   "execution_count": 56,
   "id": "9d40c238-3406-4cb4-ba33-875b4f6a3357",
   "metadata": {},
   "outputs": [],
   "source": [
    "true_positive_dt = conf_mat_dt[0][0]\n",
    "false_positive_dt = conf_mat_dt[0][1]\n",
    "false_negative_dt = conf_mat_dt[1][0]\n",
    "true_negative_dt = conf_mat_dt[1][1]"
   ]
  },
  {
   "cell_type": "code",
   "execution_count": 57,
   "id": "428da233-e536-4b37-b693-83cc7999e3ea",
   "metadata": {},
   "outputs": [],
   "source": [
    "true_positive_svm = conf_mat_svm[0][0]\n",
    "false_positive_svm = conf_mat_svm[0][1]\n",
    "false_negative_svm = conf_mat_svm[1][0]\n",
    "true_negative_svm = conf_mat_svm[1][1]"
   ]
  },
  {
   "cell_type": "code",
   "execution_count": 58,
   "id": "074414f5-f8f5-4605-bb05-2ec181a5a570",
   "metadata": {},
   "outputs": [],
   "source": [
    "true_positive_bnb = conf_mat_bnb[0][0]\n",
    "false_positive_bnb = conf_mat_bnb[0][1]\n",
    "false_negative_bnb = conf_mat_bnb[1][0]\n",
    "true_negative_bnb = conf_mat_bnb[1][1]"
   ]
  },
  {
   "cell_type": "code",
   "execution_count": 59,
   "id": "53d92aa6-eaca-4424-bc1b-001216b3ae3f",
   "metadata": {},
   "outputs": [
    {
     "data": {
      "text/plain": [
       "0.7559055118110236"
      ]
     },
     "execution_count": 59,
     "metadata": {},
     "output_type": "execute_result"
    }
   ],
   "source": [
    "# Model Accuracy\n",
    "accuracy = (true_positive + true_negative)/(true_positive + false_positive + false_negative + true_negative)\n",
    "accuracy"
   ]
  },
  {
   "cell_type": "code",
   "execution_count": 60,
   "id": "9df34db1-27d3-4651-8111-6169423e9486",
   "metadata": {},
   "outputs": [
    {
     "data": {
      "text/plain": [
       "0.7165354330708661"
      ]
     },
     "execution_count": 60,
     "metadata": {},
     "output_type": "execute_result"
    }
   ],
   "source": [
    "# Decision tree\n",
    "accuracy_dt = (true_positive_dt + true_negative_dt)/(true_positive_dt + false_positive_dt + false_negative_dt + true_negative_dt)\n",
    "accuracy_dt"
   ]
  },
  {
   "cell_type": "code",
   "execution_count": 61,
   "id": "51fe08f6-7fd1-4803-a585-dd3905ec829a",
   "metadata": {},
   "outputs": [
    {
     "data": {
      "text/plain": [
       "0.7480314960629921"
      ]
     },
     "execution_count": 61,
     "metadata": {},
     "output_type": "execute_result"
    }
   ],
   "source": [
    "# SVM\n",
    "accuracy_svm = (true_positive_svm + true_negative_svm)/(true_positive_svm + false_positive_svm + false_negative_svm + true_negative_svm)\n",
    "accuracy_svm"
   ]
  },
  {
   "cell_type": "code",
   "execution_count": 62,
   "id": "f0822f4c-c720-4142-8465-8c00d526f7db",
   "metadata": {},
   "outputs": [
    {
     "data": {
      "text/plain": [
       "0.6850393700787402"
      ]
     },
     "execution_count": 62,
     "metadata": {},
     "output_type": "execute_result"
    }
   ],
   "source": [
    "# Naive bayes\n",
    "accuracy_bnb = (true_positive_bnb + true_negative_bnb)/(true_positive_bnb + false_positive_bnb + false_negative_bnb + true_negative_bnb)\n",
    "accuracy_bnb"
   ]
  },
  {
   "cell_type": "code",
   "execution_count": 63,
   "id": "0801c037-b6bb-4d3f-902a-82b0ec088be6",
   "metadata": {},
   "outputs": [
    {
     "data": {
      "text/plain": [
       "0.8511904761904762"
      ]
     },
     "execution_count": 63,
     "metadata": {},
     "output_type": "execute_result"
    }
   ],
   "source": [
    "# Precision\n",
    "precision = true_positive/(true_positive + false_positive)\n",
    "precision"
   ]
  },
  {
   "cell_type": "code",
   "execution_count": 64,
   "id": "5b7a6691-d585-4d06-84e3-5a5b8bc56260",
   "metadata": {},
   "outputs": [
    {
     "data": {
      "text/plain": [
       "0.7619047619047619"
      ]
     },
     "execution_count": 64,
     "metadata": {},
     "output_type": "execute_result"
    }
   ],
   "source": [
    "precision_dt = true_positive_dt/(true_positive_dt + false_positive_dt)\n",
    "precision_dt"
   ]
  },
  {
   "cell_type": "code",
   "execution_count": 65,
   "id": "e08c113e-2ed6-4dbb-86b8-be5a9017deec",
   "metadata": {},
   "outputs": [
    {
     "data": {
      "text/plain": [
       "0.8630952380952381"
      ]
     },
     "execution_count": 65,
     "metadata": {},
     "output_type": "execute_result"
    }
   ],
   "source": [
    "precision_svm = true_positive_svm/(true_positive_svm + false_positive_svm)\n",
    "precision_svm"
   ]
  },
  {
   "cell_type": "code",
   "execution_count": 66,
   "id": "b9981edb-cb88-4827-a3ad-6c9140f047c7",
   "metadata": {},
   "outputs": [
    {
     "data": {
      "text/plain": [
       "0.7380952380952381"
      ]
     },
     "execution_count": 66,
     "metadata": {},
     "output_type": "execute_result"
    }
   ],
   "source": [
    "precision_bnb = true_positive_bnb/(true_positive_bnb + false_positive_bnb)\n",
    "precision_bnb"
   ]
  },
  {
   "cell_type": "code",
   "execution_count": 67,
   "id": "bb6c712f-c4b3-4ca2-bc69-cdd22838e622",
   "metadata": {},
   "outputs": [
    {
     "data": {
      "text/plain": [
       "0.7944444444444444"
      ]
     },
     "execution_count": 67,
     "metadata": {},
     "output_type": "execute_result"
    }
   ],
   "source": [
    "# Recall\n",
    "recall = true_positive/(true_positive + false_negative)\n",
    "recall"
   ]
  },
  {
   "cell_type": "code",
   "execution_count": 68,
   "id": "345aaf27-3f07-4aa8-8084-c58d04725e16",
   "metadata": {},
   "outputs": [
    {
     "data": {
      "text/plain": [
       "0.8"
      ]
     },
     "execution_count": 68,
     "metadata": {},
     "output_type": "execute_result"
    }
   ],
   "source": [
    "recall_dt = true_positive_dt/(true_positive_dt + false_negative_dt)\n",
    "recall_dt"
   ]
  },
  {
   "cell_type": "code",
   "execution_count": 69,
   "id": "5699de08-d0da-4f94-b579-0f7a568fe83b",
   "metadata": {},
   "outputs": [
    {
     "data": {
      "text/plain": [
       "0.7795698924731183"
      ]
     },
     "execution_count": 69,
     "metadata": {},
     "output_type": "execute_result"
    }
   ],
   "source": [
    "recall_svm = true_positive_svm/(true_positive_svm + false_negative_svm)\n",
    "recall_svm"
   ]
  },
  {
   "cell_type": "code",
   "execution_count": 70,
   "id": "4106b909-4777-497f-9009-999b3bc53935",
   "metadata": {},
   "outputs": [
    {
     "data": {
      "text/plain": [
       "0.775"
      ]
     },
     "execution_count": 70,
     "metadata": {},
     "output_type": "execute_result"
    }
   ],
   "source": [
    "recall_bnb = true_positive_bnb/(true_positive_bnb + false_negative_bnb)\n",
    "recall_bnb"
   ]
  },
  {
   "cell_type": "code",
   "execution_count": 71,
   "id": "ce884f31-fe7b-415a-8fed-5f625ba79b7c",
   "metadata": {},
   "outputs": [
    {
     "data": {
      "text/plain": [
       "0.82183908045977"
      ]
     },
     "execution_count": 71,
     "metadata": {},
     "output_type": "execute_result"
    }
   ],
   "source": [
    "# F1 Score\n",
    "f1_score = 2 * (precision * recall)/(precision + recall)\n",
    "f1_score"
   ]
  },
  {
   "cell_type": "code",
   "execution_count": 72,
   "id": "81021586-5dbd-4f77-8115-e7fea07f6f5a",
   "metadata": {},
   "outputs": [
    {
     "data": {
      "text/plain": [
       "0.7804878048780488"
      ]
     },
     "execution_count": 72,
     "metadata": {},
     "output_type": "execute_result"
    }
   ],
   "source": [
    "f1_score_dt = 2 * (precision_dt * recall_dt)/(precision_dt + recall_dt)\n",
    "f1_score_dt"
   ]
  },
  {
   "cell_type": "code",
   "execution_count": 73,
   "id": "9a3398d0-3006-414f-a3b9-919ee9af3afc",
   "metadata": {},
   "outputs": [
    {
     "data": {
      "text/plain": [
       "0.8192090395480226"
      ]
     },
     "execution_count": 73,
     "metadata": {},
     "output_type": "execute_result"
    }
   ],
   "source": [
    "f1_score_svm = 2 * (precision_svm * recall_svm)/(precision_svm + recall_svm)\n",
    "f1_score_svm"
   ]
  },
  {
   "cell_type": "code",
   "execution_count": 74,
   "id": "a99db9e7-c31c-468e-ad7f-675a298ef660",
   "metadata": {},
   "outputs": [
    {
     "data": {
      "text/plain": [
       "0.7560975609756099"
      ]
     },
     "execution_count": 74,
     "metadata": {},
     "output_type": "execute_result"
    }
   ],
   "source": [
    "f1_score_bnb = 2 * (precision_bnb * recall_bnb)/(precision_bnb + recall_bnb)\n",
    "f1_score_bnb"
   ]
  },
  {
   "cell_type": "code",
   "execution_count": 76,
   "id": "53b816f3-a51d-4b9c-ae28-f4f308972deb",
   "metadata": {},
   "outputs": [],
   "source": [
    "file = open('SVM.pkl','wb')\n",
    "pickle.dump(svmclassifier,file)\n",
    "file.close()"
   ]
  }
 ],
 "metadata": {
  "kernelspec": {
   "display_name": "Python 3.8.10 64-bit",
   "language": "python",
   "name": "python3"
  },
  "language_info": {
   "codemirror_mode": {
    "name": "ipython",
    "version": 3
   },
   "file_extension": ".py",
   "mimetype": "text/x-python",
   "name": "python",
   "nbconvert_exporter": "python",
   "pygments_lexer": "ipython3",
   "version": "3.8.10"
  },
  "vscode": {
   "interpreter": {
    "hash": "e7370f93d1d0cde622a1f8e1c04877d8463912d04d973331ad4851f04de6915a"
   }
  }
 },
 "nbformat": 4,
 "nbformat_minor": 5
}
